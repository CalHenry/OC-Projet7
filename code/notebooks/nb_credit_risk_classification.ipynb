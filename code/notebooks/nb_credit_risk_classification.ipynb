{
 "cells": [
  {
   "cell_type": "markdown",
   "metadata": {},
   "source": [
    "## P7 - Prep the data "
   ]
  },
  {
   "cell_type": "markdown",
   "metadata": {},
   "source": [
    "---"
   ]
  },
  {
   "cell_type": "code",
   "execution_count": 1,
   "metadata": {},
   "outputs": [],
   "source": [
    "import random\n",
    "import numpy as np\n",
    "import pandas as pd\n",
    "\n",
    "import matplotlib.pyplot as plt\n",
    "import seaborn as sns\n",
    "\n",
    "from tqdm import tqdm\n",
    "\n",
    "from rich.pretty import pprint\n",
    "\n",
    "%load_ext rich\n",
    "\n",
    "import warnings\n",
    "\n",
    "warnings.filterwarnings(\"ignore\")\n"
   ]
  },
  {
   "cell_type": "markdown",
   "metadata": {},
   "source": [
    "---"
   ]
  },
  {
   "cell_type": "markdown",
   "metadata": {},
   "source": [
    "## Kernel Kaggle"
   ]
  },
  {
   "cell_type": "markdown",
   "metadata": {},
   "source": [
    "#### Load and prepare data"
   ]
  },
  {
   "cell_type": "code",
   "execution_count": null,
   "metadata": {},
   "outputs": [
    {
     "name": "stdout",
     "output_type": "stream",
     "text": [
      "Training data shape:  (307511, 122)\n",
      "Testing data shape:  (48744, 121)\n"
     ]
    }
   ],
   "source": [
    "def load_data(filepath, label, print_shape=True):\n",
    "    \"\"\"Load data and print its shape.\"\"\"\n",
    "    data = pd.read_csv(filepath)\n",
    "    if print_shape:\n",
    "        print(f\"{label} data shape: \", data.shape)\n",
    "    return data\n",
    "\n",
    "\n",
    "def add_feature_engineering(df):\n",
    "    \"\"\"Add feature engineering columns to the DataFrame.\"\"\"\n",
    "    df[\"CREDIT_INCOME_PERCENT\"] = df[\"AMT_CREDIT\"] / df[\"AMT_INCOME_TOTAL\"]\n",
    "    df[\"ANNUITY_INCOME_PERCENT\"] = df[\"AMT_ANNUITY\"] / df[\"AMT_INCOME_TOTAL\"]\n",
    "    df[\"CREDIT_TERM\"] = df[\"AMT_ANNUITY\"] / df[\"AMT_CREDIT\"]\n",
    "    df[\"DAYS_EMPLOYED_PERCENT\"] = df[\"DAYS_EMPLOYED\"] / df[\"DAYS_BIRTH\"]\n",
    "    return df\n",
    "\n",
    "\n",
    "def handle_anomalous_days_employed(df):\n",
    "    \"\"\"Handle anomalous values in the DAYS_EMPLOYED column\"\"\"\n",
    "    df[\"DAYS_EMPLOYED_ANOM\"] = df[\"DAYS_EMPLOYED\"] == 365243\n",
    "    df[\"DAYS_EMPLOYED\"].replace({365243: np.nan})\n",
    "    df[\"DAYS_EMPLOYED_ANOM\"] = df[\"DAYS_EMPLOYED_ANOM\"].astype(\"int32\")\n",
    "    return df\n",
    "\n",
    "\n",
    "# Load training and testing data\n",
    "app_train = load_data(\"../../data/raw/application_train.csv\", \"Training\")\n",
    "app_test = load_data(\"../../data/raw/application_test.csv\", \"Testing\")\n",
    "\n",
    "# Copy data for feature engineering\n",
    "app_train_domain = app_train.copy()\n",
    "app_test_domain = app_test.copy()\n",
    "\n",
    "# Add feature engineering columns\n",
    "app_train_domain = add_feature_engineering(app_train_domain)\n",
    "app_test_domain = add_feature_engineering(app_test_domain)\n",
    "\n",
    "# Handle anomalous values in DAYS_EMPLOYED\n",
    "app_train_domain = handle_anomalous_days_employed(app_train_domain)\n",
    "app_test_domain = handle_anomalous_days_employed(app_test_domain)"
   ]
  },
  {
   "cell_type": "code",
   "execution_count": 121,
   "metadata": {},
   "outputs": [],
   "source": [
    "from sklearn.pipeline import Pipeline\n",
    "from sklearn.impute import SimpleImputer\n",
    "from sklearn.preprocessing import MinMaxScaler, OneHotEncoder\n",
    "from sklearn.compose import ColumnTransformer\n",
    "\n",
    "\n",
    "def cleaning(features, test_features, print_shape=True):\n",
    "    \"\"\"Fonction cleaning finale using sklearn Pipeline\"\"\"\n",
    "    # Extract the labels for training\n",
    "    labels = features[\"TARGET\"]\n",
    "\n",
    "    # # Remove the ids and target\n",
    "    if \"SK_ID_CURR\" in features.columns:\n",
    "        features = features.drop(columns=[\"SK_ID_CURR\", \"TARGET\"])\n",
    "    else:\n",
    "        features = features.drop(columns=[\"TARGET\"])\n",
    "\n",
    "    if \"SK_ID_CURR\" in test_features.columns:\n",
    "        test_features = test_features.drop(columns=[\"SK_ID_CURR\"])\n",
    "\n",
    "    categorical_columns = features.select_dtypes(\n",
    "        include=[\"object\", \"category\"]\n",
    "    ).columns.tolist()\n",
    "    numerical_columns = features.select_dtypes(\n",
    "        include=[\"int64\", \"float64\"]\n",
    "    ).columns.tolist()\n",
    "\n",
    "    # preprocessing pipelines\n",
    "    numerical_pipeline = Pipeline(\n",
    "        [\n",
    "            (\"imputer\", SimpleImputer(strategy=\"median\")),\n",
    "            (\"scaler\", MinMaxScaler(feature_range=(0, 1))),\n",
    "        ]\n",
    "    )\n",
    "\n",
    "    categorical_pipeline = Pipeline(\n",
    "        [\n",
    "            (\"imputer\", SimpleImputer(strategy=\"most_frequent\")),\n",
    "            (\"encoder\", OneHotEncoder(sparse_output=False, handle_unknown=\"ignore\")),\n",
    "        ]\n",
    "    )\n",
    "\n",
    "    # Combine the preprocessing pipelines\n",
    "    preprocessor = ColumnTransformer(\n",
    "        [\n",
    "            (\"numerical\", numerical_pipeline, numerical_columns),\n",
    "            (\"categorical\", categorical_pipeline, categorical_columns),\n",
    "        ]\n",
    "    )\n",
    "\n",
    "    # Fit the preprocessor to the training data and transform both datasets\n",
    "    features_transformed = preprocessor.fit_transform(features)\n",
    "    test_features_transformed = preprocessor.transform(test_features)\n",
    "\n",
    "    # Get feature names after one-hot encoding\n",
    "    # First, get numerical feature names directly\n",
    "    feature_names = numerical_columns.copy()\n",
    "\n",
    "    # Then add categorical feature names after one-hot encoding\n",
    "    if categorical_columns:\n",
    "        ohe = preprocessor.named_transformers_[\"categorical\"].named_steps[\"encoder\"]\n",
    "        categorical_feature_names = ohe.get_feature_names_out(categorical_columns)\n",
    "        feature_names.extend(categorical_feature_names)\n",
    "\n",
    "    if print_shape:\n",
    "        print(\"Training Data Shape: \", features_transformed.shape)\n",
    "        print(\"Testing Data Shape: \", test_features_transformed.shape)\n",
    "\n",
    "    return (\n",
    "        feature_names,\n",
    "        labels,\n",
    "        features_transformed,\n",
    "        test_features_transformed,\n",
    "        preprocessor,\n",
    "    )"
   ]
  },
  {
   "cell_type": "code",
   "execution_count": 123,
   "metadata": {},
   "outputs": [
    {
     "name": "stdout",
     "output_type": "stream",
     "text": [
      "Training Data Shape:  (307511, 248)\n",
      "Testing Data Shape:  (48744, 248)\n"
     ]
    }
   ],
   "source": [
    "liste_features, y_train, X_train, X_test, pipeline = cleaning(\n",
    "    app_train_domain, app_test_domain\n",
    ")\n",
    "\n",
    "train_final = pd.DataFrame(X_train, columns=liste_features)\n",
    "train_final[\"LABELS\"] = y_train\n",
    "\n",
    "test_final = pd.DataFrame(X_test, columns=liste_features)"
   ]
  },
  {
   "cell_type": "markdown",
   "metadata": {},
   "source": [
    "We create a test and train set from the train and test set we obtain.  \n",
    "\n",
    "We don't have true label for the test set, thus we will use the train set to train and evaluate our models.  \n",
    "To do so, we split it into train and test.  \n",
    "We will create **X_train_split**, **y_train_split**, **X_val** and **y_val**"
   ]
  },
  {
   "cell_type": "code",
   "execution_count": 6,
   "metadata": {},
   "outputs": [],
   "source": [
    "from sklearn.model_selection import train_test_split\n",
    "\n",
    "X_train_split, X_val, y_train_split, y_val = train_test_split(\n",
    "    X_train, y_train, test_size=0.2, random_state=42\n",
    ")"
   ]
  },
  {
   "cell_type": "markdown",
   "metadata": {},
   "source": [
    "---"
   ]
  },
  {
   "cell_type": "markdown",
   "metadata": {},
   "source": [
    "## Models"
   ]
  },
  {
   "cell_type": "markdown",
   "metadata": {},
   "source": [
    "---"
   ]
  },
  {
   "cell_type": "code",
   "execution_count": 7,
   "metadata": {},
   "outputs": [],
   "source": [
    "from sklearn.model_selection import GridSearchCV, RandomizedSearchCV\n",
    "from scipy.stats import uniform, randint\n",
    "from sklearn.metrics import (\n",
    "    precision_score,\n",
    "    recall_score,\n",
    "    make_scorer,\n",
    "    fbeta_score,\n",
    "    roc_auc_score,\n",
    "    confusion_matrix,\n",
    ")\n",
    "from imblearn.pipeline import Pipeline\n",
    "from imblearn.over_sampling import SMOTE\n",
    "\n",
    "\n",
    "# Model class\n",
    "class Model:\n",
    "    def __init__(self, name, estimator, params):\n",
    "        \"\"\"\n",
    "        Parameters:\n",
    "        - name: str, name of the model\n",
    "        - estimator: sklearn estimator object\n",
    "        - params: dict, parameters for grid search\n",
    "        \"\"\"\n",
    "\n",
    "        self.name = name\n",
    "        self.estimator = estimator\n",
    "        self.params = params\n",
    "        self.best_model = None\n",
    "\n",
    "        self.X_train = None\n",
    "        self.X_test = None\n",
    "        self.y_train = None\n",
    "        self.y_test = None\n",
    "        self.y_pred = None\n",
    "        self.y_pred_binary = None\n",
    "\n",
    "        self.results = None\n",
    "        self.best_threshold = None\n",
    "        self.min_cost = None\n",
    "\n",
    "    def load_data(self, X_train, X_test, y_train, y_test):\n",
    "        \"\"\"Load training and testing data.\"\"\"\n",
    "        self.X_train = X_train\n",
    "        self.X_test = X_test\n",
    "        self.y_train = y_train\n",
    "        self.y_test = y_test\n",
    "\n",
    "    def find_best_params(self, cv=5, beta=10, search_type=\"grid\", use_smote=False):\n",
    "        \"\"\"\n",
    "        2 methods: GridSearchCV or RandomizedSearchCV\n",
    "        Possibility to use oversampling with SMOTE in an integrated pipeline to avoid data leakage\n",
    "        \"\"\"\n",
    "        self.beta = beta\n",
    "\n",
    "        if self.X_train is None or self.y_train is None:\n",
    "            raise ValueError(\"Data not loaded yet. Call load_data first.\")\n",
    "\n",
    "        # The best parameters will maximize the fbeta_scorer\n",
    "        fbeta_scorer = make_scorer(fbeta_score, beta=beta)\n",
    "\n",
    "        # simple pipeline\n",
    "        steps = []\n",
    "        if use_smote:\n",
    "            steps.append((\"smote\", SMOTE()))  # Add SMOTE if use_smote is True\n",
    "        steps.append((\"estimator\", self.estimator))\n",
    "\n",
    "        # Create the pipeline\n",
    "        pipeline = Pipeline(steps)\n",
    "\n",
    "        if search_type == \"grid_search\":\n",
    "            param_grid = {\n",
    "                f\"estimator__{param}\": config[\"values\"]\n",
    "                for param, config in self.params.items()\n",
    "            }\n",
    "\n",
    "            search = GridSearchCV(\n",
    "                estimator=pipeline,\n",
    "                param_grid=param_grid,\n",
    "                cv=cv,\n",
    "                scoring=fbeta_scorer,\n",
    "                n_jobs=6,\n",
    "            )\n",
    "\n",
    "        elif search_type == \"random_search\":\n",
    "            param_distributions = {}\n",
    "            for param, config in self.params.items():\n",
    "                if config[\"type\"] == \"int\":\n",
    "                    param_distributions[f\"estimator__{param}\"] = randint(\n",
    "                        config[\"min\"], config[\"max\"] + 1\n",
    "                    )\n",
    "                elif config[\"type\"] == \"float\":\n",
    "                    param_distributions[f\"estimator__{param}\"] = uniform(\n",
    "                        config[\"min\"], config[\"max\"] - config[\"min\"]\n",
    "                    )\n",
    "                elif config[\"type\"] == \"str\":\n",
    "                    param_distributions[f\"estimator__{param}\"] = config[\"values\"]\n",
    "\n",
    "            search = RandomizedSearchCV(\n",
    "                estimator=pipeline,\n",
    "                param_distributions=param_distributions,\n",
    "                cv=cv,\n",
    "                scoring=fbeta_scorer,\n",
    "                n_iter=100,  # Randomized search is 'always' better than grid search if n_iter is > 90\n",
    "                n_jobs=-4,\n",
    "            )\n",
    "\n",
    "        else:\n",
    "            raise ValueError(\n",
    "                \"search_type must be 'grid_search' or 'random_search' for GridSearchCV or RandomizedSearchCV\"\n",
    "            )\n",
    "\n",
    "        search.fit(self.X_train, self.y_train)\n",
    "        self.best_model = search.best_estimator_.steps[0][1]\n",
    "\n",
    "        return {\n",
    "            \"best_params\": search.best_params_,\n",
    "            \"best_score (fβ)\": search.best_score_,\n",
    "        }\n",
    "\n",
    "    def predict_proba(self):\n",
    "        # Get predictions as probabilities\n",
    "        y_pred = self.best_model.predict_proba(self.X_test)\n",
    "        self.y_pred = y_pred\n",
    "\n",
    "    def find_optimal_threshold_for_min_cost(self, cost_fn=10, cost_fp=1):\n",
    "        \"\"\"\n",
    "        Minize the total cost given the simple formula.\n",
    "        Find the best threshold given the minimized total cost\n",
    "        :param desired_fnr: targeted False Negative Rate (FNR).\n",
    "        \"\"\"\n",
    "        # Get predictions as probabilities\n",
    "        self.predict_proba()\n",
    "\n",
    "        thresholds = np.linspace(0, 1, 1000)\n",
    "        min_cost = float(\"inf\")\n",
    "        best_threshold = 0.5\n",
    "\n",
    "        for threshold in thresholds:\n",
    "            y_pred_binary = (self.y_pred[:, 1] >= threshold).astype(int)\n",
    "            tn, fp, fn, tp = confusion_matrix(self.y_test, y_pred_binary).ravel()\n",
    "\n",
    "            # Simple cost function that directly depends on the costs ratios to determine the importance of FP or FN.\n",
    "            # In our case, a False Negative cost much ore that a False positive.\n",
    "            total_cost = (fp * cost_fp) + (fn * cost_fn)\n",
    "\n",
    "            if total_cost < min_cost:\n",
    "                min_cost = total_cost\n",
    "                best_threshold = threshold\n",
    "                best_y_pred_binary = y_pred_binary\n",
    "\n",
    "        y_pred_binary = (self.y_pred[:, 1] >= best_threshold).astype(int)\n",
    "\n",
    "        self.y_pred_binary = best_y_pred_binary\n",
    "        self.best_threshold = best_threshold\n",
    "        self.min_cost = min_cost\n",
    "\n",
    "        print(f\"best_threshold: {best_threshold:.4f}, minimized cost: {min_cost:.4f}\")\n",
    "\n",
    "    def evaluate(self, metrics=None):\n",
    "        \"\"\"\n",
    "        Evaluate the best model on the test set using multiple metrics.\n",
    "        Parameters: metrics : List of metric names to calculate'\n",
    "        Returns: Dictionary containing the scores for all requested metrics\n",
    "        \"\"\"\n",
    "        if self.best_model is None:\n",
    "            raise ValueError(\"Model not trained yet. Call find_best_params first.\")\n",
    "\n",
    "        results = {}\n",
    "\n",
    "        if metrics is None:\n",
    "            metrics = [\"fbeta\", \"precision\", \"recall\", \"roc_auc\"]\n",
    "\n",
    "        # Calculate requested metrics\n",
    "        for metric in metrics:\n",
    "            if metric == \"fbeta\":\n",
    "                results[\"fbeta\"] = fbeta_score(\n",
    "                    self.y_test, self.y_pred_binary, beta=self.beta\n",
    "                )\n",
    "            elif metric == \"precision\":\n",
    "                results[\"precision\"] = precision_score(self.y_test, self.y_pred_binary)\n",
    "            elif metric == \"recall\":\n",
    "                results[\"recall\"] = recall_score(self.y_test, self.y_pred_binary)\n",
    "            elif metric == \"roc_auc\":\n",
    "                results[\"roc_auc\"] = roc_auc_score(self.y_test, self.y_pred_binary)\n",
    "\n",
    "        print(f\"(β={self.beta}) score: {results}\")\n",
    "\n",
    "        self.results = results\n",
    "\n",
    "    def get_model_info(self):\n",
    "        \"\"\"\n",
    "        Returns a dictionary containing the model's information.\n",
    "        \"\"\"\n",
    "        return {\n",
    "            \"name\": self.name,\n",
    "            \"estimator\": self.estimator,\n",
    "            \"params\": self.params,\n",
    "            \"best_model\": self.best_model,\n",
    "            \"X_train\": self.X_train,\n",
    "            \"X_test\": self.X_test,\n",
    "            \"y_train\": self.y_train,\n",
    "            \"y_pred\": self.y_pred,\n",
    "            \"y_pred_binary\": self.y_pred_binary,\n",
    "            \"results\": self.results,\n",
    "            \"min_cost\": self.min_cost,\n",
    "            \"best_threshold\": self.best_threshold,\n",
    "        }\n"
   ]
  },
  {
   "cell_type": "markdown",
   "metadata": {},
   "source": [
    "5 steps :  \n",
    "1. load data with **.load_data**   \n",
    "2. find best params with GridSearchCV using **.find_best_params**  \n",
    "3. get the minimized cost for the best_model and the corresponding classification threshold with **.find_optimal_threshold_for_min_cost**  \n",
    "4. evaluate on test set with **.evaluate**  \n",
    "5. Retreive the info for each model wth the **.get_model_info** (usefull to log into mlflow)  \n"
   ]
  },
  {
   "cell_type": "code",
   "execution_count": 8,
   "metadata": {},
   "outputs": [],
   "source": [
    "from sklearn.dummy import DummyClassifier\n",
    "from sklearn.linear_model import LogisticRegression\n",
    "from sklearn.ensemble import RandomForestClassifier\n",
    "from lightgbm import LGBMClassifier"
   ]
  },
  {
   "cell_type": "code",
   "execution_count": 9,
   "metadata": {},
   "outputs": [],
   "source": [
    "dummy_model = Model(\n",
    "    name=\"Dummy Classifier\",\n",
    "    estimator=DummyClassifier(random_state=42),\n",
    "    params={\n",
    "        \"strategy\": {\n",
    "            \"type\": \"str\",\n",
    "            \"values\": [\"most_frequent\", \"stratified\", \"uniform\"],\n",
    "        }\n",
    "    },\n",
    ")\n",
    "\n",
    "logistic_model = Model(\n",
    "    name=\"Logistic Regression\",\n",
    "    estimator=LogisticRegression(random_state=42, verbose=1, n_jobs=1),\n",
    "    params={\n",
    "        \"C\": {\"type\": \"float\", \"values\": np.logspace(0, 1, num=10).tolist()},\n",
    "        \"tol\": {\"type\": \"int\", \"values\": [0.001, 0.01]},\n",
    "    },\n",
    ")\n",
    "\n",
    "random_forest = Model(\n",
    "    name=\"Random_forest_classifier\",\n",
    "    estimator=RandomForestClassifier(random_state=42, verbose=1, n_jobs=1),\n",
    "    params={\n",
    "        \"n_estimators\": {\n",
    "            \"type\": \"int\",\n",
    "            \"min\": 100,\n",
    "            \"max\": 200,\n",
    "            \"values\": [100, 200],\n",
    "        },\n",
    "        \"min_samples_split\": {\n",
    "            \"type\": \"int\",\n",
    "            \"min\": 2,\n",
    "            \"max\": 5,\n",
    "            \"values\": [2, 3, 5],\n",
    "        },\n",
    "        \"min_samples_leaf\": {\n",
    "            \"type\": \"int\",\n",
    "            \"min\": 1,\n",
    "            \"max\": 3,\n",
    "            \"values\": [1, 2, 3],\n",
    "        },\n",
    "    },\n",
    ")\n",
    "\n",
    "lgbm_model = Model(\n",
    "    name=\"LightGBM Classifier\",\n",
    "    estimator=LGBMClassifier(random_state=42, n_jobs=1, verbose=-1),\n",
    "    params={\n",
    "        \"learning_rate\": {\n",
    "            \"type\": \"float\",\n",
    "            \"values\": [0.01, 0.05, 0.1],\n",
    "            \"min\": 0.01,\n",
    "            \"max\": 0.1,\n",
    "        },\n",
    "        \"n_estimators\": {\"type\": \"int\", \"values\": [100, 200], \"min\": 100, \"max\": 200},\n",
    "        \"max_depth\": {\"type\": \"int\", \"values\": [3, 5, 7], \"min\": 3, \"max\": 7},\n",
    "    },\n",
    ")\n",
    "# n_jobs are set to 1 to avoid nested parallelization between the model's n_job and the grid_search one.\n",
    "# Parallelization is done at the gridsearch level."
   ]
  },
  {
   "cell_type": "markdown",
   "metadata": {},
   "source": []
  },
  {
   "cell_type": "code",
   "execution_count": 76,
   "metadata": {},
   "outputs": [],
   "source": [
    "def process_model(\n",
    "    model_name, beta=10, search_type=\"grid_search\", cost_fn=10, cost_fp=1\n",
    "):\n",
    "    \"\"\"All the steps to do to run the different functions of the class Model, and to get the results\"\"\"\n",
    "\n",
    "    # 1. Load the data\n",
    "    model_name.load_data(X_train_split, X_val, y_train_split, y_val)\n",
    "\n",
    "    # 2. Find best parameters\n",
    "    best_params = model_name.find_best_params(beta=beta, search_type=search_type)\n",
    "    pprint(best_params)\n",
    "    print(f\"{model_name.name}:\")\n",
    "\n",
    "    # 3. Min cost and optimal threshold\n",
    "    model_name.find_optimal_threshold_for_min_cost(cost_fn=cost_fn, cost_fp=cost_fp)\n",
    "\n",
    "    # 4. Evaluate the model\n",
    "    model_name.evaluate()\n"
   ]
  },
  {
   "cell_type": "code",
   "execution_count": 62,
   "metadata": {},
   "outputs": [
    {
     "name": "stdout",
     "output_type": "stream",
     "text": [
      "\u001b[1m{\u001b[0m\n",
      "\u001b[2;32m│   \u001b[0m\u001b[32m'best_params'\u001b[0m: \u001b[1m{\u001b[0m\u001b[32m'estimator__strategy'\u001b[0m: \u001b[32m'uniform'\u001b[0m\u001b[1m}\u001b[0m,\n",
      "\u001b[2;32m│   \u001b[0m\u001b[32m'best_score \u001b[0m\u001b[32m(\u001b[0m\u001b[32mfβ\u001b[0m\u001b[32m)\u001b[0m\u001b[32m'\u001b[0m: \u001b[1;35mnp.float64\u001b[0m\u001b[1m(\u001b[0m\u001b[1;36m0.47609782575933635\u001b[0m\u001b[1m)\u001b[0m\n",
      "\u001b[1m}\u001b[0m\n",
      "Dummy Classifier:\n",
      "best_threshold: 0.5005, minimized cost: 49490.0000\n",
      "(β=10) score: {'fbeta': 0.0, 'precision': 0.0, 'recall': 0.0, 'roc_auc': np.float64(0.5)}\n"
     ]
    }
   ],
   "source": [
    "# 1. Load the data\n",
    "dummy_model.load_data(X_train_split, X_val, y_train_split, y_val)\n",
    "\n",
    "# 2. Find best parameters\n",
    "print(f\"{dummy_model.name}:\")\n",
    "pprint(dummy_model.find_best_params(beta=10, search_type=\"random_search\"))\n",
    "\n",
    "# 3. min cost and optimal threshold\n",
    "dummy_model.find_optimal_threshold_for_min_cost(cost_fn=10, cost_fp=1)\n",
    "\n",
    "# 4. evalutate the model\n",
    "dummy_model.evaluate()"
   ]
  },
  {
   "cell_type": "code",
   "execution_count": 69,
   "metadata": {},
   "outputs": [
    {
     "name": "stdout",
     "output_type": "stream",
     "text": [
      "Logistic Regression:\n",
      "\u001b[1m{\u001b[0m\n",
      "\u001b[2;32m│   \u001b[0m\u001b[32m'best_params'\u001b[0m: \u001b[1m{\u001b[0m\u001b[32m'C'\u001b[0m: \u001b[1;36m4.641588833612778\u001b[0m, \u001b[32m'tol'\u001b[0m: \u001b[1;36m0.001\u001b[0m\u001b[1m}\u001b[0m,\n",
      "\u001b[2;32m│   \u001b[0m\u001b[32m'best_score'\u001b[0m: \u001b[1;35mnp.float64\u001b[0m\u001b[1m(\u001b[0m\u001b[1;36m0.01016076607046979\u001b[0m\u001b[1m)\u001b[0m\n",
      "\u001b[1m}\u001b[0m\n",
      "best_threshold: 0.1041, minimized cost: 33925.0000\n",
      "(β=10) score: {'fbeta': 0.5480332940338708, 'precision': 0.1861247560729426, 'recall': 0.5589007880379875, 'roc_auc': np.float64(0.6725171974281249)}\n"
     ]
    }
   ],
   "source": [
    "# 1. Load the data\n",
    "logistic_model.load_data(X_train_split, X_val, y_train_split, y_val)\n",
    "\n",
    "# 2. Find best parameters\n",
    "print(f\"{logistic_model.name}:\")\n",
    "pprint(logistic_model.find_best_params(beta=10, search_type=\"grid_search\"))\n",
    "\n",
    "# 3. min cost and optimal threshold\n",
    "logistic_model.find_optimal_threshold_for_min_cost(cost_fn=10, cost_fp=1)\n",
    "\n",
    "# 4. evalutate the model\n",
    "logistic_model.evaluate()"
   ]
  },
  {
   "cell_type": "code",
   "execution_count": null,
   "metadata": {},
   "outputs": [
    {
     "data": {
      "image/png": "[encoded data removed]",
      "text/plain": [
       "\u001b[1m<\u001b[0m\u001b[1;95mFigure\u001b[0m\u001b[39m size 80\u001b[0m\u001b[1;36m0x550\u001b[0m\u001b[39m with \u001b[0m\u001b[1;36m1\u001b[0m\u001b[39m Axes\u001b[0m\u001b[1m>\u001b[0m"
      ]
     },
     "metadata": {},
     "output_type": "display_data"
    },
    {
     "data": {
      "text/plain": [
       "\u001b[1m<\u001b[0m\u001b[1;95mAxes:\u001b[0m\u001b[39m \u001b[0m\u001b[33mtitle\u001b[0m\u001b[39m=\u001b[0m\u001b[1;39m{\u001b[0m\u001b[32m'center'\u001b[0m\u001b[39m: \u001b[0m\u001b[32m'Threshold Plot for LogisticRegression'\u001b[0m\u001b[1;39m}\u001b[0m\u001b[39m, \u001b[0m\u001b[33mxlabel\u001b[0m\u001b[39m=\u001b[0m\u001b[32m'discrimination threshold'\u001b[0m\u001b[39m, \u001b[0m\u001b[33mylabel\u001b[0m\u001b[39m=\u001b[0m\u001b[32m'score'\u001b[0m\u001b[1m>\u001b[0m"
      ]
     },
     "execution_count": null,
     "metadata": {},
     "output_type": "execute_result"
    }
   ],
   "source": [
    "from yellowbrick.classifier import DiscriminationThreshold\n",
    "\n",
    "visualizer = DiscriminationThreshold(\n",
    "    logistic_model.best_model, fbeta=logistic_model.beta\n",
    ")\n",
    "\n",
    "visualizer.fit(logistic_model.X_train, logistic_model.y_train)\n",
    "visualizer.show()"
   ]
  },
  {
   "cell_type": "code",
   "execution_count": 10,
   "metadata": {},
   "outputs": [
    {
     "name": "stdout",
     "output_type": "stream",
     "text": [
      "LightGBM Classifier:\n"
     ]
    },
    {
     "name": "stderr",
     "output_type": "stream",
     "text": [
      "/Users/calh/Desktop/OC/Projet7/.pixi/envs/default/lib/python3.12/site-packages/sklearn/utils/validation.py:2739: UserWarning: X does not have valid feature names, but LGBMClassifier was fitted with feature names\n",
      "  warnings.warn(\n",
      "/Users/calh/Desktop/OC/Projet7/.pixi/envs/default/lib/python3.12/site-packages/sklearn/utils/validation.py:2739: UserWarning: X does not have valid feature names, but LGBMClassifier was fitted with feature names\n",
      "  warnings.warn(\n",
      "/Users/calh/Desktop/OC/Projet7/.pixi/envs/default/lib/python3.12/site-packages/sklearn/utils/validation.py:2739: UserWarning: X does not have valid feature names, but LGBMClassifier was fitted with feature names\n",
      "  warnings.warn(\n",
      "/Users/calh/Desktop/OC/Projet7/.pixi/envs/default/lib/python3.12/site-packages/sklearn/utils/validation.py:2739: UserWarning: X does not have valid feature names, but LGBMClassifier was fitted with feature names\n",
      "  warnings.warn(\n",
      "/Users/calh/Desktop/OC/Projet7/.pixi/envs/default/lib/python3.12/site-packages/sklearn/utils/validation.py:2739: UserWarning: X does not have valid feature names, but LGBMClassifier was fitted with feature names\n",
      "  warnings.warn(\n",
      "/Users/calh/Desktop/OC/Projet7/.pixi/envs/default/lib/python3.12/site-packages/sklearn/utils/validation.py:2739: UserWarning: X does not have valid feature names, but LGBMClassifier was fitted with feature names\n",
      "  warnings.warn(\n",
      "/Users/calh/Desktop/OC/Projet7/.pixi/envs/default/lib/python3.12/site-packages/sklearn/utils/validation.py:2739: UserWarning: X does not have valid feature names, but LGBMClassifier was fitted with feature names\n",
      "  warnings.warn(\n",
      "/Users/calh/Desktop/OC/Projet7/.pixi/envs/default/lib/python3.12/site-packages/sklearn/utils/validation.py:2739: UserWarning: X does not have valid feature names, but LGBMClassifier was fitted with feature names\n",
      "  warnings.warn(\n",
      "/Users/calh/Desktop/OC/Projet7/.pixi/envs/default/lib/python3.12/site-packages/sklearn/utils/validation.py:2739: UserWarning: X does not have valid feature names, but LGBMClassifier was fitted with feature names\n",
      "  warnings.warn(\n",
      "/Users/calh/Desktop/OC/Projet7/.pixi/envs/default/lib/python3.12/site-packages/sklearn/utils/validation.py:2739: UserWarning: X does not have valid feature names, but LGBMClassifier was fitted with feature names\n",
      "  warnings.warn(\n",
      "/Users/calh/Desktop/OC/Projet7/.pixi/envs/default/lib/python3.12/site-packages/sklearn/utils/validation.py:2739: UserWarning: X does not have valid feature names, but LGBMClassifier was fitted with feature names\n",
      "  warnings.warn(\n",
      "/Users/calh/Desktop/OC/Projet7/.pixi/envs/default/lib/python3.12/site-packages/sklearn/utils/validation.py:2739: UserWarning: X does not have valid feature names, but LGBMClassifier was fitted with feature names\n",
      "  warnings.warn(\n",
      "/Users/calh/Desktop/OC/Projet7/.pixi/envs/default/lib/python3.12/site-packages/sklearn/utils/validation.py:2739: UserWarning: X does not have valid feature names, but LGBMClassifier was fitted with feature names\n",
      "  warnings.warn(\n",
      "/Users/calh/Desktop/OC/Projet7/.pixi/envs/default/lib/python3.12/site-packages/sklearn/utils/validation.py:2739: UserWarning: X does not have valid feature names, but LGBMClassifier was fitted with feature names\n",
      "  warnings.warn(\n",
      "/Users/calh/Desktop/OC/Projet7/.pixi/envs/default/lib/python3.12/site-packages/sklearn/utils/validation.py:2739: UserWarning: X does not have valid feature names, but LGBMClassifier was fitted with feature names\n",
      "  warnings.warn(\n",
      "/Users/calh/Desktop/OC/Projet7/.pixi/envs/default/lib/python3.12/site-packages/sklearn/utils/validation.py:2739: UserWarning: X does not have valid feature names, but LGBMClassifier was fitted with feature names\n",
      "  warnings.warn(\n",
      "/Users/calh/Desktop/OC/Projet7/.pixi/envs/default/lib/python3.12/site-packages/sklearn/utils/validation.py:2739: UserWarning: X does not have valid feature names, but LGBMClassifier was fitted with feature names\n",
      "  warnings.warn(\n",
      "/Users/calh/Desktop/OC/Projet7/.pixi/envs/default/lib/python3.12/site-packages/sklearn/utils/validation.py:2739: UserWarning: X does not have valid feature names, but LGBMClassifier was fitted with feature names\n",
      "  warnings.warn(\n",
      "/Users/calh/Desktop/OC/Projet7/.pixi/envs/default/lib/python3.12/site-packages/sklearn/utils/validation.py:2739: UserWarning: X does not have valid feature names, but LGBMClassifier was fitted with feature names\n",
      "  warnings.warn(\n",
      "/Users/calh/Desktop/OC/Projet7/.pixi/envs/default/lib/python3.12/site-packages/sklearn/utils/validation.py:2739: UserWarning: X does not have valid feature names, but LGBMClassifier was fitted with feature names\n",
      "  warnings.warn(\n",
      "/Users/calh/Desktop/OC/Projet7/.pixi/envs/default/lib/python3.12/site-packages/sklearn/utils/validation.py:2739: UserWarning: X does not have valid feature names, but LGBMClassifier was fitted with feature names\n",
      "  warnings.warn(\n",
      "/Users/calh/Desktop/OC/Projet7/.pixi/envs/default/lib/python3.12/site-packages/sklearn/utils/validation.py:2739: UserWarning: X does not have valid feature names, but LGBMClassifier was fitted with feature names\n",
      "  warnings.warn(\n",
      "/Users/calh/Desktop/OC/Projet7/.pixi/envs/default/lib/python3.12/site-packages/sklearn/utils/validation.py:2739: UserWarning: X does not have valid feature names, but LGBMClassifier was fitted with feature names\n",
      "  warnings.warn(\n",
      "/Users/calh/Desktop/OC/Projet7/.pixi/envs/default/lib/python3.12/site-packages/sklearn/utils/validation.py:2739: UserWarning: X does not have valid feature names, but LGBMClassifier was fitted with feature names\n",
      "  warnings.warn(\n",
      "/Users/calh/Desktop/OC/Projet7/.pixi/envs/default/lib/python3.12/site-packages/sklearn/utils/validation.py:2739: UserWarning: X does not have valid feature names, but LGBMClassifier was fitted with feature names\n",
      "  warnings.warn(\n",
      "/Users/calh/Desktop/OC/Projet7/.pixi/envs/default/lib/python3.12/site-packages/sklearn/utils/validation.py:2739: UserWarning: X does not have valid feature names, but LGBMClassifier was fitted with feature names\n",
      "  warnings.warn(\n",
      "/Users/calh/Desktop/OC/Projet7/.pixi/envs/default/lib/python3.12/site-packages/sklearn/utils/validation.py:2739: UserWarning: X does not have valid feature names, but LGBMClassifier was fitted with feature names\n",
      "  warnings.warn(\n",
      "/Users/calh/Desktop/OC/Projet7/.pixi/envs/default/lib/python3.12/site-packages/sklearn/utils/validation.py:2739: UserWarning: X does not have valid feature names, but LGBMClassifier was fitted with feature names\n",
      "  warnings.warn(\n",
      "/Users/calh/Desktop/OC/Projet7/.pixi/envs/default/lib/python3.12/site-packages/sklearn/utils/validation.py:2739: UserWarning: X does not have valid feature names, but LGBMClassifier was fitted with feature names\n",
      "  warnings.warn(\n",
      "/Users/calh/Desktop/OC/Projet7/.pixi/envs/default/lib/python3.12/site-packages/sklearn/utils/validation.py:2739: UserWarning: X does not have valid feature names, but LGBMClassifier was fitted with feature names\n",
      "  warnings.warn(\n",
      "/Users/calh/Desktop/OC/Projet7/.pixi/envs/default/lib/python3.12/site-packages/sklearn/utils/validation.py:2739: UserWarning: X does not have valid feature names, but LGBMClassifier was fitted with feature names\n",
      "  warnings.warn(\n",
      "/Users/calh/Desktop/OC/Projet7/.pixi/envs/default/lib/python3.12/site-packages/sklearn/utils/validation.py:2739: UserWarning: X does not have valid feature names, but LGBMClassifier was fitted with feature names\n",
      "  warnings.warn(\n",
      "/Users/calh/Desktop/OC/Projet7/.pixi/envs/default/lib/python3.12/site-packages/sklearn/utils/validation.py:2739: UserWarning: X does not have valid feature names, but LGBMClassifier was fitted with feature names\n",
      "  warnings.warn(\n",
      "/Users/calh/Desktop/OC/Projet7/.pixi/envs/default/lib/python3.12/site-packages/sklearn/utils/validation.py:2739: UserWarning: X does not have valid feature names, but LGBMClassifier was fitted with feature names\n",
      "  warnings.warn(\n",
      "/Users/calh/Desktop/OC/Projet7/.pixi/envs/default/lib/python3.12/site-packages/sklearn/utils/validation.py:2739: UserWarning: X does not have valid feature names, but LGBMClassifier was fitted with feature names\n",
      "  warnings.warn(\n",
      "/Users/calh/Desktop/OC/Projet7/.pixi/envs/default/lib/python3.12/site-packages/sklearn/utils/validation.py:2739: UserWarning: X does not have valid feature names, but LGBMClassifier was fitted with feature names\n",
      "  warnings.warn(\n",
      "/Users/calh/Desktop/OC/Projet7/.pixi/envs/default/lib/python3.12/site-packages/sklearn/utils/validation.py:2739: UserWarning: X does not have valid feature names, but LGBMClassifier was fitted with feature names\n",
      "  warnings.warn(\n",
      "/Users/calh/Desktop/OC/Projet7/.pixi/envs/default/lib/python3.12/site-packages/sklearn/utils/validation.py:2739: UserWarning: X does not have valid feature names, but LGBMClassifier was fitted with feature names\n",
      "  warnings.warn(\n",
      "/Users/calh/Desktop/OC/Projet7/.pixi/envs/default/lib/python3.12/site-packages/sklearn/utils/validation.py:2739: UserWarning: X does not have valid feature names, but LGBMClassifier was fitted with feature names\n",
      "  warnings.warn(\n",
      "/Users/calh/Desktop/OC/Projet7/.pixi/envs/default/lib/python3.12/site-packages/sklearn/utils/validation.py:2739: UserWarning: X does not have valid feature names, but LGBMClassifier was fitted with feature names\n",
      "  warnings.warn(\n",
      "/Users/calh/Desktop/OC/Projet7/.pixi/envs/default/lib/python3.12/site-packages/sklearn/utils/validation.py:2739: UserWarning: X does not have valid feature names, but LGBMClassifier was fitted with feature names\n",
      "  warnings.warn(\n",
      "/Users/calh/Desktop/OC/Projet7/.pixi/envs/default/lib/python3.12/site-packages/sklearn/utils/validation.py:2739: UserWarning: X does not have valid feature names, but LGBMClassifier was fitted with feature names\n",
      "  warnings.warn(\n",
      "/Users/calh/Desktop/OC/Projet7/.pixi/envs/default/lib/python3.12/site-packages/sklearn/utils/validation.py:2739: UserWarning: X does not have valid feature names, but LGBMClassifier was fitted with feature names\n",
      "  warnings.warn(\n",
      "/Users/calh/Desktop/OC/Projet7/.pixi/envs/default/lib/python3.12/site-packages/sklearn/utils/validation.py:2739: UserWarning: X does not have valid feature names, but LGBMClassifier was fitted with feature names\n",
      "  warnings.warn(\n",
      "/Users/calh/Desktop/OC/Projet7/.pixi/envs/default/lib/python3.12/site-packages/sklearn/utils/validation.py:2739: UserWarning: X does not have valid feature names, but LGBMClassifier was fitted with feature names\n",
      "  warnings.warn(\n",
      "/Users/calh/Desktop/OC/Projet7/.pixi/envs/default/lib/python3.12/site-packages/sklearn/utils/validation.py:2739: UserWarning: X does not have valid feature names, but LGBMClassifier was fitted with feature names\n",
      "  warnings.warn(\n",
      "/Users/calh/Desktop/OC/Projet7/.pixi/envs/default/lib/python3.12/site-packages/sklearn/utils/validation.py:2739: UserWarning: X does not have valid feature names, but LGBMClassifier was fitted with feature names\n",
      "  warnings.warn(\n",
      "/Users/calh/Desktop/OC/Projet7/.pixi/envs/default/lib/python3.12/site-packages/sklearn/utils/validation.py:2739: UserWarning: X does not have valid feature names, but LGBMClassifier was fitted with feature names\n",
      "  warnings.warn(\n",
      "/Users/calh/Desktop/OC/Projet7/.pixi/envs/default/lib/python3.12/site-packages/sklearn/utils/validation.py:2739: UserWarning: X does not have valid feature names, but LGBMClassifier was fitted with feature names\n",
      "  warnings.warn(\n",
      "/Users/calh/Desktop/OC/Projet7/.pixi/envs/default/lib/python3.12/site-packages/sklearn/utils/validation.py:2739: UserWarning: X does not have valid feature names, but LGBMClassifier was fitted with feature names\n",
      "  warnings.warn(\n",
      "/Users/calh/Desktop/OC/Projet7/.pixi/envs/default/lib/python3.12/site-packages/sklearn/utils/validation.py:2739: UserWarning: X does not have valid feature names, but LGBMClassifier was fitted with feature names\n",
      "  warnings.warn(\n",
      "/Users/calh/Desktop/OC/Projet7/.pixi/envs/default/lib/python3.12/site-packages/sklearn/utils/validation.py:2739: UserWarning: X does not have valid feature names, but LGBMClassifier was fitted with feature names\n",
      "  warnings.warn(\n",
      "/Users/calh/Desktop/OC/Projet7/.pixi/envs/default/lib/python3.12/site-packages/sklearn/utils/validation.py:2739: UserWarning: X does not have valid feature names, but LGBMClassifier was fitted with feature names\n",
      "  warnings.warn(\n",
      "/Users/calh/Desktop/OC/Projet7/.pixi/envs/default/lib/python3.12/site-packages/sklearn/utils/validation.py:2739: UserWarning: X does not have valid feature names, but LGBMClassifier was fitted with feature names\n",
      "  warnings.warn(\n",
      "/Users/calh/Desktop/OC/Projet7/.pixi/envs/default/lib/python3.12/site-packages/sklearn/utils/validation.py:2739: UserWarning: X does not have valid feature names, but LGBMClassifier was fitted with feature names\n",
      "  warnings.warn(\n",
      "/Users/calh/Desktop/OC/Projet7/.pixi/envs/default/lib/python3.12/site-packages/sklearn/utils/validation.py:2739: UserWarning: X does not have valid feature names, but LGBMClassifier was fitted with feature names\n",
      "  warnings.warn(\n",
      "/Users/calh/Desktop/OC/Projet7/.pixi/envs/default/lib/python3.12/site-packages/sklearn/utils/validation.py:2739: UserWarning: X does not have valid feature names, but LGBMClassifier was fitted with feature names\n",
      "  warnings.warn(\n",
      "/Users/calh/Desktop/OC/Projet7/.pixi/envs/default/lib/python3.12/site-packages/sklearn/utils/validation.py:2739: UserWarning: X does not have valid feature names, but LGBMClassifier was fitted with feature names\n",
      "  warnings.warn(\n",
      "/Users/calh/Desktop/OC/Projet7/.pixi/envs/default/lib/python3.12/site-packages/sklearn/utils/validation.py:2739: UserWarning: X does not have valid feature names, but LGBMClassifier was fitted with feature names\n",
      "  warnings.warn(\n",
      "/Users/calh/Desktop/OC/Projet7/.pixi/envs/default/lib/python3.12/site-packages/sklearn/utils/validation.py:2739: UserWarning: X does not have valid feature names, but LGBMClassifier was fitted with feature names\n",
      "  warnings.warn(\n",
      "/Users/calh/Desktop/OC/Projet7/.pixi/envs/default/lib/python3.12/site-packages/sklearn/utils/validation.py:2739: UserWarning: X does not have valid feature names, but LGBMClassifier was fitted with feature names\n",
      "  warnings.warn(\n",
      "/Users/calh/Desktop/OC/Projet7/.pixi/envs/default/lib/python3.12/site-packages/sklearn/utils/validation.py:2739: UserWarning: X does not have valid feature names, but LGBMClassifier was fitted with feature names\n",
      "  warnings.warn(\n",
      "/Users/calh/Desktop/OC/Projet7/.pixi/envs/default/lib/python3.12/site-packages/sklearn/utils/validation.py:2739: UserWarning: X does not have valid feature names, but LGBMClassifier was fitted with feature names\n",
      "  warnings.warn(\n",
      "/Users/calh/Desktop/OC/Projet7/.pixi/envs/default/lib/python3.12/site-packages/sklearn/utils/validation.py:2739: UserWarning: X does not have valid feature names, but LGBMClassifier was fitted with feature names\n",
      "  warnings.warn(\n",
      "/Users/calh/Desktop/OC/Projet7/.pixi/envs/default/lib/python3.12/site-packages/sklearn/utils/validation.py:2739: UserWarning: X does not have valid feature names, but LGBMClassifier was fitted with feature names\n",
      "  warnings.warn(\n",
      "/Users/calh/Desktop/OC/Projet7/.pixi/envs/default/lib/python3.12/site-packages/sklearn/utils/validation.py:2739: UserWarning: X does not have valid feature names, but LGBMClassifier was fitted with feature names\n",
      "  warnings.warn(\n",
      "/Users/calh/Desktop/OC/Projet7/.pixi/envs/default/lib/python3.12/site-packages/sklearn/utils/validation.py:2739: UserWarning: X does not have valid feature names, but LGBMClassifier was fitted with feature names\n",
      "  warnings.warn(\n",
      "/Users/calh/Desktop/OC/Projet7/.pixi/envs/default/lib/python3.12/site-packages/sklearn/utils/validation.py:2739: UserWarning: X does not have valid feature names, but LGBMClassifier was fitted with feature names\n",
      "  warnings.warn(\n",
      "/Users/calh/Desktop/OC/Projet7/.pixi/envs/default/lib/python3.12/site-packages/sklearn/utils/validation.py:2739: UserWarning: X does not have valid feature names, but LGBMClassifier was fitted with feature names\n",
      "  warnings.warn(\n",
      "/Users/calh/Desktop/OC/Projet7/.pixi/envs/default/lib/python3.12/site-packages/sklearn/utils/validation.py:2739: UserWarning: X does not have valid feature names, but LGBMClassifier was fitted with feature names\n",
      "  warnings.warn(\n",
      "/Users/calh/Desktop/OC/Projet7/.pixi/envs/default/lib/python3.12/site-packages/sklearn/utils/validation.py:2739: UserWarning: X does not have valid feature names, but LGBMClassifier was fitted with feature names\n",
      "  warnings.warn(\n",
      "/Users/calh/Desktop/OC/Projet7/.pixi/envs/default/lib/python3.12/site-packages/sklearn/utils/validation.py:2739: UserWarning: X does not have valid feature names, but LGBMClassifier was fitted with feature names\n",
      "  warnings.warn(\n",
      "/Users/calh/Desktop/OC/Projet7/.pixi/envs/default/lib/python3.12/site-packages/sklearn/utils/validation.py:2739: UserWarning: X does not have valid feature names, but LGBMClassifier was fitted with feature names\n",
      "  warnings.warn(\n",
      "/Users/calh/Desktop/OC/Projet7/.pixi/envs/default/lib/python3.12/site-packages/sklearn/utils/validation.py:2739: UserWarning: X does not have valid feature names, but LGBMClassifier was fitted with feature names\n",
      "  warnings.warn(\n",
      "/Users/calh/Desktop/OC/Projet7/.pixi/envs/default/lib/python3.12/site-packages/sklearn/utils/validation.py:2739: UserWarning: X does not have valid feature names, but LGBMClassifier was fitted with feature names\n",
      "  warnings.warn(\n",
      "/Users/calh/Desktop/OC/Projet7/.pixi/envs/default/lib/python3.12/site-packages/sklearn/utils/validation.py:2739: UserWarning: X does not have valid feature names, but LGBMClassifier was fitted with feature names\n",
      "  warnings.warn(\n",
      "/Users/calh/Desktop/OC/Projet7/.pixi/envs/default/lib/python3.12/site-packages/sklearn/utils/validation.py:2739: UserWarning: X does not have valid feature names, but LGBMClassifier was fitted with feature names\n",
      "  warnings.warn(\n",
      "/Users/calh/Desktop/OC/Projet7/.pixi/envs/default/lib/python3.12/site-packages/sklearn/utils/validation.py:2739: UserWarning: X does not have valid feature names, but LGBMClassifier was fitted with feature names\n",
      "  warnings.warn(\n",
      "/Users/calh/Desktop/OC/Projet7/.pixi/envs/default/lib/python3.12/site-packages/sklearn/utils/validation.py:2739: UserWarning: X does not have valid feature names, but LGBMClassifier was fitted with feature names\n",
      "  warnings.warn(\n",
      "/Users/calh/Desktop/OC/Projet7/.pixi/envs/default/lib/python3.12/site-packages/sklearn/utils/validation.py:2739: UserWarning: X does not have valid feature names, but LGBMClassifier was fitted with feature names\n",
      "  warnings.warn(\n",
      "/Users/calh/Desktop/OC/Projet7/.pixi/envs/default/lib/python3.12/site-packages/sklearn/utils/validation.py:2739: UserWarning: X does not have valid feature names, but LGBMClassifier was fitted with feature names\n",
      "  warnings.warn(\n",
      "/Users/calh/Desktop/OC/Projet7/.pixi/envs/default/lib/python3.12/site-packages/sklearn/utils/validation.py:2739: UserWarning: X does not have valid feature names, but LGBMClassifier was fitted with feature names\n",
      "  warnings.warn(\n",
      "/Users/calh/Desktop/OC/Projet7/.pixi/envs/default/lib/python3.12/site-packages/sklearn/utils/validation.py:2739: UserWarning: X does not have valid feature names, but LGBMClassifier was fitted with feature names\n",
      "  warnings.warn(\n",
      "/Users/calh/Desktop/OC/Projet7/.pixi/envs/default/lib/python3.12/site-packages/sklearn/utils/validation.py:2739: UserWarning: X does not have valid feature names, but LGBMClassifier was fitted with feature names\n",
      "  warnings.warn(\n",
      "/Users/calh/Desktop/OC/Projet7/.pixi/envs/default/lib/python3.12/site-packages/sklearn/utils/validation.py:2739: UserWarning: X does not have valid feature names, but LGBMClassifier was fitted with feature names\n",
      "  warnings.warn(\n",
      "/Users/calh/Desktop/OC/Projet7/.pixi/envs/default/lib/python3.12/site-packages/sklearn/utils/validation.py:2739: UserWarning: X does not have valid feature names, but LGBMClassifier was fitted with feature names\n",
      "  warnings.warn(\n",
      "/Users/calh/Desktop/OC/Projet7/.pixi/envs/default/lib/python3.12/site-packages/sklearn/utils/validation.py:2739: UserWarning: X does not have valid feature names, but LGBMClassifier was fitted with feature names\n",
      "  warnings.warn(\n",
      "/Users/calh/Desktop/OC/Projet7/.pixi/envs/default/lib/python3.12/site-packages/sklearn/utils/validation.py:2739: UserWarning: X does not have valid feature names, but LGBMClassifier was fitted with feature names\n",
      "  warnings.warn(\n",
      "/Users/calh/Desktop/OC/Projet7/.pixi/envs/default/lib/python3.12/site-packages/sklearn/utils/validation.py:2739: UserWarning: X does not have valid feature names, but LGBMClassifier was fitted with feature names\n",
      "  warnings.warn(\n",
      "/Users/calh/Desktop/OC/Projet7/.pixi/envs/default/lib/python3.12/site-packages/sklearn/utils/validation.py:2739: UserWarning: X does not have valid feature names, but LGBMClassifier was fitted with feature names\n",
      "  warnings.warn(\n"
     ]
    },
    {
     "name": "stdout",
     "output_type": "stream",
     "text": [
      "\u001b[1m{\u001b[0m\n",
      "\u001b[2;32m│   \u001b[0m\u001b[32m'best_params'\u001b[0m: \u001b[1m{\u001b[0m\n",
      "\u001b[2;32m│   │   \u001b[0m\u001b[32m'estimator__learning_rate'\u001b[0m: \u001b[1;36m0.1\u001b[0m,\n",
      "\u001b[2;32m│   │   \u001b[0m\u001b[32m'estimator__max_depth'\u001b[0m: \u001b[1;36m7\u001b[0m,\n",
      "\u001b[2;32m│   │   \u001b[0m\u001b[32m'estimator__n_estimators'\u001b[0m: \u001b[1;36m200\u001b[0m\n",
      "\u001b[2;32m│   \u001b[0m\u001b[1m}\u001b[0m,\n",
      "\u001b[2;32m│   \u001b[0m\u001b[32m'best_score \u001b[0m\u001b[32m(\u001b[0m\u001b[32mfβ\u001b[0m\u001b[32m)\u001b[0m\u001b[32m'\u001b[0m: \u001b[1;35mnp.float64\u001b[0m\u001b[1m(\u001b[0m\u001b[1;36m0.025902995434314312\u001b[0m\u001b[1m)\u001b[0m\n",
      "\u001b[1m}\u001b[0m\n",
      "best_threshold: 0.0951, minimized cost: 32064.0000\n",
      "(β=10) score: {'fbeta': 0.6105582557489354, 'precision': 0.18642228385385265, 'recall': 0.6247726813497676, 'roc_auc': np.float64(0.6930844345320823)}\n"
     ]
    }
   ],
   "source": [
    "warnings.filterwarnings(\"ignore\", category=UserWarning, module=\"lightgbm\")\n",
    "\n",
    "# 1. Load the data\n",
    "lgbm_model.load_data(X_train_split, X_val, y_train_split, y_val)\n",
    "\n",
    "# 2. Find best parameters\n",
    "print(f\"{lgbm_model.name}:\")\n",
    "pprint(lgbm_model.find_best_params(beta=10, search_type=\"grid_search\"))\n",
    "\n",
    "# 3. min cost and optimal threshold\n",
    "lgbm_model.find_optimal_threshold_for_min_cost(cost_fn=10, cost_fp=1)\n",
    "\n",
    "# 4. evalutate the model\n",
    "lgbm_model.evaluate()"
   ]
  },
  {
   "cell_type": "markdown",
   "metadata": {},
   "source": [
    "---"
   ]
  },
  {
   "cell_type": "markdown",
   "metadata": {},
   "source": [
    "### Features importance (best model)"
   ]
  },
  {
   "cell_type": "code",
   "execution_count": 35,
   "metadata": {},
   "outputs": [],
   "source": [
    "def feature_importance_lgb(print_top_15=False, barplot_top_15=True):\n",
    "    # var name from the final test set (preprocessed)\n",
    "    test_colnames = test_final.columns.to_list()\n",
    "    # we need to remove the id var that was not used in the trainning\n",
    "    test_colnames.remove(\"SK_ID_CURR\")\n",
    "\n",
    "    lgbm_model.feature_name_ = test_colnames\n",
    "\n",
    "    # Get the original feature importances\n",
    "    feature_importance_lgb = pd.DataFrame(\n",
    "        {\n",
    "            \"feature\": lgbm_model.feature_name_,\n",
    "            \"importance\": lgbm_model.best_model.feature_importances_,\n",
    "        }\n",
    "    ).sort_values(\"importance\", ascending=False)\n",
    "\n",
    "    # Get the original categorical feature names (before one-hot encoding)\n",
    "    categorical_features = pipeline.feature_names_in_\n",
    "\n",
    "    # Create a mapping from encoded feature names to original feature names\n",
    "    feature_mapping = {}\n",
    "\n",
    "    # Process each feature in our importance dataframe\n",
    "    for feature in feature_importance_lgb[\"feature\"]:\n",
    "        # Check if this feature is one-hot encoded\n",
    "        for cat_feature in categorical_features:\n",
    "            # One-hot encoded features typically start with the original feature name\n",
    "            if feature.startswith(cat_feature + \"_\"):\n",
    "                feature_mapping[feature] = cat_feature\n",
    "                break\n",
    "\n",
    "    # Apply the mapping to get original feature names\n",
    "    feature_importance_lgb[\"original_feature\"] = feature_importance_lgb[\"feature\"].map(\n",
    "        feature_mapping\n",
    "    )\n",
    "\n",
    "    # Aggregate importances by original feature names\n",
    "    aggregated_importance = (\n",
    "        feature_importance_lgb.groupby(\"original_feature\")[\"importance\"]\n",
    "        .sum()\n",
    "        .reset_index()\n",
    "    )\n",
    "\n",
    "    # Sort by importance in descending order\n",
    "    aggregated_importance = aggregated_importance.sort_values(\n",
    "        \"importance\", ascending=False\n",
    "    )\n",
    "    top_15_features = aggregated_importance.head(15)\n",
    "\n",
    "    if print_top_15:\n",
    "        # Show the top 10 most important features\n",
    "        print(\"Top 10 most important features (aggregated):\")\n",
    "        print(top_15_features)\n",
    "\n",
    "    if barplot_top_15:\n",
    "        plt.figure(figsize=(10, 6))\n",
    "        sns.barplot(x=\"importance\", y=\"original_feature\", data=top_15_features)\n",
    "        plt.title(\"Top 15 Most Important Features (Aggregated)\")\n",
    "        plt.tight_layout()\n",
    "        plt.show()\n",
    "\n",
    "    return top_15_features"
   ]
  },
  {
   "cell_type": "code",
   "execution_count": 36,
   "metadata": {},
   "outputs": [
    {
     "name": "stdout",
     "output_type": "stream",
     "text": [
      "Top 10 most important features (aggregated):\n",
      "              original_feature  importance\n",
      "14           ORGANIZATION_TYPE         204\n",
      "1                DAYS_EMPLOYED         174\n",
      "13             OCCUPATION_TYPE          85\n",
      "9           NAME_FAMILY_STATUS          69\n",
      "8          NAME_EDUCATION_TYPE          67\n",
      "0                  CODE_GENDER          61\n",
      "17  WEEKDAY_APPR_PROCESS_START          52\n",
      "3                 FLAG_OWN_CAR          40\n",
      "7           NAME_CONTRACT_TYPE          37\n",
      "11            NAME_INCOME_TYPE          35\n",
      "10           NAME_HOUSING_TYPE          31\n",
      "15        REGION_RATING_CLIENT          28\n",
      "16          WALLSMATERIAL_MODE          25\n",
      "12             NAME_TYPE_SUITE          21\n",
      "4              FLAG_OWN_REALTY          13\n"
     ]
    },
    {
     "data": {
      "image/png": "[encoded data removed]",
      "text/plain": [
       "\u001b[1m<\u001b[0m\u001b[1;95mFigure\u001b[0m\u001b[39m size 100\u001b[0m\u001b[1;36m0x600\u001b[0m\u001b[39m with \u001b[0m\u001b[1;36m1\u001b[0m\u001b[39m Axes\u001b[0m\u001b[1m>\u001b[0m"
      ]
     },
     "metadata": {},
     "output_type": "display_data"
    }
   ],
   "source": [
    "top_15_features_df = feature_importance_lgb(print_top_15=True)"
   ]
  },
  {
   "cell_type": "markdown",
   "metadata": {},
   "source": [
    "#### SHAP values"
   ]
  },
  {
   "cell_type": "code",
   "execution_count": 16,
   "metadata": {},
   "outputs": [],
   "source": [
    "import shap\n",
    "from typing import Literal\n",
    "\n",
    "\n",
    "def shap_feature_importance(\n",
    "    level: Literal[\"global\", \"local\"] = \"global\",\n",
    "    model=lgbm_model.best_model,\n",
    "    test_data=X_test,\n",
    "    features_names=lgbm_model.feature_name_,\n",
    "    obs_index=None,\n",
    "    top_n=10,\n",
    ") -> None:\n",
    "    \"\"\"\n",
    "    This function can return 2 SHAP plots:\n",
    "    - summary_plot for the model SHAP values\n",
    "    - bar plot for the single obs SHAP values\n",
    "    \"\"\"\n",
    "    if level not in [\"global\", \"local\"]:\n",
    "        raise ValueError(\n",
    "            \"'level' can be either 'global' for the model SHAP or 'local' for a given obs SHAP.\"\n",
    "        )\n",
    "    explainer = shap.TreeExplainer(model)\n",
    "\n",
    "    shap_values = explainer.shap_values(test_data)\n",
    "\n",
    "    if level == \"global\":\n",
    "        obs_index = None\n",
    "        shap.summary_plot(shap_values, features=test_data, feature_names=features_names)\n",
    "\n",
    "    elif level == \"local\":\n",
    "        if obs_index is None:\n",
    "            raise ValueError(\"'obs_index' must be provided when 'level' is 'local'.\")\n",
    "\n",
    "        # Get SHAP values for that specific observation\n",
    "        single_obs_shap_values = (\n",
    "            shap_values[1][obs_index]\n",
    "            if isinstance(shap_values, list)\n",
    "            else shap_values[obs_index]\n",
    "        )\n",
    "        shap_explanation = shap.Explanation(\n",
    "            values=single_obs_shap_values, data=features_names\n",
    "        )\n",
    "        print(f\"Top {top_n} important features for observation {obs_index}:\")\n",
    "        for i in range(top_n):\n",
    "            feature_idx = features_names[i]\n",
    "            importance = single_obs_shap_values[feature_idx]\n",
    "            print(f\"Feature {feature_idx}: SHAP value = {importance:.4f}\")\n",
    "\n",
    "        # bar plot\n",
    "        shap.plots.bar(shap_explanation, max_display=top_n)\n"
   ]
  },
  {
   "cell_type": "code",
   "execution_count": 329,
   "metadata": {},
   "outputs": [
    {
     "name": "stdout",
     "output_type": "stream",
     "text": [
      "Top 10 important features for observation 0:\n",
      "Feature 29: SHAP value = 0.9570\n",
      "Feature 28: SHAP value = -0.9281\n",
      "Feature 27: SHAP value = -0.4561\n",
      "Feature 4: SHAP value = 0.1023\n",
      "Feature 132: SHAP value = -0.0809\n",
      "Feature 3: SHAP value = -0.0674\n",
      "Feature 9: SHAP value = 0.0576\n",
      "Feature 113: SHAP value = 0.0479\n",
      "Feature 200: SHAP value = -0.0468\n",
      "Feature 2: SHAP value = 0.0431\n"
     ]
    },
    {
     "data": {
      "image/png": "[encoded data removed]",
      "text/plain": [
       "\u001b[1m<\u001b[0m\u001b[1;95mFigure\u001b[0m\u001b[39m size 80\u001b[0m\u001b[1;36m0x650\u001b[0m\u001b[39m with \u001b[0m\u001b[1;36m1\u001b[0m\u001b[39m Axes\u001b[0m\u001b[1m>\u001b[0m"
      ]
     },
     "metadata": {},
     "output_type": "display_data"
    }
   ],
   "source": [
    "shap_feature_importance(level=\"local\", obs_index=0)"
   ]
  },
  {
   "cell_type": "markdown",
   "metadata": {},
   "source": [
    "---"
   ]
  },
  {
   "cell_type": "code",
   "execution_count": null,
   "metadata": {},
   "outputs": [],
   "source": [
    "top_15_features_names = top_15_features_df[\"original_feature\"].tolist()\n",
    "top_15_features_names.append(\"TARGET\")\n",
    "\n",
    "app_train_domain_top15 = app_train_domain[top_15_features_names]\n",
    "\n",
    "# We removed target and added the id so we can export the app_test data with the 15 features + the id var ( for the api)\n",
    "top_15_features_names.remove(\"TARGET\")\n",
    "top_15_features_names.append(\"SK_ID_CURR\")\n",
    "app_test_domain_top15 = app_test_domain[top_15_features_names]"
   ]
  },
  {
   "cell_type": "code",
   "execution_count": 153,
   "metadata": {},
   "outputs": [
    {
     "name": "stdout",
     "output_type": "stream",
     "text": [
      "Training Data Shape:  (307511, 133)\n",
      "Testing Data Shape:  (48744, 133)\n"
     ]
    }
   ],
   "source": [
    "_, y_train_15, X_train_15, _, preprocessor_top15 = cleaning(\n",
    "    app_train_domain_top15, app_test_domain_top15\n",
    ")\n",
    "\n",
    "X_train_split_15, X_val_15, y_train_split_15, y_val_15 = train_test_split(\n",
    "    X_train_15, y_train_15, test_size=0.2, random_state=42\n",
    ")"
   ]
  },
  {
   "cell_type": "code",
   "execution_count": 125,
   "metadata": {},
   "outputs": [],
   "source": [
    "lgbm_model_15 = Model(\n",
    "    name=\"LightGBM Classifier\",\n",
    "    estimator=LGBMClassifier(random_state=42, n_jobs=1, verbose=-1),\n",
    "    params={\n",
    "        \"learning_rate\": {\n",
    "            \"type\": \"float\",\n",
    "            \"values\": [0.01, 0.05, 0.1],\n",
    "            \"min\": 0.01,\n",
    "            \"max\": 0.1,\n",
    "        },\n",
    "        \"n_estimators\": {\"type\": \"int\", \"values\": [100, 200], \"min\": 100, \"max\": 200},\n",
    "        \"max_depth\": {\"type\": \"int\", \"values\": [3, 5, 7], \"min\": 3, \"max\": 7},\n",
    "    },\n",
    ")\n"
   ]
  },
  {
   "cell_type": "code",
   "execution_count": 126,
   "metadata": {},
   "outputs": [
    {
     "name": "stdout",
     "output_type": "stream",
     "text": [
      "LightGBM Classifier:\n"
     ]
    },
    {
     "name": "stderr",
     "output_type": "stream",
     "text": [
      "/Users/calh/Desktop/OC/Projet7/.pixi/envs/default/lib/python3.12/site-packages/sklearn/utils/validation.py:2739: UserWarning: X does not have valid feature names, but LGBMClassifier was fitted with feature names\n",
      "  warnings.warn(\n",
      "/Users/calh/Desktop/OC/Projet7/.pixi/envs/default/lib/python3.12/site-packages/sklearn/utils/validation.py:2739: UserWarning: X does not have valid feature names, but LGBMClassifier was fitted with feature names\n",
      "  warnings.warn(\n",
      "/Users/calh/Desktop/OC/Projet7/.pixi/envs/default/lib/python3.12/site-packages/sklearn/utils/validation.py:2739: UserWarning: X does not have valid feature names, but LGBMClassifier was fitted with feature names\n",
      "  warnings.warn(\n",
      "/Users/calh/Desktop/OC/Projet7/.pixi/envs/default/lib/python3.12/site-packages/sklearn/utils/validation.py:2739: UserWarning: X does not have valid feature names, but LGBMClassifier was fitted with feature names\n",
      "  warnings.warn(\n",
      "/Users/calh/Desktop/OC/Projet7/.pixi/envs/default/lib/python3.12/site-packages/sklearn/utils/validation.py:2739: UserWarning: X does not have valid feature names, but LGBMClassifier was fitted with feature names\n",
      "  warnings.warn(\n",
      "/Users/calh/Desktop/OC/Projet7/.pixi/envs/default/lib/python3.12/site-packages/sklearn/utils/validation.py:2739: UserWarning: X does not have valid feature names, but LGBMClassifier was fitted with feature names\n",
      "  warnings.warn(\n",
      "/Users/calh/Desktop/OC/Projet7/.pixi/envs/default/lib/python3.12/site-packages/sklearn/utils/validation.py:2739: UserWarning: X does not have valid feature names, but LGBMClassifier was fitted with feature names\n",
      "  warnings.warn(\n",
      "/Users/calh/Desktop/OC/Projet7/.pixi/envs/default/lib/python3.12/site-packages/sklearn/utils/validation.py:2739: UserWarning: X does not have valid feature names, but LGBMClassifier was fitted with feature names\n",
      "  warnings.warn(\n",
      "/Users/calh/Desktop/OC/Projet7/.pixi/envs/default/lib/python3.12/site-packages/sklearn/utils/validation.py:2739: UserWarning: X does not have valid feature names, but LGBMClassifier was fitted with feature names\n",
      "  warnings.warn(\n",
      "/Users/calh/Desktop/OC/Projet7/.pixi/envs/default/lib/python3.12/site-packages/sklearn/utils/validation.py:2739: UserWarning: X does not have valid feature names, but LGBMClassifier was fitted with feature names\n",
      "  warnings.warn(\n",
      "/Users/calh/Desktop/OC/Projet7/.pixi/envs/default/lib/python3.12/site-packages/sklearn/utils/validation.py:2739: UserWarning: X does not have valid feature names, but LGBMClassifier was fitted with feature names\n",
      "  warnings.warn(\n",
      "/Users/calh/Desktop/OC/Projet7/.pixi/envs/default/lib/python3.12/site-packages/sklearn/utils/validation.py:2739: UserWarning: X does not have valid feature names, but LGBMClassifier was fitted with feature names\n",
      "  warnings.warn(\n",
      "/Users/calh/Desktop/OC/Projet7/.pixi/envs/default/lib/python3.12/site-packages/sklearn/utils/validation.py:2739: UserWarning: X does not have valid feature names, but LGBMClassifier was fitted with feature names\n",
      "  warnings.warn(\n",
      "/Users/calh/Desktop/OC/Projet7/.pixi/envs/default/lib/python3.12/site-packages/sklearn/utils/validation.py:2739: UserWarning: X does not have valid feature names, but LGBMClassifier was fitted with feature names\n",
      "  warnings.warn(\n",
      "/Users/calh/Desktop/OC/Projet7/.pixi/envs/default/lib/python3.12/site-packages/sklearn/utils/validation.py:2739: UserWarning: X does not have valid feature names, but LGBMClassifier was fitted with feature names\n",
      "  warnings.warn(\n",
      "/Users/calh/Desktop/OC/Projet7/.pixi/envs/default/lib/python3.12/site-packages/sklearn/utils/validation.py:2739: UserWarning: X does not have valid feature names, but LGBMClassifier was fitted with feature names\n",
      "  warnings.warn(\n",
      "/Users/calh/Desktop/OC/Projet7/.pixi/envs/default/lib/python3.12/site-packages/sklearn/utils/validation.py:2739: UserWarning: X does not have valid feature names, but LGBMClassifier was fitted with feature names\n",
      "  warnings.warn(\n",
      "/Users/calh/Desktop/OC/Projet7/.pixi/envs/default/lib/python3.12/site-packages/sklearn/utils/validation.py:2739: UserWarning: X does not have valid feature names, but LGBMClassifier was fitted with feature names\n",
      "  warnings.warn(\n",
      "/Users/calh/Desktop/OC/Projet7/.pixi/envs/default/lib/python3.12/site-packages/sklearn/utils/validation.py:2739: UserWarning: X does not have valid feature names, but LGBMClassifier was fitted with feature names\n",
      "  warnings.warn(\n",
      "/Users/calh/Desktop/OC/Projet7/.pixi/envs/default/lib/python3.12/site-packages/sklearn/utils/validation.py:2739: UserWarning: X does not have valid feature names, but LGBMClassifier was fitted with feature names\n",
      "  warnings.warn(\n",
      "/Users/calh/Desktop/OC/Projet7/.pixi/envs/default/lib/python3.12/site-packages/sklearn/utils/validation.py:2739: UserWarning: X does not have valid feature names, but LGBMClassifier was fitted with feature names\n",
      "  warnings.warn(\n",
      "/Users/calh/Desktop/OC/Projet7/.pixi/envs/default/lib/python3.12/site-packages/sklearn/utils/validation.py:2739: UserWarning: X does not have valid feature names, but LGBMClassifier was fitted with feature names\n",
      "  warnings.warn(\n",
      "/Users/calh/Desktop/OC/Projet7/.pixi/envs/default/lib/python3.12/site-packages/sklearn/utils/validation.py:2739: UserWarning: X does not have valid feature names, but LGBMClassifier was fitted with feature names\n",
      "  warnings.warn(\n",
      "/Users/calh/Desktop/OC/Projet7/.pixi/envs/default/lib/python3.12/site-packages/sklearn/utils/validation.py:2739: UserWarning: X does not have valid feature names, but LGBMClassifier was fitted with feature names\n",
      "  warnings.warn(\n",
      "/Users/calh/Desktop/OC/Projet7/.pixi/envs/default/lib/python3.12/site-packages/sklearn/utils/validation.py:2739: UserWarning: X does not have valid feature names, but LGBMClassifier was fitted with feature names\n",
      "  warnings.warn(\n",
      "/Users/calh/Desktop/OC/Projet7/.pixi/envs/default/lib/python3.12/site-packages/sklearn/utils/validation.py:2739: UserWarning: X does not have valid feature names, but LGBMClassifier was fitted with feature names\n",
      "  warnings.warn(\n",
      "/Users/calh/Desktop/OC/Projet7/.pixi/envs/default/lib/python3.12/site-packages/sklearn/utils/validation.py:2739: UserWarning: X does not have valid feature names, but LGBMClassifier was fitted with feature names\n",
      "  warnings.warn(\n",
      "/Users/calh/Desktop/OC/Projet7/.pixi/envs/default/lib/python3.12/site-packages/sklearn/utils/validation.py:2739: UserWarning: X does not have valid feature names, but LGBMClassifier was fitted with feature names\n",
      "  warnings.warn(\n",
      "/Users/calh/Desktop/OC/Projet7/.pixi/envs/default/lib/python3.12/site-packages/sklearn/utils/validation.py:2739: UserWarning: X does not have valid feature names, but LGBMClassifier was fitted with feature names\n",
      "  warnings.warn(\n",
      "/Users/calh/Desktop/OC/Projet7/.pixi/envs/default/lib/python3.12/site-packages/sklearn/utils/validation.py:2739: UserWarning: X does not have valid feature names, but LGBMClassifier was fitted with feature names\n",
      "  warnings.warn(\n",
      "/Users/calh/Desktop/OC/Projet7/.pixi/envs/default/lib/python3.12/site-packages/sklearn/utils/validation.py:2739: UserWarning: X does not have valid feature names, but LGBMClassifier was fitted with feature names\n",
      "  warnings.warn(\n",
      "/Users/calh/Desktop/OC/Projet7/.pixi/envs/default/lib/python3.12/site-packages/sklearn/utils/validation.py:2739: UserWarning: X does not have valid feature names, but LGBMClassifier was fitted with feature names\n",
      "  warnings.warn(\n",
      "/Users/calh/Desktop/OC/Projet7/.pixi/envs/default/lib/python3.12/site-packages/sklearn/utils/validation.py:2739: UserWarning: X does not have valid feature names, but LGBMClassifier was fitted with feature names\n",
      "  warnings.warn(\n",
      "/Users/calh/Desktop/OC/Projet7/.pixi/envs/default/lib/python3.12/site-packages/sklearn/utils/validation.py:2739: UserWarning: X does not have valid feature names, but LGBMClassifier was fitted with feature names\n",
      "  warnings.warn(\n",
      "/Users/calh/Desktop/OC/Projet7/.pixi/envs/default/lib/python3.12/site-packages/sklearn/utils/validation.py:2739: UserWarning: X does not have valid feature names, but LGBMClassifier was fitted with feature names\n",
      "  warnings.warn(\n",
      "/Users/calh/Desktop/OC/Projet7/.pixi/envs/default/lib/python3.12/site-packages/sklearn/utils/validation.py:2739: UserWarning: X does not have valid feature names, but LGBMClassifier was fitted with feature names\n",
      "  warnings.warn(\n",
      "/Users/calh/Desktop/OC/Projet7/.pixi/envs/default/lib/python3.12/site-packages/sklearn/utils/validation.py:2739: UserWarning: X does not have valid feature names, but LGBMClassifier was fitted with feature names\n",
      "  warnings.warn(\n",
      "/Users/calh/Desktop/OC/Projet7/.pixi/envs/default/lib/python3.12/site-packages/sklearn/utils/validation.py:2739: UserWarning: X does not have valid feature names, but LGBMClassifier was fitted with feature names\n",
      "  warnings.warn(\n",
      "/Users/calh/Desktop/OC/Projet7/.pixi/envs/default/lib/python3.12/site-packages/sklearn/utils/validation.py:2739: UserWarning: X does not have valid feature names, but LGBMClassifier was fitted with feature names\n",
      "  warnings.warn(\n",
      "/Users/calh/Desktop/OC/Projet7/.pixi/envs/default/lib/python3.12/site-packages/sklearn/utils/validation.py:2739: UserWarning: X does not have valid feature names, but LGBMClassifier was fitted with feature names\n",
      "  warnings.warn(\n",
      "/Users/calh/Desktop/OC/Projet7/.pixi/envs/default/lib/python3.12/site-packages/sklearn/utils/validation.py:2739: UserWarning: X does not have valid feature names, but LGBMClassifier was fitted with feature names\n",
      "  warnings.warn(\n",
      "/Users/calh/Desktop/OC/Projet7/.pixi/envs/default/lib/python3.12/site-packages/sklearn/utils/validation.py:2739: UserWarning: X does not have valid feature names, but LGBMClassifier was fitted with feature names\n",
      "  warnings.warn(\n",
      "/Users/calh/Desktop/OC/Projet7/.pixi/envs/default/lib/python3.12/site-packages/sklearn/utils/validation.py:2739: UserWarning: X does not have valid feature names, but LGBMClassifier was fitted with feature names\n",
      "  warnings.warn(\n",
      "/Users/calh/Desktop/OC/Projet7/.pixi/envs/default/lib/python3.12/site-packages/sklearn/utils/validation.py:2739: UserWarning: X does not have valid feature names, but LGBMClassifier was fitted with feature names\n",
      "  warnings.warn(\n",
      "/Users/calh/Desktop/OC/Projet7/.pixi/envs/default/lib/python3.12/site-packages/sklearn/utils/validation.py:2739: UserWarning: X does not have valid feature names, but LGBMClassifier was fitted with feature names\n",
      "  warnings.warn(\n",
      "/Users/calh/Desktop/OC/Projet7/.pixi/envs/default/lib/python3.12/site-packages/sklearn/utils/validation.py:2739: UserWarning: X does not have valid feature names, but LGBMClassifier was fitted with feature names\n",
      "  warnings.warn(\n",
      "/Users/calh/Desktop/OC/Projet7/.pixi/envs/default/lib/python3.12/site-packages/sklearn/utils/validation.py:2739: UserWarning: X does not have valid feature names, but LGBMClassifier was fitted with feature names\n",
      "  warnings.warn(\n",
      "/Users/calh/Desktop/OC/Projet7/.pixi/envs/default/lib/python3.12/site-packages/sklearn/utils/validation.py:2739: UserWarning: X does not have valid feature names, but LGBMClassifier was fitted with feature names\n",
      "  warnings.warn(\n",
      "/Users/calh/Desktop/OC/Projet7/.pixi/envs/default/lib/python3.12/site-packages/sklearn/utils/validation.py:2739: UserWarning: X does not have valid feature names, but LGBMClassifier was fitted with feature names\n",
      "  warnings.warn(\n",
      "/Users/calh/Desktop/OC/Projet7/.pixi/envs/default/lib/python3.12/site-packages/sklearn/utils/validation.py:2739: UserWarning: X does not have valid feature names, but LGBMClassifier was fitted with feature names\n",
      "  warnings.warn(\n",
      "/Users/calh/Desktop/OC/Projet7/.pixi/envs/default/lib/python3.12/site-packages/sklearn/utils/validation.py:2739: UserWarning: X does not have valid feature names, but LGBMClassifier was fitted with feature names\n",
      "  warnings.warn(\n",
      "/Users/calh/Desktop/OC/Projet7/.pixi/envs/default/lib/python3.12/site-packages/sklearn/utils/validation.py:2739: UserWarning: X does not have valid feature names, but LGBMClassifier was fitted with feature names\n",
      "  warnings.warn(\n",
      "/Users/calh/Desktop/OC/Projet7/.pixi/envs/default/lib/python3.12/site-packages/sklearn/utils/validation.py:2739: UserWarning: X does not have valid feature names, but LGBMClassifier was fitted with feature names\n",
      "  warnings.warn(\n",
      "/Users/calh/Desktop/OC/Projet7/.pixi/envs/default/lib/python3.12/site-packages/sklearn/utils/validation.py:2739: UserWarning: X does not have valid feature names, but LGBMClassifier was fitted with feature names\n",
      "  warnings.warn(\n",
      "/Users/calh/Desktop/OC/Projet7/.pixi/envs/default/lib/python3.12/site-packages/sklearn/utils/validation.py:2739: UserWarning: X does not have valid feature names, but LGBMClassifier was fitted with feature names\n",
      "  warnings.warn(\n",
      "/Users/calh/Desktop/OC/Projet7/.pixi/envs/default/lib/python3.12/site-packages/sklearn/utils/validation.py:2739: UserWarning: X does not have valid feature names, but LGBMClassifier was fitted with feature names\n",
      "  warnings.warn(\n",
      "/Users/calh/Desktop/OC/Projet7/.pixi/envs/default/lib/python3.12/site-packages/sklearn/utils/validation.py:2739: UserWarning: X does not have valid feature names, but LGBMClassifier was fitted with feature names\n",
      "  warnings.warn(\n",
      "/Users/calh/Desktop/OC/Projet7/.pixi/envs/default/lib/python3.12/site-packages/sklearn/utils/validation.py:2739: UserWarning: X does not have valid feature names, but LGBMClassifier was fitted with feature names\n",
      "  warnings.warn(\n",
      "/Users/calh/Desktop/OC/Projet7/.pixi/envs/default/lib/python3.12/site-packages/sklearn/utils/validation.py:2739: UserWarning: X does not have valid feature names, but LGBMClassifier was fitted with feature names\n",
      "  warnings.warn(\n",
      "/Users/calh/Desktop/OC/Projet7/.pixi/envs/default/lib/python3.12/site-packages/sklearn/utils/validation.py:2739: UserWarning: X does not have valid feature names, but LGBMClassifier was fitted with feature names\n",
      "  warnings.warn(\n",
      "/Users/calh/Desktop/OC/Projet7/.pixi/envs/default/lib/python3.12/site-packages/sklearn/utils/validation.py:2739: UserWarning: X does not have valid feature names, but LGBMClassifier was fitted with feature names\n",
      "  warnings.warn(\n",
      "/Users/calh/Desktop/OC/Projet7/.pixi/envs/default/lib/python3.12/site-packages/sklearn/utils/validation.py:2739: UserWarning: X does not have valid feature names, but LGBMClassifier was fitted with feature names\n",
      "  warnings.warn(\n",
      "/Users/calh/Desktop/OC/Projet7/.pixi/envs/default/lib/python3.12/site-packages/sklearn/utils/validation.py:2739: UserWarning: X does not have valid feature names, but LGBMClassifier was fitted with feature names\n",
      "  warnings.warn(\n",
      "/Users/calh/Desktop/OC/Projet7/.pixi/envs/default/lib/python3.12/site-packages/sklearn/utils/validation.py:2739: UserWarning: X does not have valid feature names, but LGBMClassifier was fitted with feature names\n",
      "  warnings.warn(\n",
      "/Users/calh/Desktop/OC/Projet7/.pixi/envs/default/lib/python3.12/site-packages/sklearn/utils/validation.py:2739: UserWarning: X does not have valid feature names, but LGBMClassifier was fitted with feature names\n",
      "  warnings.warn(\n",
      "/Users/calh/Desktop/OC/Projet7/.pixi/envs/default/lib/python3.12/site-packages/sklearn/utils/validation.py:2739: UserWarning: X does not have valid feature names, but LGBMClassifier was fitted with feature names\n",
      "  warnings.warn(\n",
      "/Users/calh/Desktop/OC/Projet7/.pixi/envs/default/lib/python3.12/site-packages/sklearn/utils/validation.py:2739: UserWarning: X does not have valid feature names, but LGBMClassifier was fitted with feature names\n",
      "  warnings.warn(\n",
      "/Users/calh/Desktop/OC/Projet7/.pixi/envs/default/lib/python3.12/site-packages/sklearn/utils/validation.py:2739: UserWarning: X does not have valid feature names, but LGBMClassifier was fitted with feature names\n",
      "  warnings.warn(\n",
      "/Users/calh/Desktop/OC/Projet7/.pixi/envs/default/lib/python3.12/site-packages/sklearn/utils/validation.py:2739: UserWarning: X does not have valid feature names, but LGBMClassifier was fitted with feature names\n",
      "  warnings.warn(\n",
      "/Users/calh/Desktop/OC/Projet7/.pixi/envs/default/lib/python3.12/site-packages/sklearn/utils/validation.py:2739: UserWarning: X does not have valid feature names, but LGBMClassifier was fitted with feature names\n",
      "  warnings.warn(\n",
      "/Users/calh/Desktop/OC/Projet7/.pixi/envs/default/lib/python3.12/site-packages/sklearn/utils/validation.py:2739: UserWarning: X does not have valid feature names, but LGBMClassifier was fitted with feature names\n",
      "  warnings.warn(\n",
      "/Users/calh/Desktop/OC/Projet7/.pixi/envs/default/lib/python3.12/site-packages/sklearn/utils/validation.py:2739: UserWarning: X does not have valid feature names, but LGBMClassifier was fitted with feature names\n",
      "  warnings.warn(\n",
      "/Users/calh/Desktop/OC/Projet7/.pixi/envs/default/lib/python3.12/site-packages/sklearn/utils/validation.py:2739: UserWarning: X does not have valid feature names, but LGBMClassifier was fitted with feature names\n",
      "  warnings.warn(\n",
      "/Users/calh/Desktop/OC/Projet7/.pixi/envs/default/lib/python3.12/site-packages/sklearn/utils/validation.py:2739: UserWarning: X does not have valid feature names, but LGBMClassifier was fitted with feature names\n",
      "  warnings.warn(\n",
      "/Users/calh/Desktop/OC/Projet7/.pixi/envs/default/lib/python3.12/site-packages/sklearn/utils/validation.py:2739: UserWarning: X does not have valid feature names, but LGBMClassifier was fitted with feature names\n",
      "  warnings.warn(\n",
      "/Users/calh/Desktop/OC/Projet7/.pixi/envs/default/lib/python3.12/site-packages/sklearn/utils/validation.py:2739: UserWarning: X does not have valid feature names, but LGBMClassifier was fitted with feature names\n",
      "  warnings.warn(\n",
      "/Users/calh/Desktop/OC/Projet7/.pixi/envs/default/lib/python3.12/site-packages/sklearn/utils/validation.py:2739: UserWarning: X does not have valid feature names, but LGBMClassifier was fitted with feature names\n",
      "  warnings.warn(\n",
      "/Users/calh/Desktop/OC/Projet7/.pixi/envs/default/lib/python3.12/site-packages/sklearn/utils/validation.py:2739: UserWarning: X does not have valid feature names, but LGBMClassifier was fitted with feature names\n",
      "  warnings.warn(\n",
      "/Users/calh/Desktop/OC/Projet7/.pixi/envs/default/lib/python3.12/site-packages/sklearn/utils/validation.py:2739: UserWarning: X does not have valid feature names, but LGBMClassifier was fitted with feature names\n",
      "  warnings.warn(\n",
      "/Users/calh/Desktop/OC/Projet7/.pixi/envs/default/lib/python3.12/site-packages/sklearn/utils/validation.py:2739: UserWarning: X does not have valid feature names, but LGBMClassifier was fitted with feature names\n",
      "  warnings.warn(\n",
      "/Users/calh/Desktop/OC/Projet7/.pixi/envs/default/lib/python3.12/site-packages/sklearn/utils/validation.py:2739: UserWarning: X does not have valid feature names, but LGBMClassifier was fitted with feature names\n",
      "  warnings.warn(\n",
      "/Users/calh/Desktop/OC/Projet7/.pixi/envs/default/lib/python3.12/site-packages/sklearn/utils/validation.py:2739: UserWarning: X does not have valid feature names, but LGBMClassifier was fitted with feature names\n",
      "  warnings.warn(\n",
      "/Users/calh/Desktop/OC/Projet7/.pixi/envs/default/lib/python3.12/site-packages/sklearn/utils/validation.py:2739: UserWarning: X does not have valid feature names, but LGBMClassifier was fitted with feature names\n",
      "  warnings.warn(\n",
      "/Users/calh/Desktop/OC/Projet7/.pixi/envs/default/lib/python3.12/site-packages/sklearn/utils/validation.py:2739: UserWarning: X does not have valid feature names, but LGBMClassifier was fitted with feature names\n",
      "  warnings.warn(\n",
      "/Users/calh/Desktop/OC/Projet7/.pixi/envs/default/lib/python3.12/site-packages/sklearn/utils/validation.py:2739: UserWarning: X does not have valid feature names, but LGBMClassifier was fitted with feature names\n",
      "  warnings.warn(\n",
      "/Users/calh/Desktop/OC/Projet7/.pixi/envs/default/lib/python3.12/site-packages/sklearn/utils/validation.py:2739: UserWarning: X does not have valid feature names, but LGBMClassifier was fitted with feature names\n",
      "  warnings.warn(\n",
      "/Users/calh/Desktop/OC/Projet7/.pixi/envs/default/lib/python3.12/site-packages/sklearn/utils/validation.py:2739: UserWarning: X does not have valid feature names, but LGBMClassifier was fitted with feature names\n",
      "  warnings.warn(\n",
      "/Users/calh/Desktop/OC/Projet7/.pixi/envs/default/lib/python3.12/site-packages/sklearn/utils/validation.py:2739: UserWarning: X does not have valid feature names, but LGBMClassifier was fitted with feature names\n",
      "  warnings.warn(\n",
      "/Users/calh/Desktop/OC/Projet7/.pixi/envs/default/lib/python3.12/site-packages/sklearn/utils/validation.py:2739: UserWarning: X does not have valid feature names, but LGBMClassifier was fitted with feature names\n",
      "  warnings.warn(\n",
      "/Users/calh/Desktop/OC/Projet7/.pixi/envs/default/lib/python3.12/site-packages/sklearn/utils/validation.py:2739: UserWarning: X does not have valid feature names, but LGBMClassifier was fitted with feature names\n",
      "  warnings.warn(\n"
     ]
    },
    {
     "name": "stdout",
     "output_type": "stream",
     "text": [
      "\u001b[1m{\u001b[0m\n",
      "\u001b[2;32m│   \u001b[0m\u001b[32m'best_params'\u001b[0m: \u001b[1m{\u001b[0m\n",
      "\u001b[2;32m│   │   \u001b[0m\u001b[32m'estimator__learning_rate'\u001b[0m: \u001b[1;36m0.1\u001b[0m,\n",
      "\u001b[2;32m│   │   \u001b[0m\u001b[32m'estimator__max_depth'\u001b[0m: \u001b[1;36m7\u001b[0m,\n",
      "\u001b[2;32m│   │   \u001b[0m\u001b[32m'estimator__n_estimators'\u001b[0m: \u001b[1;36m200\u001b[0m\n",
      "\u001b[2;32m│   \u001b[0m\u001b[1m}\u001b[0m,\n",
      "\u001b[2;32m│   \u001b[0m\u001b[32m'best_score \u001b[0m\u001b[32m(\u001b[0m\u001b[32mfβ\u001b[0m\u001b[32m)\u001b[0m\u001b[32m'\u001b[0m: \u001b[1;35mnp.float64\u001b[0m\u001b[1m(\u001b[0m\u001b[1;36m0.0002032571478559311\u001b[0m\u001b[1m)\u001b[0m\n",
      "\u001b[1m}\u001b[0m\n",
      "best_threshold: 0.0841, minimized cost: 40598.0000\n",
      "(β=10) score: {'fbeta': 0.5600508522386964, 'precision': 0.12655436987388657, 'recall': 0.57991513437058, 'roc_auc': np.float64(0.6148329075679331)}\n"
     ]
    }
   ],
   "source": [
    "# 1. Load the data\n",
    "lgbm_model_15.load_data(X_train_split_15, X_val_15, y_train_split_15, y_val_15)\n",
    "\n",
    "# 2. Find best parameters\n",
    "print(f\"{lgbm_model_15.name}:\")\n",
    "pprint(lgbm_model_15.find_best_params(beta=10, search_type=\"grid_search\"))\n",
    "\n",
    "# 3. min cost and optimal threshold\n",
    "lgbm_model_15.find_optimal_threshold_for_min_cost(cost_fn=10, cost_fp=1)\n",
    "\n",
    "# 4. evalutate the model\n",
    "lgbm_model_15.evaluate()"
   ]
  },
  {
   "cell_type": "markdown",
   "metadata": {},
   "source": [
    "---"
   ]
  },
  {
   "cell_type": "markdown",
   "metadata": {},
   "source": [
    "## Save data"
   ]
  },
  {
   "cell_type": "code",
   "execution_count": null,
   "metadata": {},
   "outputs": [],
   "source": [
    "# Save data for the evidently Notebook\n",
    "\n",
    "import pickle\n",
    "import joblib\n",
    "\n",
    "# save the data\n",
    "joblib.dump(\n",
    "    logistic_model.y_pred, \"../../data/processed/logistic_y_pred.joblib\", compress=True\n",
    ")\n",
    "joblib.dump(\n",
    "    logistic_model.y_test, \"../../data/processed/logistic_y_test.joblib\", compress=True\n",
    ")\n",
    "joblib.dump(\n",
    "    app_test_domain, \"../../data/processed/app_test_domain.joblib\", compress=True\n",
    ")\n",
    "joblib.dump(\n",
    "    app_train_domain, \"../../data/processed/app_train_domain.joblib\", compress=True\n",
    ")"
   ]
  },
  {
   "cell_type": "code",
   "execution_count": null,
   "metadata": {},
   "outputs": [
    {
     "data": {
      "text/plain": [
       "\u001b[1m[\u001b[0m\u001b[32m'../../data/processed/app_test_domain_top15.joblib'\u001b[0m\u001b[1m]\u001b[0m"
      ]
     },
     "execution_count": null,
     "metadata": {},
     "output_type": "execute_result"
    }
   ],
   "source": [
    "import pickle\n",
    "import joblib\n",
    "\n",
    "# save the data\n",
    "joblib.dump(\n",
    "    app_test_domain, \"../../data/processed/app_test_domain_top15.joblib\", compress=True\n",
    ")\n",
    "# joblib.dump(\n",
    "#     app_train_domain, \"../../data/processed/app_train_domain.joblib\", compress=True\n",
    "# )"
   ]
  },
  {
   "cell_type": "code",
   "execution_count": null,
   "metadata": {},
   "outputs": [],
   "source": [
    "# A single dictionnary to store the info of all the models. Needed to log into MLflow\n",
    "models_info = [\n",
    "    dummy_model.get_model_info(),\n",
    "    logistic_model.get_model_info(),\n",
    "    lgbm_model.get_model_info(),\n",
    "]"
   ]
  },
  {
   "cell_type": "code",
   "execution_count": null,
   "metadata": {},
   "outputs": [
    {
     "data": {
      "text/plain": [
       "\u001b[1m[\u001b[0m\u001b[32m'../../data/processed/preprocessor_top15.joblib'\u001b[0m\u001b[1m]\u001b[0m"
      ]
     },
     "execution_count": null,
     "metadata": {},
     "output_type": "execute_result"
    }
   ],
   "source": [
    "import joblib\n",
    "\n",
    "models_info = [\n",
    "    dummy_model.get_model_info(),\n",
    "    lgbm_model_15.get_model_info(),\n",
    "]\n",
    "\n",
    "joblib.dump(\n",
    "    models_info[1],\n",
    "    \"../../data/processed/lgbm_model_15_info.joblib\",\n",
    "    compress=True,\n",
    ")\n",
    "joblib.dump(\n",
    "    preprocessor_top15,\n",
    "    \"../../data/processed/preprocessor_top15.joblib\",\n",
    "    compress=True,\n",
    ")\n"
   ]
  },
  {
   "cell_type": "code",
   "execution_count": null,
   "metadata": {},
   "outputs": [],
   "source": [
    "import pickle\n",
    "\n",
    "with open(\"../../data/processed/lgbm_model_15.pkl\", \"wb\") as file:\n",
    "    pickle.dump(lgbm_model_15.best_model, file)\n",
    "\n",
    "with open(\"../../data/processed/prep.pkl\", \"wb\") as file:\n",
    "    pickle.dump(pipeline, file)\n"
   ]
  },
  {
   "cell_type": "markdown",
   "metadata": {},
   "source": [
    "---"
   ]
  },
  {
   "cell_type": "markdown",
   "metadata": {},
   "source": [
    "# MLflow"
   ]
  },
  {
   "cell_type": "code",
   "execution_count": null,
   "metadata": {},
   "outputs": [],
   "source": [
    "import mlflow\n",
    "from mlflow.models import infer_signature\n"
   ]
  },
  {
   "cell_type": "code",
   "execution_count": null,
   "metadata": {},
   "outputs": [
    {
     "name": "stderr",
     "output_type": "stream",
     "text": [
      "Processing models:   0%|          | 0/3 [00:00<?, ?it/s]2025/04/15 20:09:08 WARNING mlflow.utils.environment: Failed to resolve installed pip version. ``pip`` will be added to conda.yaml environment spec without a version specifier.\n",
      "Registered model 'Dummy Classifier_reg' already exists. Creating a new version of this model...\n",
      "2025/04/15 20:09:08 INFO mlflow.store.model_registry.abstract_store: Waiting up to 300 seconds for model version to finish creation. Model name: Dummy Classifier_reg, version 7\n",
      "Created version '7' of model 'Dummy Classifier_reg'.\n",
      "Processing models:  33%|███▎      | 1/3 [00:02<00:05,  2.61s/it]"
     ]
    },
    {
     "name": "stdout",
     "output_type": "stream",
     "text": [
      "🏃 View run Dummy Classifier at: http://localhost:5002/#/experiments/358505659432573436/runs/ac7f9235cc3944408b1095f2cc7b9574\n",
      "🧪 View experiment at: http://localhost:5002/#/experiments/358505659432573436\n"
     ]
    },
    {
     "name": "stderr",
     "output_type": "stream",
     "text": [
      "2025/04/15 20:09:11 WARNING mlflow.utils.environment: Failed to resolve installed pip version. ``pip`` will be added to conda.yaml environment spec without a version specifier.\n",
      "Registered model 'Logistic Regression_reg' already exists. Creating a new version of this model...\n",
      "2025/04/15 20:09:11 INFO mlflow.store.model_registry.abstract_store: Waiting up to 300 seconds for model version to finish creation. Model name: Logistic Regression_reg, version 15\n",
      "Created version '15' of model 'Logistic Regression_reg'.\n",
      "Processing models:  67%|██████▋   | 2/3 [00:05<00:02,  2.49s/it]"
     ]
    },
    {
     "name": "stdout",
     "output_type": "stream",
     "text": [
      "🏃 View run Logistic Regression at: http://localhost:5002/#/experiments/358505659432573436/runs/eb5edbd311a14b67a8130a23d1c22dcf\n",
      "🧪 View experiment at: http://localhost:5002/#/experiments/358505659432573436\n"
     ]
    },
    {
     "name": "stderr",
     "output_type": "stream",
     "text": [
      "2025/04/15 20:09:13 WARNING mlflow.utils.environment: Failed to resolve installed pip version. ``pip`` will be added to conda.yaml environment spec without a version specifier.\n",
      "Registered model 'LightGBM Classifier_reg' already exists. Creating a new version of this model...\n",
      "2025/04/15 20:09:13 INFO mlflow.store.model_registry.abstract_store: Waiting up to 300 seconds for model version to finish creation. Model name: LightGBM Classifier_reg, version 2\n",
      "Created version '2' of model 'LightGBM Classifier_reg'.\n",
      "Processing models: 100%|██████████| 3/3 [00:07<00:00,  2.52s/it]"
     ]
    },
    {
     "name": "stdout",
     "output_type": "stream",
     "text": [
      "🏃 View run LightGBM Classifier at: http://localhost:5002/#/experiments/358505659432573436/runs/4767122bce8a427aa58d43278da7bce9\n",
      "🧪 View experiment at: http://localhost:5002/#/experiments/358505659432573436\n"
     ]
    },
    {
     "name": "stderr",
     "output_type": "stream",
     "text": [
      "\n"
     ]
    }
   ],
   "source": [
    "# Initialize MLflow\n",
    "mlflow.set_tracking_uri(\"http://localhost:5002\")\n",
    "mlflow.set_experiment(\"MLflow try3\")\n",
    "# might need to run 'mlflow server --host 127.0.0.1 --port 5002' in the terminal if issues\n",
    "# if using pixi: run 'pixi shell' before the mlflow line at the root directory of the project. Needed because mlflow is installed in the project env and not in the global env, thus the CLI is not accessible in the regular shell.\n",
    "\n",
    "for model_info in tqdm(models_info, desc=\"Processing models\"):\n",
    "    model_name = model_info[\"name\"]\n",
    "    params = model_info[\"params\"]\n",
    "    estimator = model_info[\"estimator\"]\n",
    "    best_model = model_info[\"best_model\"]\n",
    "    results = model_info[\"results\"]\n",
    "    X_test = model_info[\"X_test\"]\n",
    "    y_train = model_info[\"y_train\"]\n",
    "\n",
    "    # Create a sample for signature inference\n",
    "    if X_test is not None:\n",
    "        X_sample = X_test[:5]  # Take first 5 samples from X_test\n",
    "\n",
    "        # Only fit if we have training data and it's not already the best model\n",
    "        if y_train is not None and best_model is None:\n",
    "            y_sample = y_train[:5]\n",
    "            best_model.fit(X_sample, y_sample)\n",
    "\n",
    "        signature = infer_signature(\n",
    "            X_sample, best_model.predict(X_sample), params=params\n",
    "        )\n",
    "        input_example = X_sample\n",
    "    else:\n",
    "        signature = None\n",
    "        input_example = None\n",
    "\n",
    "    with mlflow.start_run(run_name=model_name):\n",
    "        # Log parameters\n",
    "        mlflow.log_params(params)\n",
    "\n",
    "        # Log metrics from the results if available\n",
    "        if results is not None:\n",
    "            metrics_to_log = {}\n",
    "\n",
    "            for metric_name, metric_value in results.items():\n",
    "                metrics_to_log[metric_name] = metric_value\n",
    "\n",
    "            # Log the metrics\n",
    "            if metrics_to_log:\n",
    "                mlflow.log_metrics(metrics_to_log)\n",
    "\n",
    "        # Log the model,\n",
    "        mlflow.sklearn.log_model(\n",
    "            best_model,\n",
    "            \"model\",\n",
    "            signature=signature,\n",
    "            input_example=input_example,\n",
    "            registered_model_name=f\"{model_name}_reg\",\n",
    "        )"
   ]
  },
  {
   "cell_type": "code",
   "execution_count": null,
   "metadata": {},
   "outputs": [],
   "source": [
    "# mlflow.end_run()"
   ]
  },
  {
   "cell_type": "markdown",
   "metadata": {},
   "source": [
    "---"
   ]
  },
  {
   "cell_type": "code",
   "execution_count": 169,
   "metadata": {},
   "outputs": [
    {
     "data": {
      "text/plain": [
       "\n",
       "\u001b[1;35mIndex\u001b[0m\u001b[1m(\u001b[0m\u001b[1m[\u001b[0m\u001b[32m'ORGANIZATION_TYPE'\u001b[0m, \u001b[32m'DAYS_EMPLOYED'\u001b[0m, \u001b[32m'OCCUPATION_TYPE'\u001b[0m,\n",
       "       \u001b[32m'NAME_FAMILY_STATUS'\u001b[0m, \u001b[32m'NAME_EDUCATION_TYPE'\u001b[0m, \u001b[32m'CODE_GENDER'\u001b[0m,\n",
       "       \u001b[32m'WEEKDAY_APPR_PROCESS_START'\u001b[0m, \u001b[32m'FLAG_OWN_CAR'\u001b[0m, \u001b[32m'NAME_CONTRACT_TYPE'\u001b[0m,\n",
       "       \u001b[32m'NAME_INCOME_TYPE'\u001b[0m, \u001b[32m'NAME_HOUSING_TYPE'\u001b[0m, \u001b[32m'REGION_RATING_CLIENT'\u001b[0m,\n",
       "       \u001b[32m'WALLSMATERIAL_MODE'\u001b[0m, \u001b[32m'NAME_TYPE_SUITE'\u001b[0m, \u001b[32m'FLAG_OWN_REALTY'\u001b[0m,\n",
       "       \u001b[32m'SK_ID_CURR'\u001b[0m\u001b[1m]\u001b[0m,\n",
       "      \u001b[33mdtype\u001b[0m=\u001b[32m'object'\u001b[0m\u001b[1m)\u001b[0m"
      ]
     },
     "execution_count": null,
     "metadata": {},
     "output_type": "execute_result"
    }
   ],
   "source": [
    "app_test_domain_top15.columns"
   ]
  },
  {
   "cell_type": "code",
   "execution_count": null,
   "metadata": {},
   "outputs": [
    {
     "data": {
      "text/plain": [
       "\n",
       "\u001b[1;36m0\u001b[0m        \u001b[1;36m100001\u001b[0m\n",
       "\u001b[1;36m1\u001b[0m        \u001b[1;36m100005\u001b[0m\n",
       "\u001b[1;36m2\u001b[0m        \u001b[1;36m100013\u001b[0m\n",
       "\u001b[1;36m3\u001b[0m        \u001b[1;36m100028\u001b[0m\n",
       "\u001b[1;36m4\u001b[0m        \u001b[1;36m100038\u001b[0m\n",
       "          \u001b[33m...\u001b[0m  \n",
       "\u001b[1;36m48739\u001b[0m    \u001b[1;36m456221\u001b[0m\n",
       "\u001b[1;36m48740\u001b[0m    \u001b[1;36m456222\u001b[0m\n",
       "\u001b[1;36m48741\u001b[0m    \u001b[1;36m456223\u001b[0m\n",
       "\u001b[1;36m48742\u001b[0m    \u001b[1;36m456224\u001b[0m\n",
       "\u001b[1;36m48743\u001b[0m    \u001b[1;36m456250\u001b[0m\n",
       "Name: SK_ID_CURR, Length: \u001b[1;36m48744\u001b[0m, dtype: int64"
      ]
     },
     "execution_count": null,
     "metadata": {},
     "output_type": "execute_result"
    }
   ],
   "source": [
    "app_test_domain_top15[\"SK_ID_CURR\"]"
   ]
  }
 ],
 "metadata": {
  "language_info": {
   "name": "python"
  }
 },
 "nbformat": 4,
 "nbformat_minor": 2
}
