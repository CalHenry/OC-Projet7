{
 "cells": [
  {
   "cell_type": "markdown",
   "metadata": {},
   "source": [
    "## P7"
   ]
  },
  {
   "cell_type": "markdown",
   "metadata": {},
   "source": [
    "---"
   ]
  },
  {
   "cell_type": "code",
   "execution_count": null,
   "metadata": {},
   "outputs": [],
   "source": [
    "from evidently import ColumnMapping\n",
    "from evidently.report import Report\n",
    "from evidently.metric_preset import (\n",
    "    DataDriftPreset,\n",
    ")"
   ]
  },
  {
   "cell_type": "code",
   "execution_count": null,
   "metadata": {},
   "outputs": [],
   "source": [
    "import joblib\n",
    "\n",
    "# load data\n",
    "app_train_domain_top15 = joblib.load(\n",
    "    \"../../data/processed/app_train_domain_top15.joblib\"\n",
    ")\n",
    "app_test_domain_top15 = joblib.load(\"../../data/processed/app_test_domain_top15.joblib\")"
   ]
  },
  {
   "cell_type": "code",
   "execution_count": null,
   "metadata": {},
   "outputs": [],
   "source": [
    "# set up data for evidently\n",
    "app_train_domain_top15 = app_train_domain_top15.drop(\"TARGET\", axis=1)\n",
    "\n",
    "categorical_var = app_train_domain_top15.select_dtypes(include=[\"object\"]).columns\n",
    "numerical_var = app_train_domain_top15.columns.difference(categorical_var)\n",
    "\n",
    "column_mapping = ColumnMapping(\n",
    "    target=\"y_test\",\n",
    "    prediction=\"y_pred\",\n",
    "    numerical_features=numerical_var.to_list(),\n",
    "    categorical_features=categorical_var.to_list(),\n",
    ")"
   ]
  },
  {
   "cell_type": "code",
   "execution_count": null,
   "metadata": {},
   "outputs": [],
   "source": [
    "# Create Data Drift Report\n",
    "data_drift_report = Report(\n",
    "    metrics=[\n",
    "        DataDriftPreset(),\n",
    "    ]\n",
    ")\n",
    "\n",
    "data_drift_report.run(\n",
    "    reference_data=app_train_domain_top15,\n",
    "    current_data=app_test_domain_top15,\n",
    "    column_mapping=column_mapping,\n",
    ")\n",
    "\n",
    "data_drift_report.save_html(\"../../figures/data_drift_report.html\")"
   ]
  },
  {
   "cell_type": "code",
   "execution_count": null,
   "metadata": {},
   "outputs": [],
   "source": [
    "data_drift_report.show()"
   ]
  }
 ],
 "metadata": {
  "language_info": {
   "name": "python"
  }
 },
 "nbformat": 4,
 "nbformat_minor": 2
}
