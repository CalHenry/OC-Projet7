{
 "cells": [
  {
   "cell_type": "markdown",
   "metadata": {},
   "source": [
    "## P7"
   ]
  },
  {
   "cell_type": "markdown",
   "metadata": {},
   "source": [
    "---"
   ]
  },
  {
   "cell_type": "code",
   "execution_count": null,
   "metadata": {},
   "outputs": [],
   "source": [
    "import numpy as np\n",
    "import pandas as pd\n",
    "\n",
    "from evidently import ColumnMapping\n",
    "from evidently.report import Report\n",
    "from evidently.metric_preset import (\n",
    "    DataDriftPreset,\n",
    "    # DataQualityPreset,\n",
    "    # TargetDriftPreset,\n",
    ")\n",
    "\n",
    "%load_ext rich\n"
   ]
  },
  {
   "cell_type": "code",
   "execution_count": null,
   "metadata": {},
   "outputs": [],
   "source": [
    "import joblib\n",
    "\n",
    "# load data\n",
    "app_train_domain = joblib.load(\"../../data/processed/app_train_domain.joblib\")\n",
    "logistic_y_train = joblib.load(\"../../data/processed/logistic_y_train.joblib\")\n",
    "logistic_y_test = joblib.load(\"../../data/processed/logistic_y_test.joblib\")\n",
    "logistic_y_pred = joblib.load(\"../../data/processed/logistic_y_pred.joblib\")\n",
    "app_test_domain = joblib.load(\"../../data/processed/app_test_domain.joblib\")\n",
    "\n",
    "logistic_y_pred = pd.DataFrame(logistic_y_pred[:, 1], columns=[\"y_pred\"])\n",
    "logistic_y_test = pd.DataFrame(logistic_y_test)\n",
    "logistic_y_train = pd.DataFrame(logistic_y_train)"
   ]
  },
  {
   "cell_type": "code",
   "execution_count": null,
   "metadata": {},
   "outputs": [],
   "source": [
    "# set up data for evidently\n",
    "categorical_var = app_train_domain.select_dtypes(include=[\"object\"]).columns\n",
    "numerical_var = app_train_domain.columns.difference(categorical_var)\n",
    "\n",
    "column_mapping = ColumnMapping(\n",
    "    target=\"y_test\",\n",
    "    prediction=\"y_pred\",\n",
    "    numerical_features=numerical_var.to_list(),\n",
    "    categorical_features=categorical_var.to_list(),\n",
    ")\n",
    "sample_train = app_train_domain.sample(n=100000, random_state=1)\n",
    "sample_test = app_test_domain.sample(n=10000, random_state=1)\n",
    "\n",
    "sample_train = sample_train.drop(\"TARGET\", axis=1)"
   ]
  },
  {
   "cell_type": "code",
   "execution_count": null,
   "metadata": {},
   "outputs": [],
   "source": [
    "# Create Data Drift Report\n",
    "data_drift_report = Report(\n",
    "    metrics=[\n",
    "        DataDriftPreset(),\n",
    "    ]\n",
    ")\n",
    "\n",
    "\n",
    "# Step 5: Run the report\n",
    "data_drift_report.run(\n",
    "    reference_data=sample_train,\n",
    "    current_data=sample_test,\n",
    "    column_mapping=column_mapping,\n",
    ")\n",
    "\n",
    "data_drift_report.save_html(\"../../figures/data_drift_report.html\")"
   ]
  },
  {
   "cell_type": "code",
   "execution_count": null,
   "metadata": {},
   "outputs": [],
   "source": [
    "data_drift_report.show()"
   ]
  }
 ],
 "metadata": {
  "language_info": {
   "name": "python"
  }
 },
 "nbformat": 4,
 "nbformat_minor": 2
}
