{
 "cells": [
  {
   "cell_type": "markdown",
   "metadata": {},
   "source": [
    "## P7 - Prep the data "
   ]
  },
  {
   "cell_type": "markdown",
   "metadata": {},
   "source": [
    "---"
   ]
  },
  {
   "cell_type": "code",
   "execution_count": 1,
   "metadata": {},
   "outputs": [],
   "source": [
    "import random\n",
    "import numpy as np\n",
    "import pandas as pd\n",
    "from sklearn.impute import SimpleImputer\n",
    "from sklearn.preprocessing import LabelEncoder, MinMaxScaler\n",
    "\n",
    "import matplotlib.pyplot as plt\n",
    "import seaborn as sns\n",
    "\n",
    "from tqdm import tqdm\n",
    "\n",
    "from rich.pretty import pprint\n",
    "%load_ext rich\n",
    "\n",
    "import warnings\n",
    "\n",
    "warnings.filterwarnings(\"ignore\")\n"
   ]
  },
  {
   "cell_type": "markdown",
   "metadata": {},
   "source": [
    "---"
   ]
  },
  {
   "cell_type": "markdown",
   "metadata": {},
   "source": [
    "## Kernel Kaggle"
   ]
  },
  {
   "cell_type": "code",
   "execution_count": 2,
   "metadata": {},
   "outputs": [],
   "source": [
    "# Fonction Cleaning Finale\n",
    "def cleaning(features, test_features, encoding=\"ohe\"):\n",
    "    \"\"\"Fonction cleaning finale\"\"\"\n",
    "    # Extract the ids\n",
    "    train_ids = features[\"SK_ID_CURR\"]\n",
    "    test_ids = test_features[\"SK_ID_CURR\"]\n",
    "\n",
    "    # Extract the labels for training\n",
    "    labels = features[\"TARGET\"]\n",
    "\n",
    "    # Remove the ids and target\n",
    "    features = features.drop(columns=[\"SK_ID_CURR\", \"TARGET\"])\n",
    "    test_features = test_features.drop(columns=[\"SK_ID_CURR\"])\n",
    "\n",
    "    # One Hot Encoding\n",
    "    if encoding == \"ohe\":\n",
    "        features = pd.get_dummies(features)\n",
    "        test_features = pd.get_dummies(test_features)\n",
    "\n",
    "        # Align the dataframes by the columns\n",
    "        features, test_features = features.align(test_features, join=\"inner\", axis=1)\n",
    "\n",
    "        # No categorical indices to record\n",
    "        cat_indices = \"auto\"\n",
    "\n",
    "    # Integer label encoding\n",
    "    elif encoding == \"le\":\n",
    "        # Create a label encoder\n",
    "        label_encoder = LabelEncoder()\n",
    "\n",
    "        # List for storing categorical indices\n",
    "        cat_indices = []\n",
    "\n",
    "        # Iterate through each column\n",
    "        for i, col in enumerate(features):\n",
    "            if features[col].dtype == \"object\":\n",
    "                # Map the categorical features to integers\n",
    "                features[col] = label_encoder.fit_transform(\n",
    "                    np.array(features[col].astype(str)).reshape((-1,))\n",
    "                )\n",
    "                test_features[col] = label_encoder.transform(\n",
    "                    np.array(test_features[col].astype(str)).reshape((-1,))\n",
    "                )\n",
    "\n",
    "                # Record the categorical indices\n",
    "                cat_indices.append(i)\n",
    "\n",
    "    # Catch error if label encoding scheme is not valid\n",
    "    else:\n",
    "        raise ValueError(\"Encoding must be either 'ohe' or 'le'\")\n",
    "\n",
    "    print(\"Training Data Shape: \", features.shape)\n",
    "    print(\"Testing Data Shape: \", test_features.shape)\n",
    "\n",
    "    # Extract feature names\n",
    "    feature_names = list(features.columns)\n",
    "\n",
    "    # Impute the domainnomial features\n",
    "    imputer = SimpleImputer(strategy=\"median\")\n",
    "\n",
    "    features = imputer.fit_transform(features)\n",
    "    test_features = imputer.transform(test_features)\n",
    "\n",
    "    # Scale the domainnomial features\n",
    "    scaler = MinMaxScaler(feature_range=(0, 1))\n",
    "\n",
    "    features = scaler.fit_transform(features)\n",
    "    test_features = scaler.transform(test_features)\n",
    "\n",
    "    # Convert to np arrays\n",
    "    features = np.array(features)\n",
    "    test_features = np.array(test_features)\n",
    "\n",
    "    return feature_names, labels, features, test_features, train_ids, test_ids\n"
   ]
  },
  {
   "cell_type": "code",
   "execution_count": 3,
   "metadata": {},
   "outputs": [
    {
     "name": "stdout",
     "output_type": "stream",
     "text": [
      "Training data shape:  (307511, 122)\n",
      "Testing data shape:  (48744, 121)\n"
     ]
    }
   ],
   "source": [
    "# Training data\n",
    "app_train = pd.read_csv(\"../../data/raw/application_train.csv\")\n",
    "print(\"Training data shape: \", app_train.shape)\n",
    "app_train.head(2)\n",
    "\n",
    "# Testing data features\n",
    "app_test = pd.read_csv(\"../../data/raw/application_test.csv\")\n",
    "print(\"Testing data shape: \", app_test.shape)\n",
    "app_test.head(2)\n",
    "\n",
    "# copy to add fe\n",
    "app_train_domain = app_train.copy()\n",
    "app_test_domain = app_test.copy()\n",
    "\n",
    "# feature engineering with domain knowledge variables\n",
    "app_train_domain[\"CREDIT_INCOME_PERCENT\"] = (\n",
    "    app_train_domain[\"AMT_CREDIT\"] / app_train_domain[\"AMT_INCOME_TOTAL\"]\n",
    ")\n",
    "app_train_domain[\"ANNUITY_INCOME_PERCENT\"] = (\n",
    "    app_train_domain[\"AMT_ANNUITY\"] / app_train_domain[\"AMT_INCOME_TOTAL\"]\n",
    ")\n",
    "app_train_domain[\"CREDIT_TERM\"] = (\n",
    "    app_train_domain[\"AMT_ANNUITY\"] / app_train_domain[\"AMT_CREDIT\"]\n",
    ")\n",
    "app_train_domain[\"DAYS_EMPLOYED_PERCENT\"] = (\n",
    "    app_train_domain[\"DAYS_EMPLOYED\"] / app_train_domain[\"DAYS_BIRTH\"]\n",
    ")\n",
    "\n",
    "app_test_domain[\"CREDIT_INCOME_PERCENT\"] = (\n",
    "    app_test_domain[\"AMT_CREDIT\"] / app_test_domain[\"AMT_INCOME_TOTAL\"]\n",
    ")\n",
    "app_test_domain[\"ANNUITY_INCOME_PERCENT\"] = (\n",
    "    app_test_domain[\"AMT_ANNUITY\"] / app_test_domain[\"AMT_INCOME_TOTAL\"]\n",
    ")\n",
    "app_test_domain[\"CREDIT_TERM\"] = (\n",
    "    app_test_domain[\"AMT_ANNUITY\"] / app_test_domain[\"AMT_CREDIT\"]\n",
    ")\n",
    "app_test_domain[\"DAYS_EMPLOYED_PERCENT\"] = (\n",
    "    app_test_domain[\"DAYS_EMPLOYED\"] / app_test_domain[\"DAYS_BIRTH\"]\n",
    ")\n",
    "\n",
    "# Create an anomalous flag column\n",
    "app_train_domain[\"DAYS_EMPLOYED_ANOM\"] = app_train_domain[\"DAYS_EMPLOYED\"] == 365243\n",
    "# Replace the anomalous values with nan\n",
    "app_train_domain[\"DAYS_EMPLOYED\"].replace({365243: np.nan}, inplace=True)\n",
    "\n",
    "app_test_domain[\"DAYS_EMPLOYED_ANOM\"] = app_test_domain[\"DAYS_EMPLOYED\"] == 365243\n",
    "app_test_domain[\"DAYS_EMPLOYED\"].replace({365243: np.nan}, inplace=True)\n",
    "\n",
    "\n",
    "app_train_domain[\"DAYS_EMPLOYED_ANOM\"] = app_train_domain[\"DAYS_EMPLOYED_ANOM\"].astype(\n",
    "    \"int32\"\n",
    ")\n",
    "app_test_domain[\"DAYS_EMPLOYED_ANOM\"] = app_test_domain[\"DAYS_EMPLOYED_ANOM\"].astype(\n",
    "    \"int32\"\n",
    ")"
   ]
  },
  {
   "cell_type": "code",
   "execution_count": 4,
   "metadata": {},
   "outputs": [
    {
     "name": "stdout",
     "output_type": "stream",
     "text": [
      "Training Data Shape:  (307511, 246)\n",
      "Testing Data Shape:  (48744, 246)\n"
     ]
    }
   ],
   "source": [
    "liste_features, y_train, X_train, X_test, train_ids, test_ids = cleaning(\n",
    "    app_train_domain, app_test_domain, encoding=\"ohe\"\n",
    ")\n",
    "train_final = pd.DataFrame(X_train, columns=liste_features)\n",
    "train_final[\"LABELS\"] = y_train\n",
    "train_final[\"SK_ID_CURR\"] = train_ids\n",
    "\n",
    "test_final = pd.DataFrame(X_test, columns=liste_features)\n",
    "test_final[\"SK_ID_CURR\"] = test_ids\n"
   ]
  },
  {
   "cell_type": "markdown",
   "metadata": {},
   "source": [
    "We create a test and train set from the train and test set we obtain.  \n",
    "\n",
    "We don't have true label for the test set, thus we will use the train set to train and evaluate our models.  \n",
    "To do so, we split it into train and test.  \n",
    "We will create **X_train_split**, **y_train_split**, **X_val** and **y_val**"
   ]
  },
  {
   "cell_type": "code",
   "execution_count": 5,
   "metadata": {},
   "outputs": [],
   "source": [
    "from sklearn.model_selection import train_test_split\n",
    "\n",
    "X_train_split, X_val, y_train_split, y_val = train_test_split(\n",
    "    X_train, y_train, test_size=0.2, random_state=42\n",
    ")\n"
   ]
  },
  {
   "cell_type": "markdown",
   "metadata": {},
   "source": [
    "---"
   ]
  },
  {
   "cell_type": "markdown",
   "metadata": {},
   "source": [
    "## Models"
   ]
  },
  {
   "cell_type": "code",
   "execution_count": 6,
   "metadata": {},
   "outputs": [],
   "source": [
    "from sklearn.dummy import DummyClassifier\n",
    "from sklearn.linear_model import LogisticRegression\n",
    "from sklearn.ensemble import RandomForestClassifier\n",
    "from lightgbm import LGBMClassifier"
   ]
  },
  {
   "cell_type": "markdown",
   "metadata": {},
   "source": [
    "### Models scores"
   ]
  },
  {
   "cell_type": "code",
   "execution_count": 8,
   "metadata": {},
   "outputs": [],
   "source": [
    "from sklearn.metrics import (\n",
    "    make_scorer,\n",
    "    roc_auc_score,\n",
    "    accuracy_score,\n",
    "    precision_score,\n",
    "    recall_score,\n",
    "    f1_score,\n",
    ")\n",
    "\n",
    "scoring = {\n",
    "    \"roc_auc\": make_scorer(roc_auc_score),\n",
    "    \"accuracy\": make_scorer(accuracy_score),\n",
    "    \"precision\": make_scorer(precision_score),\n",
    "    \"recall\": make_scorer(recall_score),\n",
    "    \"f1\": make_scorer(f1_score),\n",
    "}\n"
   ]
  },
  {
   "cell_type": "code",
   "execution_count": null,
   "metadata": {},
   "outputs": [],
   "source": [
    "def my_custom_loss_func(y_true, y_pred):\n",
    "    diff = np.abs(y_true - y_pred).max()\n",
    "\n",
    "    return np.log1p(diff)\n",
    "\n",
    "\n",
    "# score will negate the return value of my_custom_loss_func,\n",
    "\n",
    "# which will be np.log(2), 0.693, given the values for X\n",
    "\n",
    "# and y defined below.\n",
    "\n",
    "score = make_scorer(my_custom_loss_func, greater_is_better=False)"
   ]
  },
  {
   "cell_type": "markdown",
   "metadata": {},
   "source": [
    "---"
   ]
  },
  {
   "cell_type": "markdown",
   "metadata": {},
   "source": [
    "### SMOTE"
   ]
  },
  {
   "cell_type": "code",
   "execution_count": 8,
   "metadata": {},
   "outputs": [
    {
     "name": "stdout",
     "output_type": "stream",
     "text": [
      "Original class distribution: TARGET\n",
      "0    282686\n",
      "1     24825\n",
      "Name: count, dtype: int64\n",
      "Resampled class distribution: TARGET\n",
      "0    189324\n",
      "1    189324\n",
      "Name: count, dtype: int64\n"
     ]
    }
   ],
   "source": [
    "from imblearn.over_sampling import SMOTE\n",
    "\n",
    "\n",
    "smote = SMOTE(random_state=42)\n",
    "X_train_split_resampled, y_train_split_resampled = smote.fit_resample(\n",
    "    X_train_split, y_train_split\n",
    ")\n",
    "\n",
    "# Check the new class distribution\n",
    "print(\"Original class distribution:\", pd.Series(y_train).value_counts())\n",
    "print(\n",
    "    \"Resampled class distribution:\", pd.Series(y_train_split_resampled).value_counts()\n",
    ")"
   ]
  },
  {
   "cell_type": "markdown",
   "metadata": {},
   "source": [
    "---"
   ]
  },
  {
   "cell_type": "markdown",
   "metadata": {},
   "source": [
    "---"
   ]
  },
  {
   "cell_type": "code",
   "execution_count": null,
   "metadata": {},
   "outputs": [],
   "source": [
    "from sklearn.model_selection import GridSearchCV, RandomizedSearchCV\n",
    "from scipy.stats import uniform, randint\n",
    "from sklearn.metrics import precision_score\n",
    "from sklearn.metrics import accuracy_score\n",
    "from sklearn.metrics import recall_score\n",
    "from sklearn.metrics import f1_score\n",
    "from sklearn.metrics import roc_auc_score\n",
    "from sklearn.metrics import roc_curve\n",
    "from sklearn.metrics import make_scorer, fbeta_score\n",
    "from sklearn.metrics import confusion_matrix\n",
    "\n",
    "\n",
    "# Model class\n",
    "class Model:\n",
    "    def __init__(self, name, estimator, params):\n",
    "        \"\"\"\n",
    "        Parameters:\n",
    "        - name: str, name of the model\n",
    "        - estimator: sklearn estimator object\n",
    "        - params: dict, parameters for grid search\n",
    "        \"\"\"\n",
    "\n",
    "        self.name = name\n",
    "        self.estimator = estimator\n",
    "        self.params = params\n",
    "        self.best_model = None\n",
    "\n",
    "        self.X_train = None\n",
    "        self.X_test = None\n",
    "        self.y_train = None\n",
    "        self.y_test = None\n",
    "        self.y_pred = None\n",
    "        self.y_pred_binary = None\n",
    "\n",
    "        self.results = None\n",
    "        self.best_threshold = None\n",
    "        self.min_cost = None\n",
    "\n",
    "\n",
    "    def load_data(self, X_train, X_test, y_train, y_test):\n",
    "        \"\"\"Load training and testing data.\"\"\"\n",
    "        self.X_train = X_train\n",
    "        self.X_test = X_test\n",
    "        self.y_train = y_train\n",
    "        self.y_test = y_test\n",
    "\n",
    "    def find_best_params(self, cv=5, beta=10, search_type=\"grid\"):\n",
    "        \"\"\"\n",
    "        Use GridSearchCV to find the best parameters.\n",
    "        \"\"\"\n",
    "        self.beta = beta\n",
    "\n",
    "        if self.X_train is None or self.y_train is None:\n",
    "            raise ValueError(\"Data not loaded yet. Call load_data first.\")\n",
    "\n",
    "        # We want to maximize fbeta_score with gridsearchcv\n",
    "        fbeta_scorer = make_scorer(fbeta_score, beta=beta)\n",
    "\n",
    "        if search_type == \"grid_search\":\n",
    "            param_grid = {\n",
    "                param: config[\"values\"] for param, config in self.params.items()\n",
    "            }\n",
    "\n",
    "            search = GridSearchCV(\n",
    "                estimator=self.estimator,\n",
    "                param_grid=param_grid,\n",
    "                cv=cv,\n",
    "                # scoring=fbeta_score(self.y_train, beta=10),\n",
    "                scoring=fbeta_scorer,\n",
    "                n_jobs=6,\n",
    "            )\n",
    "\n",
    "        elif search_type == \"random_search\":\n",
    "            param_distributions = {}\n",
    "            for param, config in self.params.items():\n",
    "                if config[\"type\"] == \"int\":\n",
    "                    param_distributions[param] = randint(\n",
    "                        config[\"min\"], config[\"max\"] + 1\n",
    "                    )\n",
    "                elif config[\"type\"] == \"float\":\n",
    "                    param_distributions[param] = uniform(\n",
    "                        config[\"min\"], config[\"max\"] - config[\"min\"]\n",
    "                    )\n",
    "                # elif config[\"type\"] == \"str\":\n",
    "\n",
    "            search = RandomizedSearchCV(\n",
    "                estimator=self.estimator,\n",
    "                param_distributions=param_distributions,\n",
    "                cv=cv,\n",
    "                # scoring=fbeta_score(self.y_train, beta=10),\n",
    "                scoring=fbeta_scorer,\n",
    "                n_iter=1,\n",
    "                n_jobs=-4,\n",
    "            )\n",
    "\n",
    "        else:\n",
    "            raise ValueError(\n",
    "                \"search_type must be 'grid_search' or 'random_search' for GridSearchCV or RandomizedSearchCV\"\n",
    "            )\n",
    "\n",
    "        search.fit(self.X_train, self.y_train)\n",
    "        self.best_model = search.best_estimator_\n",
    "\n",
    "        return {\n",
    "            \"best_params\": search.best_params_,\n",
    "            \"best_score\": search.best_score_,\n",
    "        }\n",
    "\n",
    "    def evaluate(self, metrics=None):\n",
    "        \"\"\"\n",
    "        Evaluate the best model on the test set using multiple metrics.\n",
    "        Parameters: metrics : List of metric names to calculate'\n",
    "        Returns: Dictionary containing the scores for all requested metrics\n",
    "        \"\"\"\n",
    "\n",
    "        if self.best_model is None:\n",
    "            raise ValueError(\"Model not trained yet. Call find_best_params first.\")\n",
    "\n",
    "        results = {\n",
    "            self.best_model.score(self.X_test, self.y_test)\n",
    "        }\n",
    "\n",
    "        metrics = [\"fbeta\", \"precision\", \"recall\", \"roc_auc\"]\n",
    "\n",
    "        # Get predictions\n",
    "        y_pred = self.best_model.predict_proba(self.X_test)\n",
    "        \n",
    "        # Calculate requested metrics\n",
    "        for metric in metrics:\n",
    "            if metric == \"fbeta\":\n",
    "                results[\"fbeta\"] = fbeta_score(self.y_test, y_pred, beta=self.beta)\n",
    "            if metric == \"precision\":\n",
    "                results[\"precision\"] = precision_score(self.y_test, y_pred)\n",
    "            elif metric == \"recall\":\n",
    "                results[\"recall\"] = recall_score(self.y_test, y_pred)\n",
    "            elif metric == \"roc_auc\":\n",
    "                results[\"roc_auc\"] = roc_auc_score(self.y_test, y_pred)\n",
    "    \n",
    "        print(f\"fβ(={self.beta}) score: {results}\")\n",
    "        \n",
    "        self.y_pred = y_pred\n",
    "        self.results = results\n",
    "\n",
    "    def find_optimal_threshold_for_min_cost(self, y_true, y_proba, cost_fn=10, cost_fp=1):\n",
    "        \"\"\"\n",
    "        Minize the total cost given the simple formula.\n",
    "        Find the best threshold given the minimized total cost\n",
    "        :param desired_fnr: targeted False Negative Rate (FNR).\n",
    "        \"\"\"\n",
    "        # Get predictions\n",
    "        y_pred = self.best_model.predict_proba(self.X_test)\n",
    "        self.y_pred = y_pred\n",
    "\n",
    "        thresholds = np.linspace(0, 1, 1000)\n",
    "        min_cost = float('inf')\n",
    "        best_threshold = 0.5\n",
    "        \n",
    "        for threshold in thresholds:\n",
    "            y_pred_binary = (self.y_pred[:, 1] >= threshold).astype(int)\n",
    "            #tn, fp, fn, tp = confusion_matrix(self.y_test, self.y_pred, labels=[0, 1]).ravel()\n",
    "            tn, fp, fn, tp = confusion_matrix(self.y_test, y_pred_binary).ravel()\n",
    "\n",
    "           # Simple cost function that directly depends on the costs ratios to determine the importance of FP or FN.\n",
    "           # In our case, a False Negative cost much ore that a False positive.\n",
    "            total_cost = (fp * cost_fp) + (fn * cost_fn)\n",
    "            \n",
    "            if total_cost < min_cost:\n",
    "                min_cost = total_cost\n",
    "                best_threshold = threshold\n",
    "\n",
    "        self.y_pred_binary = y_pred_binary\n",
    "        self.best_threshold = best_threshold\n",
    "        self.min_cost = min_cost\n",
    "\n",
    "        print(f'alo: {self.y_pred_binary}')\n",
    "        print(f'best_threshold: {best_threshold:.4f}, minimized cost: {min_cost:.4f}')\n",
    "\n",
    "\n",
    "    def evaluate2(self, metrics=None):\n",
    "        \"\"\"\n",
    "        Evaluate the best model on the test set using multiple metrics.\n",
    "        Parameters: metrics : List of metric names to calculate'\n",
    "        Returns: Dictionary containing the scores for all requested metrics\n",
    "        \"\"\"\n",
    "        if self.best_model is None:\n",
    "            raise ValueError(\"Model not trained yet. Call find_best_params first.\")\n",
    "\n",
    "        results = {}\n",
    "\n",
    "        if metrics is None:\n",
    "            metrics = [\"fbeta\", \"precision\", \"recall\", \"roc_auc\"]\n",
    "\n",
    "        # Calculate requested metrics\n",
    "        for metric in metrics:\n",
    "            if metric == \"fbeta\":\n",
    "                results[\"fbeta\"] = fbeta_score(self.y_test, self.y_pred_binary, beta=self.beta)\n",
    "            elif metric == \"precision\":\n",
    "                results[\"precision\"] = precision_score(self.y_test, self.y_pred_binary)\n",
    "            elif metric == \"recall\":\n",
    "                results[\"recall\"] = recall_score(self.y_test, self.y_pred_binary)\n",
    "            elif metric == \"roc_auc\":\n",
    "                results[\"roc_auc\"] = roc_auc_score(self.y_test, self.y_pred_binary)\n",
    "    \n",
    "        print(f\"fβ(={self.beta}) score: {results}\")\n",
    "        \n",
    "        self.results = results\n",
    "\n",
    "    def get_model_info(self):\n",
    "        \"\"\"\n",
    "        Returns a dictionary containing the model's information.\n",
    "        \"\"\"\n",
    "        return {\n",
    "            'name': self.name,\n",
    "            'estimator': self.estimator,\n",
    "            'params': self.params,\n",
    "            'best_model': self.best_model,\n",
    "            'X_train': self.X_train,\n",
    "            'X_test': self.X_test,\n",
    "            'y_train': self.y_train,\n",
    "            'results': self.results,\n",
    "            'min_cost': self.min_cost,\n",
    "            'best_threshold': self.best_threshold\n",
    "        }\n"
   ]
  },
  {
   "cell_type": "markdown",
   "metadata": {},
   "source": [
    "5 steps :  \n",
    "1.load data with **.load_data**  \n",
    "2.find best params with GridSearchCV using **.find_best_params**  \n",
    "3. evaluate on test set with **.evaluate**  \n",
    "4. get the minimized cost for the best_model and the corresponding classification threshold with **.find_optimal_threshold_for_min_cost**  \n",
    "5. Retreive the info for each model wth the **.get_model_info** (usefull to log into mlflow)  \n"
   ]
  },
  {
   "cell_type": "code",
   "execution_count": 148,
   "metadata": {},
   "outputs": [],
   "source": [
    "dummy_model = Model(\n",
    "    name=\"Dummy Classifier\",\n",
    "    estimator=DummyClassifier(random_state=42),\n",
    "    params={\n",
    "        \"strategy\": {\n",
    "            \"type\": \"str\",\n",
    "            \"values\": [\"most_frequent\", \"stratified\", \"uniform\"],\n",
    "        }\n",
    "    },\n",
    ")\n",
    "\n",
    "logistic_model = Model(\n",
    "    name=\"Logistic Regression\",\n",
    "    estimator=LogisticRegression(random_state=42, verbose=1, n_jobs=1),\n",
    "    params={\n",
    "        \"C\": {\"type\": \"float\", \"values\": np.logspace(0, 1, num=10).tolist()},\n",
    "        \"tol\": {\"type\": \"int\", \"values\": [0.001, 0.01]},\n",
    "    },\n",
    ")\n",
    "\n",
    "random_forest = Model(\n",
    "    name=\"Random_forest_classifier\",\n",
    "    estimator=RandomForestClassifier(random_state=42, verbose=1, n_jobs=1),\n",
    "    params={\n",
    "        \"n_estimators\": {\n",
    "            \"type\": \"int\",\n",
    "            \"min\": 100,\n",
    "            \"max\": 200,\n",
    "            \"values\": [100, 200],\n",
    "        },\n",
    "        \"min_samples_split\": {\n",
    "            \"type\": \"int\",\n",
    "            \"min\": 2,\n",
    "            \"max\": 5,\n",
    "            \"values\": [2, 3, 5],\n",
    "        },\n",
    "        \"min_samples_leaf\": {\n",
    "            \"type\": \"int\",\n",
    "            \"min\": 1,\n",
    "            \"max\": 3,\n",
    "            \"values\": [1, 2, 3],\n",
    "        },\n",
    "    },\n",
    ")\n",
    "\n",
    "lgbm_model = Model(\n",
    "    name=\"LightGBM Classifier\",\n",
    "    estimator=LGBMClassifier(random_state=42, n_jobs=1, verbose=-1),\n",
    "    params={\n",
    "        \"learning_rate\": {\n",
    "            \"type\": \"float\",\n",
    "            \"values\": [0.01, 0.05, 0.1],\n",
    "            \"min\": 0.01,\n",
    "            \"max\": 0.1,\n",
    "        },\n",
    "        \"n_estimators\": {\"type\": \"int\", \"values\": [100, 200], \"min\": 100, \"max\": 200},\n",
    "        \"max_depth\": {\"type\": \"int\", \"values\": [3, 5, 7], \"min\": 3, \"max\": 7},\n",
    "    },\n",
    ")\n",
    "# n_jobs are set to 1 to avoid nested parallelization.\n",
    "# Parallelization is done at the gridsearch level."
   ]
  },
  {
   "cell_type": "code",
   "execution_count": 149,
   "metadata": {},
   "outputs": [
    {
     "name": "stdout",
     "output_type": "stream",
     "text": [
      "Dummy Classifier:\n",
      "\u001b[1m{\u001b[0m\n",
      "\u001b[2;32m│   \u001b[0m\u001b[32m'best_params'\u001b[0m: \u001b[1m{\u001b[0m\u001b[32m'strategy'\u001b[0m: \u001b[32m'uniform'\u001b[0m\u001b[1m}\u001b[0m,\n",
      "\u001b[2;32m│   \u001b[0m\u001b[32m'best_score'\u001b[0m: \u001b[1;35mnp.float64\u001b[0m\u001b[1m(\u001b[0m\u001b[1;36m0.47609782575933635\u001b[0m\u001b[1m)\u001b[0m\n",
      "\u001b[1m}\u001b[0m\n",
      "alo: [0 0 0 ... 0 0 0]\n",
      "best_threshold: 0.5005, minimized cost: 49490.0000\n",
      "fβ(=10) score: {'fbeta': 0.0, 'precision': 0.0, 'recall': 0.0, 'roc_auc': np.float64(0.5)}\n",
      "0.5\n",
      "Test score: None\n"
     ]
    }
   ],
   "source": [
    "# 1. Load the data\n",
    "dummy_model.load_data(X_train_split, X_val, y_train_split, y_val)\n",
    "\n",
    "# 2. Find best parameters\n",
    "dummy_results = dummy_model.find_best_params(beta=10, search_type=\"grid_search\")\n",
    "print(f\"{dummy_model.name}:\")\n",
    "pprint(dummy_results)\n",
    "\n",
    "# 3.\n",
    "dummy_model.find_optimal_threshold_for_min_cost(dummy_model.y_test, dummy_model.y_pred, cost_fn=10, cost_fp=1)\n",
    "# 4. evalutate the model\n",
    "print(f\"Test score: {dummy_model.evaluate2()}\")"
   ]
  },
  {
   "cell_type": "code",
   "execution_count": 54,
   "metadata": {},
   "outputs": [
    {
     "name": "stdout",
     "output_type": "stream",
     "text": [
      "\n",
      "Logistic Regression best parameters:\n",
      "{'best_params': {'C': 4.641588833612778, 'tol': 0.001}, 'best_score': np.float64(0.01008692868469038)}\n",
      "fβ(=20) score: {0.9192071931450498}\n",
      "Test fbeta score: {0.9192071931450498}\n"
     ]
    }
   ],
   "source": [
    "logistic_model.load_data(X_train_split, X_val, y_train_split, y_val)\n",
    "logistic_results = logistic_model.find_best_params(beta=20, search_type='grid_search')\n",
    "print(f\"\\n{logistic_model.name} best parameters:\")\n",
    "print(logistic_results)\n",
    "print(f\"Test fbeta score: {logistic_model.evaluate(prediction_method='predict_proba')}\")"
   ]
  },
  {
   "cell_type": "code",
   "execution_count": 161,
   "metadata": {},
   "outputs": [
    {
     "name": "stdout",
     "output_type": "stream",
     "text": [
      "\n",
      "Logistic Regression best parameters:\n",
      "{'best_params': {'C': 4.641588833612778, 'tol': 0.001}, 'best_score': np.float64(0.01016076607046979)}\n",
      "alo: [0 0 0 ... 0 0 0]\n",
      "best_threshold: 0.6226, minimized cost: 4944.0000\n",
      "fβ(=10) score: {'fbeta': 0.0, 'precision': 0.0, 'recall': 0.0, 'roc_auc': np.float64(0.5)}\n",
      "0.5\n"
     ]
    }
   ],
   "source": [
    "logistic_model.load_data(X_train_split, X_val, y_train_split, y_val)\n",
    "logistic_results = logistic_model.find_best_params(beta=10, search_type='grid_search')\n",
    "print(f\"\\n{logistic_model.name} best parameters:\")\n",
    "print(logistic_results)\n",
    "#print(f\"Test fbeta score: {logistic_model.evaluate(prediction_method='predict_proba')}\")\n",
    "\n",
    "logistic_model.find_optimal_threshold_for_min_cost(logistic_model.y_test, logistic_model.y_pred, cost_fn=1, cost_fp=1)\n",
    "logistic_model.evaluate2()"
   ]
  },
  {
   "cell_type": "code",
   "execution_count": 162,
   "metadata": {},
   "outputs": [
    {
     "data": {
      "text/plain": [
       "\u001b[1;35mnp.int64\u001b[0m\u001b[1m(\u001b[0m\u001b[1;36m0\u001b[0m\u001b[1m)\u001b[0m"
      ]
     },
     "execution_count": null,
     "metadata": {},
     "output_type": "execute_result"
    }
   ],
   "source": [
    "np.sum(logistic_model.y_pred_binary)"
   ]
  },
  {
   "cell_type": "code",
   "execution_count": 58,
   "metadata": {},
   "outputs": [
    {
     "name": "stdout",
     "output_type": "stream",
     "text": [
      "Optimal threshold: 0.0404, FNR : 0.1000\n"
     ]
    }
   ],
   "source": [
    "threshold, obtained_fnr = select_threshold_by_fnr(logistic_model.y_test, logistic_model.y_pred, desired_fnr=0.1)\n",
    "print(f\"Optimal threshold: {threshold:.4f}, FNR : {obtained_fnr:.4f}\")"
   ]
  },
  {
   "cell_type": "code",
   "execution_count": 11,
   "metadata": {},
   "outputs": [],
   "source": [
    "models_info = [dummy_model.get_model_info(), logistic_model.get_model_info()]"
   ]
  },
  {
   "cell_type": "code",
   "execution_count": 33,
   "metadata": {},
   "outputs": [
    {
     "data": {
      "image/png": "[encoded data removed]",
      "text/plain": [
       "\u001b[1m<\u001b[0m\u001b[1;95mFigure\u001b[0m\u001b[39m size 80\u001b[0m\u001b[1;36m0x550\u001b[0m\u001b[39m with \u001b[0m\u001b[1;36m1\u001b[0m\u001b[39m Axes\u001b[0m\u001b[1m>\u001b[0m"
      ]
     },
     "metadata": {},
     "output_type": "display_data"
    },
    {
     "data": {
      "text/plain": [
       "\u001b[1m<\u001b[0m\u001b[1;95mAxes:\u001b[0m\u001b[39m \u001b[0m\u001b[33mtitle\u001b[0m\u001b[39m=\u001b[0m\u001b[1;39m{\u001b[0m\u001b[32m'center'\u001b[0m\u001b[39m: \u001b[0m\u001b[32m'Threshold Plot for LogisticRegression'\u001b[0m\u001b[1;39m}\u001b[0m\u001b[39m, \u001b[0m\u001b[33mxlabel\u001b[0m\u001b[39m=\u001b[0m\u001b[32m'discrimination threshold'\u001b[0m\u001b[39m, \u001b[0m\u001b[33mylabel\u001b[0m\u001b[39m=\u001b[0m\u001b[32m'score'\u001b[0m\u001b[1m>\u001b[0m"
      ]
     },
     "execution_count": null,
     "metadata": {},
     "output_type": "execute_result"
    }
   ],
   "source": [
    "from yellowbrick.classifier import DiscriminationThreshold\n",
    "\n",
    "visualizer = DiscriminationThreshold(\n",
    "    logistic_model.best_model, fbeta=logistic_model.beta\n",
    ")\n",
    "\n",
    "visualizer.fit(\n",
    "    logistic_model.X_train, logistic_model.y_train\n",
    ")\n",
    "visualizer.show()"
   ]
  },
  {
   "cell_type": "code",
   "execution_count": null,
   "metadata": {},
   "outputs": [],
   "source": [
    "random_forest.load_data(X_train_split, X_val, y_train_split, y_val)\n",
    "random_forest_results = random_forest.find_best_params(\n",
    "    beta=2, search_type=\"random_search\"\n",
    ")\n",
    "print(f\"\\n{random_forest.name} best parameters:\")\n",
    "print(random_forest_results)\n",
    "print(f\"Test fbeta score: {random_forest.evaluate():.4f}\")"
   ]
  },
  {
   "cell_type": "code",
   "execution_count": 297,
   "metadata": {},
   "outputs": [
    {
     "name": "stderr",
     "output_type": "stream",
     "text": [
      "/Users/calh/Desktop/OC/Projet7/.pixi/envs/default/lib/python3.13/site-packages/sklearn/utils/validation.py:2739: UserWarning: X does not have valid feature names, but LGBMClassifier was fitted with feature names\n",
      "  warnings.warn(\n",
      "/Users/calh/Desktop/OC/Projet7/.pixi/envs/default/lib/python3.13/site-packages/sklearn/utils/validation.py:2739: UserWarning: X does not have valid feature names, but LGBMClassifier was fitted with feature names\n",
      "  warnings.warn(\n",
      "/Users/calh/Desktop/OC/Projet7/.pixi/envs/default/lib/python3.13/site-packages/sklearn/utils/validation.py:2739: UserWarning: X does not have valid feature names, but LGBMClassifier was fitted with feature names\n",
      "  warnings.warn(\n",
      "/Users/calh/Desktop/OC/Projet7/.pixi/envs/default/lib/python3.13/site-packages/sklearn/utils/validation.py:2739: UserWarning: X does not have valid feature names, but LGBMClassifier was fitted with feature names\n",
      "  warnings.warn(\n",
      "/Users/calh/Desktop/OC/Projet7/.pixi/envs/default/lib/python3.13/site-packages/sklearn/utils/validation.py:2739: UserWarning: X does not have valid feature names, but LGBMClassifier was fitted with feature names\n",
      "  warnings.warn(\n",
      "/Users/calh/Desktop/OC/Projet7/.pixi/envs/default/lib/python3.13/site-packages/sklearn/utils/validation.py:2739: UserWarning: X does not have valid feature names, but LGBMClassifier was fitted with feature names\n",
      "  warnings.warn(\n",
      "/Users/calh/Desktop/OC/Projet7/.pixi/envs/default/lib/python3.13/site-packages/sklearn/utils/validation.py:2739: UserWarning: X does not have valid feature names, but LGBMClassifier was fitted with feature names\n",
      "  warnings.warn(\n",
      "/Users/calh/Desktop/OC/Projet7/.pixi/envs/default/lib/python3.13/site-packages/sklearn/utils/validation.py:2739: UserWarning: X does not have valid feature names, but LGBMClassifier was fitted with feature names\n",
      "  warnings.warn(\n",
      "/Users/calh/Desktop/OC/Projet7/.pixi/envs/default/lib/python3.13/site-packages/sklearn/utils/validation.py:2739: UserWarning: X does not have valid feature names, but LGBMClassifier was fitted with feature names\n",
      "  warnings.warn(\n",
      "/Users/calh/Desktop/OC/Projet7/.pixi/envs/default/lib/python3.13/site-packages/sklearn/utils/validation.py:2739: UserWarning: X does not have valid feature names, but LGBMClassifier was fitted with feature names\n",
      "  warnings.warn(\n",
      "/Users/calh/Desktop/OC/Projet7/.pixi/envs/default/lib/python3.13/site-packages/sklearn/utils/validation.py:2739: UserWarning: X does not have valid feature names, but LGBMClassifier was fitted with feature names\n",
      "  warnings.warn(\n",
      "/Users/calh/Desktop/OC/Projet7/.pixi/envs/default/lib/python3.13/site-packages/sklearn/utils/validation.py:2739: UserWarning: X does not have valid feature names, but LGBMClassifier was fitted with feature names\n",
      "  warnings.warn(\n",
      "/Users/calh/Desktop/OC/Projet7/.pixi/envs/default/lib/python3.13/site-packages/sklearn/utils/validation.py:2739: UserWarning: X does not have valid feature names, but LGBMClassifier was fitted with feature names\n",
      "  warnings.warn(\n",
      "/Users/calh/Desktop/OC/Projet7/.pixi/envs/default/lib/python3.13/site-packages/sklearn/utils/validation.py:2739: UserWarning: X does not have valid feature names, but LGBMClassifier was fitted with feature names\n",
      "  warnings.warn(\n",
      "/Users/calh/Desktop/OC/Projet7/.pixi/envs/default/lib/python3.13/site-packages/sklearn/utils/validation.py:2739: UserWarning: X does not have valid feature names, but LGBMClassifier was fitted with feature names\n",
      "  warnings.warn(\n",
      "/Users/calh/Desktop/OC/Projet7/.pixi/envs/default/lib/python3.13/site-packages/sklearn/utils/validation.py:2739: UserWarning: X does not have valid feature names, but LGBMClassifier was fitted with feature names\n",
      "  warnings.warn(\n",
      "/Users/calh/Desktop/OC/Projet7/.pixi/envs/default/lib/python3.13/site-packages/sklearn/utils/validation.py:2739: UserWarning: X does not have valid feature names, but LGBMClassifier was fitted with feature names\n",
      "  warnings.warn(\n",
      "/Users/calh/Desktop/OC/Projet7/.pixi/envs/default/lib/python3.13/site-packages/sklearn/utils/validation.py:2739: UserWarning: X does not have valid feature names, but LGBMClassifier was fitted with feature names\n",
      "  warnings.warn(\n",
      "/Users/calh/Desktop/OC/Projet7/.pixi/envs/default/lib/python3.13/site-packages/sklearn/utils/validation.py:2739: UserWarning: X does not have valid feature names, but LGBMClassifier was fitted with feature names\n",
      "  warnings.warn(\n",
      "/Users/calh/Desktop/OC/Projet7/.pixi/envs/default/lib/python3.13/site-packages/sklearn/utils/validation.py:2739: UserWarning: X does not have valid feature names, but LGBMClassifier was fitted with feature names\n",
      "  warnings.warn(\n",
      "/Users/calh/Desktop/OC/Projet7/.pixi/envs/default/lib/python3.13/site-packages/sklearn/utils/validation.py:2739: UserWarning: X does not have valid feature names, but LGBMClassifier was fitted with feature names\n",
      "  warnings.warn(\n",
      "/Users/calh/Desktop/OC/Projet7/.pixi/envs/default/lib/python3.13/site-packages/sklearn/utils/validation.py:2739: UserWarning: X does not have valid feature names, but LGBMClassifier was fitted with feature names\n",
      "  warnings.warn(\n",
      "/Users/calh/Desktop/OC/Projet7/.pixi/envs/default/lib/python3.13/site-packages/sklearn/utils/validation.py:2739: UserWarning: X does not have valid feature names, but LGBMClassifier was fitted with feature names\n",
      "  warnings.warn(\n",
      "/Users/calh/Desktop/OC/Projet7/.pixi/envs/default/lib/python3.13/site-packages/sklearn/utils/validation.py:2739: UserWarning: X does not have valid feature names, but LGBMClassifier was fitted with feature names\n",
      "  warnings.warn(\n",
      "/Users/calh/Desktop/OC/Projet7/.pixi/envs/default/lib/python3.13/site-packages/sklearn/utils/validation.py:2739: UserWarning: X does not have valid feature names, but LGBMClassifier was fitted with feature names\n",
      "  warnings.warn(\n",
      "/Users/calh/Desktop/OC/Projet7/.pixi/envs/default/lib/python3.13/site-packages/sklearn/utils/validation.py:2739: UserWarning: X does not have valid feature names, but LGBMClassifier was fitted with feature names\n",
      "  warnings.warn(\n",
      "/Users/calh/Desktop/OC/Projet7/.pixi/envs/default/lib/python3.13/site-packages/sklearn/utils/validation.py:2739: UserWarning: X does not have valid feature names, but LGBMClassifier was fitted with feature names\n",
      "  warnings.warn(\n",
      "/Users/calh/Desktop/OC/Projet7/.pixi/envs/default/lib/python3.13/site-packages/sklearn/utils/validation.py:2739: UserWarning: X does not have valid feature names, but LGBMClassifier was fitted with feature names\n",
      "  warnings.warn(\n",
      "/Users/calh/Desktop/OC/Projet7/.pixi/envs/default/lib/python3.13/site-packages/sklearn/utils/validation.py:2739: UserWarning: X does not have valid feature names, but LGBMClassifier was fitted with feature names\n",
      "  warnings.warn(\n",
      "/Users/calh/Desktop/OC/Projet7/.pixi/envs/default/lib/python3.13/site-packages/sklearn/utils/validation.py:2739: UserWarning: X does not have valid feature names, but LGBMClassifier was fitted with feature names\n",
      "  warnings.warn(\n",
      "/Users/calh/Desktop/OC/Projet7/.pixi/envs/default/lib/python3.13/site-packages/sklearn/utils/validation.py:2739: UserWarning: X does not have valid feature names, but LGBMClassifier was fitted with feature names\n",
      "  warnings.warn(\n",
      "/Users/calh/Desktop/OC/Projet7/.pixi/envs/default/lib/python3.13/site-packages/sklearn/utils/validation.py:2739: UserWarning: X does not have valid feature names, but LGBMClassifier was fitted with feature names\n",
      "  warnings.warn(\n",
      "/Users/calh/Desktop/OC/Projet7/.pixi/envs/default/lib/python3.13/site-packages/sklearn/utils/validation.py:2739: UserWarning: X does not have valid feature names, but LGBMClassifier was fitted with feature names\n",
      "  warnings.warn(\n",
      "/Users/calh/Desktop/OC/Projet7/.pixi/envs/default/lib/python3.13/site-packages/sklearn/utils/validation.py:2739: UserWarning: X does not have valid feature names, but LGBMClassifier was fitted with feature names\n",
      "  warnings.warn(\n",
      "/Users/calh/Desktop/OC/Projet7/.pixi/envs/default/lib/python3.13/site-packages/sklearn/utils/validation.py:2739: UserWarning: X does not have valid feature names, but LGBMClassifier was fitted with feature names\n",
      "  warnings.warn(\n",
      "/Users/calh/Desktop/OC/Projet7/.pixi/envs/default/lib/python3.13/site-packages/sklearn/utils/validation.py:2739: UserWarning: X does not have valid feature names, but LGBMClassifier was fitted with feature names\n",
      "  warnings.warn(\n",
      "/Users/calh/Desktop/OC/Projet7/.pixi/envs/default/lib/python3.13/site-packages/sklearn/utils/validation.py:2739: UserWarning: X does not have valid feature names, but LGBMClassifier was fitted with feature names\n",
      "  warnings.warn(\n",
      "/Users/calh/Desktop/OC/Projet7/.pixi/envs/default/lib/python3.13/site-packages/sklearn/utils/validation.py:2739: UserWarning: X does not have valid feature names, but LGBMClassifier was fitted with feature names\n",
      "  warnings.warn(\n",
      "/Users/calh/Desktop/OC/Projet7/.pixi/envs/default/lib/python3.13/site-packages/sklearn/utils/validation.py:2739: UserWarning: X does not have valid feature names, but LGBMClassifier was fitted with feature names\n",
      "  warnings.warn(\n",
      "/Users/calh/Desktop/OC/Projet7/.pixi/envs/default/lib/python3.13/site-packages/sklearn/utils/validation.py:2739: UserWarning: X does not have valid feature names, but LGBMClassifier was fitted with feature names\n",
      "  warnings.warn(\n",
      "/Users/calh/Desktop/OC/Projet7/.pixi/envs/default/lib/python3.13/site-packages/sklearn/utils/validation.py:2739: UserWarning: X does not have valid feature names, but LGBMClassifier was fitted with feature names\n",
      "  warnings.warn(\n",
      "/Users/calh/Desktop/OC/Projet7/.pixi/envs/default/lib/python3.13/site-packages/sklearn/utils/validation.py:2739: UserWarning: X does not have valid feature names, but LGBMClassifier was fitted with feature names\n",
      "  warnings.warn(\n",
      "/Users/calh/Desktop/OC/Projet7/.pixi/envs/default/lib/python3.13/site-packages/sklearn/utils/validation.py:2739: UserWarning: X does not have valid feature names, but LGBMClassifier was fitted with feature names\n",
      "  warnings.warn(\n",
      "/Users/calh/Desktop/OC/Projet7/.pixi/envs/default/lib/python3.13/site-packages/sklearn/utils/validation.py:2739: UserWarning: X does not have valid feature names, but LGBMClassifier was fitted with feature names\n",
      "  warnings.warn(\n",
      "/Users/calh/Desktop/OC/Projet7/.pixi/envs/default/lib/python3.13/site-packages/sklearn/utils/validation.py:2739: UserWarning: X does not have valid feature names, but LGBMClassifier was fitted with feature names\n",
      "  warnings.warn(\n",
      "/Users/calh/Desktop/OC/Projet7/.pixi/envs/default/lib/python3.13/site-packages/sklearn/utils/validation.py:2739: UserWarning: X does not have valid feature names, but LGBMClassifier was fitted with feature names\n",
      "  warnings.warn(\n",
      "/Users/calh/Desktop/OC/Projet7/.pixi/envs/default/lib/python3.13/site-packages/sklearn/utils/validation.py:2739: UserWarning: X does not have valid feature names, but LGBMClassifier was fitted with feature names\n",
      "  warnings.warn(\n",
      "/Users/calh/Desktop/OC/Projet7/.pixi/envs/default/lib/python3.13/site-packages/sklearn/utils/validation.py:2739: UserWarning: X does not have valid feature names, but LGBMClassifier was fitted with feature names\n",
      "  warnings.warn(\n",
      "/Users/calh/Desktop/OC/Projet7/.pixi/envs/default/lib/python3.13/site-packages/sklearn/utils/validation.py:2739: UserWarning: X does not have valid feature names, but LGBMClassifier was fitted with feature names\n",
      "  warnings.warn(\n",
      "/Users/calh/Desktop/OC/Projet7/.pixi/envs/default/lib/python3.13/site-packages/sklearn/utils/validation.py:2739: UserWarning: X does not have valid feature names, but LGBMClassifier was fitted with feature names\n",
      "  warnings.warn(\n",
      "/Users/calh/Desktop/OC/Projet7/.pixi/envs/default/lib/python3.13/site-packages/sklearn/utils/validation.py:2739: UserWarning: X does not have valid feature names, but LGBMClassifier was fitted with feature names\n",
      "  warnings.warn(\n",
      "/Users/calh/Desktop/OC/Projet7/.pixi/envs/default/lib/python3.13/site-packages/sklearn/utils/validation.py:2739: UserWarning: X does not have valid feature names, but LGBMClassifier was fitted with feature names\n",
      "  warnings.warn(\n",
      "/Users/calh/Desktop/OC/Projet7/.pixi/envs/default/lib/python3.13/site-packages/sklearn/utils/validation.py:2739: UserWarning: X does not have valid feature names, but LGBMClassifier was fitted with feature names\n",
      "  warnings.warn(\n",
      "/Users/calh/Desktop/OC/Projet7/.pixi/envs/default/lib/python3.13/site-packages/sklearn/utils/validation.py:2739: UserWarning: X does not have valid feature names, but LGBMClassifier was fitted with feature names\n",
      "  warnings.warn(\n",
      "/Users/calh/Desktop/OC/Projet7/.pixi/envs/default/lib/python3.13/site-packages/sklearn/utils/validation.py:2739: UserWarning: X does not have valid feature names, but LGBMClassifier was fitted with feature names\n",
      "  warnings.warn(\n",
      "/Users/calh/Desktop/OC/Projet7/.pixi/envs/default/lib/python3.13/site-packages/sklearn/utils/validation.py:2739: UserWarning: X does not have valid feature names, but LGBMClassifier was fitted with feature names\n",
      "  warnings.warn(\n",
      "/Users/calh/Desktop/OC/Projet7/.pixi/envs/default/lib/python3.13/site-packages/sklearn/utils/validation.py:2739: UserWarning: X does not have valid feature names, but LGBMClassifier was fitted with feature names\n",
      "  warnings.warn(\n",
      "/Users/calh/Desktop/OC/Projet7/.pixi/envs/default/lib/python3.13/site-packages/sklearn/utils/validation.py:2739: UserWarning: X does not have valid feature names, but LGBMClassifier was fitted with feature names\n",
      "  warnings.warn(\n",
      "/Users/calh/Desktop/OC/Projet7/.pixi/envs/default/lib/python3.13/site-packages/sklearn/utils/validation.py:2739: UserWarning: X does not have valid feature names, but LGBMClassifier was fitted with feature names\n",
      "  warnings.warn(\n",
      "/Users/calh/Desktop/OC/Projet7/.pixi/envs/default/lib/python3.13/site-packages/sklearn/utils/validation.py:2739: UserWarning: X does not have valid feature names, but LGBMClassifier was fitted with feature names\n",
      "  warnings.warn(\n",
      "/Users/calh/Desktop/OC/Projet7/.pixi/envs/default/lib/python3.13/site-packages/sklearn/utils/validation.py:2739: UserWarning: X does not have valid feature names, but LGBMClassifier was fitted with feature names\n",
      "  warnings.warn(\n",
      "/Users/calh/Desktop/OC/Projet7/.pixi/envs/default/lib/python3.13/site-packages/sklearn/utils/validation.py:2739: UserWarning: X does not have valid feature names, but LGBMClassifier was fitted with feature names\n",
      "  warnings.warn(\n",
      "/Users/calh/Desktop/OC/Projet7/.pixi/envs/default/lib/python3.13/site-packages/sklearn/utils/validation.py:2739: UserWarning: X does not have valid feature names, but LGBMClassifier was fitted with feature names\n",
      "  warnings.warn(\n",
      "/Users/calh/Desktop/OC/Projet7/.pixi/envs/default/lib/python3.13/site-packages/sklearn/utils/validation.py:2739: UserWarning: X does not have valid feature names, but LGBMClassifier was fitted with feature names\n",
      "  warnings.warn(\n",
      "/Users/calh/Desktop/OC/Projet7/.pixi/envs/default/lib/python3.13/site-packages/sklearn/utils/validation.py:2739: UserWarning: X does not have valid feature names, but LGBMClassifier was fitted with feature names\n",
      "  warnings.warn(\n",
      "/Users/calh/Desktop/OC/Projet7/.pixi/envs/default/lib/python3.13/site-packages/sklearn/utils/validation.py:2739: UserWarning: X does not have valid feature names, but LGBMClassifier was fitted with feature names\n",
      "  warnings.warn(\n",
      "/Users/calh/Desktop/OC/Projet7/.pixi/envs/default/lib/python3.13/site-packages/sklearn/utils/validation.py:2739: UserWarning: X does not have valid feature names, but LGBMClassifier was fitted with feature names\n",
      "  warnings.warn(\n",
      "/Users/calh/Desktop/OC/Projet7/.pixi/envs/default/lib/python3.13/site-packages/sklearn/utils/validation.py:2739: UserWarning: X does not have valid feature names, but LGBMClassifier was fitted with feature names\n",
      "  warnings.warn(\n",
      "/Users/calh/Desktop/OC/Projet7/.pixi/envs/default/lib/python3.13/site-packages/sklearn/utils/validation.py:2739: UserWarning: X does not have valid feature names, but LGBMClassifier was fitted with feature names\n",
      "  warnings.warn(\n",
      "/Users/calh/Desktop/OC/Projet7/.pixi/envs/default/lib/python3.13/site-packages/sklearn/utils/validation.py:2739: UserWarning: X does not have valid feature names, but LGBMClassifier was fitted with feature names\n",
      "  warnings.warn(\n",
      "/Users/calh/Desktop/OC/Projet7/.pixi/envs/default/lib/python3.13/site-packages/sklearn/utils/validation.py:2739: UserWarning: X does not have valid feature names, but LGBMClassifier was fitted with feature names\n",
      "  warnings.warn(\n",
      "/Users/calh/Desktop/OC/Projet7/.pixi/envs/default/lib/python3.13/site-packages/sklearn/utils/validation.py:2739: UserWarning: X does not have valid feature names, but LGBMClassifier was fitted with feature names\n",
      "  warnings.warn(\n",
      "/Users/calh/Desktop/OC/Projet7/.pixi/envs/default/lib/python3.13/site-packages/sklearn/utils/validation.py:2739: UserWarning: X does not have valid feature names, but LGBMClassifier was fitted with feature names\n",
      "  warnings.warn(\n",
      "/Users/calh/Desktop/OC/Projet7/.pixi/envs/default/lib/python3.13/site-packages/sklearn/utils/validation.py:2739: UserWarning: X does not have valid feature names, but LGBMClassifier was fitted with feature names\n",
      "  warnings.warn(\n",
      "/Users/calh/Desktop/OC/Projet7/.pixi/envs/default/lib/python3.13/site-packages/sklearn/utils/validation.py:2739: UserWarning: X does not have valid feature names, but LGBMClassifier was fitted with feature names\n",
      "  warnings.warn(\n",
      "/Users/calh/Desktop/OC/Projet7/.pixi/envs/default/lib/python3.13/site-packages/sklearn/utils/validation.py:2739: UserWarning: X does not have valid feature names, but LGBMClassifier was fitted with feature names\n",
      "  warnings.warn(\n",
      "/Users/calh/Desktop/OC/Projet7/.pixi/envs/default/lib/python3.13/site-packages/sklearn/utils/validation.py:2739: UserWarning: X does not have valid feature names, but LGBMClassifier was fitted with feature names\n",
      "  warnings.warn(\n",
      "/Users/calh/Desktop/OC/Projet7/.pixi/envs/default/lib/python3.13/site-packages/sklearn/utils/validation.py:2739: UserWarning: X does not have valid feature names, but LGBMClassifier was fitted with feature names\n",
      "  warnings.warn(\n",
      "/Users/calh/Desktop/OC/Projet7/.pixi/envs/default/lib/python3.13/site-packages/sklearn/utils/validation.py:2739: UserWarning: X does not have valid feature names, but LGBMClassifier was fitted with feature names\n",
      "  warnings.warn(\n",
      "/Users/calh/Desktop/OC/Projet7/.pixi/envs/default/lib/python3.13/site-packages/sklearn/utils/validation.py:2739: UserWarning: X does not have valid feature names, but LGBMClassifier was fitted with feature names\n",
      "  warnings.warn(\n",
      "/Users/calh/Desktop/OC/Projet7/.pixi/envs/default/lib/python3.13/site-packages/sklearn/utils/validation.py:2739: UserWarning: X does not have valid feature names, but LGBMClassifier was fitted with feature names\n",
      "  warnings.warn(\n",
      "/Users/calh/Desktop/OC/Projet7/.pixi/envs/default/lib/python3.13/site-packages/sklearn/utils/validation.py:2739: UserWarning: X does not have valid feature names, but LGBMClassifier was fitted with feature names\n",
      "  warnings.warn(\n",
      "/Users/calh/Desktop/OC/Projet7/.pixi/envs/default/lib/python3.13/site-packages/sklearn/utils/validation.py:2739: UserWarning: X does not have valid feature names, but LGBMClassifier was fitted with feature names\n",
      "  warnings.warn(\n",
      "/Users/calh/Desktop/OC/Projet7/.pixi/envs/default/lib/python3.13/site-packages/sklearn/utils/validation.py:2739: UserWarning: X does not have valid feature names, but LGBMClassifier was fitted with feature names\n",
      "  warnings.warn(\n",
      "/Users/calh/Desktop/OC/Projet7/.pixi/envs/default/lib/python3.13/site-packages/sklearn/utils/validation.py:2739: UserWarning: X does not have valid feature names, but LGBMClassifier was fitted with feature names\n",
      "  warnings.warn(\n",
      "/Users/calh/Desktop/OC/Projet7/.pixi/envs/default/lib/python3.13/site-packages/sklearn/utils/validation.py:2739: UserWarning: X does not have valid feature names, but LGBMClassifier was fitted with feature names\n",
      "  warnings.warn(\n",
      "/Users/calh/Desktop/OC/Projet7/.pixi/envs/default/lib/python3.13/site-packages/sklearn/utils/validation.py:2739: UserWarning: X does not have valid feature names, but LGBMClassifier was fitted with feature names\n",
      "  warnings.warn(\n",
      "/Users/calh/Desktop/OC/Projet7/.pixi/envs/default/lib/python3.13/site-packages/sklearn/utils/validation.py:2739: UserWarning: X does not have valid feature names, but LGBMClassifier was fitted with feature names\n",
      "  warnings.warn(\n",
      "/Users/calh/Desktop/OC/Projet7/.pixi/envs/default/lib/python3.13/site-packages/sklearn/utils/validation.py:2739: UserWarning: X does not have valid feature names, but LGBMClassifier was fitted with feature names\n",
      "  warnings.warn(\n",
      "/Users/calh/Desktop/OC/Projet7/.pixi/envs/default/lib/python3.13/site-packages/sklearn/utils/validation.py:2739: UserWarning: X does not have valid feature names, but LGBMClassifier was fitted with feature names\n",
      "  warnings.warn(\n"
     ]
    },
    {
     "name": "stdout",
     "output_type": "stream",
     "text": [
      "Best parameters: {'learning_rate': 0.1, 'max_depth': 7, 'n_estimators': 200}\n",
      "Best score: 0.025598510084308933\n",
      "fbeta score (β=10) = {'fbeta score': 0.9202152740516722}\n",
      "Evaluation metrics: {'fbeta score': 0.9202152740516722, 'precision': 0.5795454545454546, 'recall': 0.030915336431602342, 'f1': 0.058699405332821794, 'roc_auc': np.float64(0.5144763052706514)}\n"
     ]
    }
   ],
   "source": [
    "lgbm_model.load_data(X_train_split, X_val, y_train_split, y_val)\n",
    "\n",
    "# Find best parameters using grid search\n",
    "best_params = lgbm_model.find_best_params(cv=5, beta=10, method=\"grid_search\")\n",
    "print(\"Best parameters:\", best_params[\"best_params\"])\n",
    "print(\"Best score:\", best_params[\"best_score\"])\n",
    "\n",
    "# Evaluate the model\n",
    "lgbm_results = lgbm_model.evaluate(\n",
    "    # metrics=[\"precision\", \"recall\", \"f1\", \"roc_auc\"]\n",
    "    # metrics=[\"precision\", \"recall\", \"f1\", \"roc_auc\"]\n",
    "    metrics=[\"roc_auc\"]\n",
    ")\n",
    "pprint(\"Evaluation metrics:\", lgbm_results)"
   ]
  },
  {
   "cell_type": "markdown",
   "metadata": {},
   "source": [
    "---"
   ]
  },
  {
   "cell_type": "code",
   "execution_count": null,
   "metadata": {},
   "outputs": [],
   "source": []
  },
  {
   "cell_type": "markdown",
   "metadata": {},
   "source": [
    "---"
   ]
  },
  {
   "cell_type": "markdown",
   "metadata": {},
   "source": [
    "## Save data"
   ]
  },
  {
   "cell_type": "code",
   "execution_count": null,
   "metadata": {},
   "outputs": [],
   "source": [
    "import pickle\n",
    "\n",
    "with open(\"../../data/processed/logistic_model.pkl\", \"wb\") as file:\n",
    "    pickle.dump(logistic_model.best_model, file)\n"
   ]
  },
  {
   "cell_type": "code",
   "execution_count": 16,
   "metadata": {},
   "outputs": [
    {
     "data": {
      "text/plain": [
       "['../../data/processed/app_train_domain.joblib']"
      ]
     },
     "execution_count": null,
     "metadata": {},
     "output_type": "execute_result"
    }
   ],
   "source": [
    "import joblib\n",
    "\n",
    "joblib.dump(\n",
    "    logistic_model.y_pred, \"../../data/processed/logistic_y_pred.joblib\", compress=True\n",
    ")\n",
    "joblib.dump(\n",
    "    logistic_model.y_test, \"../../data/processed/logistic_y_test.joblib\", compress=True\n",
    ")\n",
    "joblib.dump(\n",
    "    app_test_domain, \"../../data/processed/app_test_domain.joblib\", compress=True\n",
    ")\n",
    "joblib.dump(\n",
    "    app_train_domain, \"../../data/processed/app_train_domain.joblib\", compress=True\n",
    ")"
   ]
  },
  {
   "cell_type": "markdown",
   "metadata": {},
   "source": [
    "---"
   ]
  },
  {
   "cell_type": "markdown",
   "metadata": {},
   "source": [
    "# MLflow"
   ]
  },
  {
   "cell_type": "code",
   "execution_count": 12,
   "metadata": {},
   "outputs": [],
   "source": [
    "import mlflow\n",
    "from mlflow.models import infer_signature"
   ]
  },
  {
   "cell_type": "code",
   "execution_count": null,
   "metadata": {},
   "outputs": [
    {
     "name": "stderr",
     "output_type": "stream",
     "text": [
      "Processing models:   0%|          | 0/3 [00:00<?, ?it/s][Parallel(n_jobs=-1)]: Using backend LokyBackend with 10 concurrent workers.\n",
      "2025/04/09 15:14:49 WARNING mlflow.utils.environment: Failed to resolve installed pip version. ``pip`` will be added to conda.yaml environment spec without a version specifier.\n",
      "Registered model 'Logistic Regression_reg' already exists. Creating a new version of this model...\n",
      "2025/04/09 15:16:02 INFO mlflow.store.model_registry.abstract_store: Waiting up to 300 seconds for model version to finish creation. Model name: Logistic Regression_reg, version 8\n",
      "Created version '8' of model 'Logistic Regression_reg'.\n",
      "Processing models:  33%|███▎      | 1/3 [01:44<03:28, 104.07s/it]"
     ]
    },
    {
     "name": "stdout",
     "output_type": "stream",
     "text": [
      "🏃 View run Logistic Regression at: http://localhost:5001/#/experiments/201311528320565050/runs/ba14492b2f294889a9268f844556c62f\n",
      "🧪 View experiment at: http://localhost:5001/#/experiments/201311528320565050\n"
     ]
    },
    {
     "name": "stderr",
     "output_type": "stream",
     "text": [
      "[Parallel(n_jobs=-4)]: Using backend ThreadingBackend with 7 concurrent workers.\n",
      "[Parallel(n_jobs=-4)]: Done  36 tasks      | elapsed:    7.4s\n",
      "[Parallel(n_jobs=-4)]: Done 100 out of 100 | elapsed:   17.9s finished\n",
      "[Parallel(n_jobs=7)]: Using backend ThreadingBackend with 7 concurrent workers.\n",
      "[Parallel(n_jobs=7)]: Done  36 tasks      | elapsed:    0.5s\n",
      "[Parallel(n_jobs=7)]: Done 100 out of 100 | elapsed:    1.3s finished\n",
      "2025/04/09 15:16:50 WARNING mlflow.utils.environment: Failed to resolve installed pip version. ``pip`` will be added to conda.yaml environment spec without a version specifier.\n",
      "[Parallel(n_jobs=7)]: Using backend ThreadingBackend with 7 concurrent workers.\n",
      "[Parallel(n_jobs=7)]: Done  36 tasks      | elapsed:    0.5s\n",
      "[Parallel(n_jobs=7)]: Done 100 out of 100 | elapsed:    1.3s finished\n",
      "Registered model 'Random Forest_reg' already exists. Creating a new version of this model...\n",
      "2025/04/09 15:18:09 INFO mlflow.store.model_registry.abstract_store: Waiting up to 300 seconds for model version to finish creation. Model name: Random Forest_reg, version 6\n",
      "Created version '6' of model 'Random Forest_reg'.\n",
      "Processing models:  67%|██████▋   | 2/3 [03:51<01:57, 117.75s/it]"
     ]
    },
    {
     "name": "stdout",
     "output_type": "stream",
     "text": [
      "🏃 View run Random Forest at: http://localhost:5001/#/experiments/201311528320565050/runs/44021e6eed95485ea679ca610b1b4a62\n",
      "🧪 View experiment at: http://localhost:5001/#/experiments/201311528320565050\n"
     ]
    },
    {
     "name": "stderr",
     "output_type": "stream",
     "text": [
      "[Parallel(n_jobs=-4)]: Using backend ThreadingBackend with 7 concurrent workers.\n",
      "[Parallel(n_jobs=-4)]: Done  36 tasks      | elapsed:    7.1s\n",
      "[Parallel(n_jobs=-4)]: Done 100 out of 100 | elapsed:   17.6s finished\n",
      "[Parallel(n_jobs=7)]: Using backend ThreadingBackend with 7 concurrent workers.\n",
      "[Parallel(n_jobs=7)]: Done  36 tasks      | elapsed:    0.5s\n",
      "[Parallel(n_jobs=7)]: Done 100 out of 100 | elapsed:    1.2s finished\n",
      "2025/04/09 15:18:56 WARNING mlflow.utils.environment: Failed to resolve installed pip version. ``pip`` will be added to conda.yaml environment spec without a version specifier.\n",
      "[Parallel(n_jobs=7)]: Using backend ThreadingBackend with 7 concurrent workers.\n",
      "[Parallel(n_jobs=7)]: Done  36 tasks      | elapsed:    0.5s\n",
      "[Parallel(n_jobs=7)]: Done 100 out of 100 | elapsed:    1.4s finished\n",
      "Registered model 'Random Forest with SMOTE_reg' already exists. Creating a new version of this model...\n",
      "2025/04/09 15:20:11 INFO mlflow.store.model_registry.abstract_store: Waiting up to 300 seconds for model version to finish creation. Model name: Random Forest with SMOTE_reg, version 6\n",
      "Created version '6' of model 'Random Forest with SMOTE_reg'.\n",
      "Processing models: 100%|██████████| 3/3 [05:52<00:00, 117.64s/it]\n"
     ]
    },
    {
     "name": "stdout",
     "output_type": "stream",
     "text": [
      "🏃 View run Random Forest with SMOTE at: http://localhost:5001/#/experiments/201311528320565050/runs/b7d10d7839ad44048ed25fb6f3e79b7d\n",
      "🧪 View experiment at: http://localhost:5001/#/experiments/201311528320565050\n"
     ]
    }
   ],
   "source": [
    "# Initialize MLflow\n",
    "mlflow.set_tracking_uri(\"http://localhost:5001\")\n",
    "mlflow.set_experiment(\"MLflow try2\")\n",
    "# might need to run 'mlflow server --host 127.0.0.1 --port 5001' in the terminal if issues\n",
    "\n",
    "for i, element in enumerate(tqdm(models, desc=\"Processing models\")):\n",
    "    model_name = element[0]\n",
    "    params = element[1]\n",
    "    model = element[2]\n",
    "\n",
    "    # The signature wants the input (X_train) and the output (y_train_pred)\n",
    "    # We fit the model so we can use .predict(X_train)\n",
    "    X_sample = random.sample(X_train, k=5)\n",
    "    y_sample = random.sample(y_train, k=5)\n",
    "    model.fit(X_sample, y_sample)\n",
    "    signature = infer_signature(X_sample, model.predict(X_sample), params=params)\n",
    "\n",
    "    with mlflow.start_run(run_name=model_name):\n",
    "        mlflow.log_params(params)\n",
    "\n",
    "        if model_name in cv_results_dict:\n",
    "            metrics = cv_results_dict[model_name]\n",
    "            mlflow.log_metrics(  # we take the mean of the metric since we have 5 cv results for each model\n",
    "                {\n",
    "                    \"roc_auc\": metrics.get(\"test_roc_auc\", []).mean(),\n",
    "                    \"accuracy\": metrics.get(\"test_accuracy\", []).mean(),\n",
    "                    \"precision\": metrics.get(\"test_precision\", []).mean(),\n",
    "                    \"recall\": metrics.get(\"test_recall\", []).mean(),\n",
    "                    \"f1\": metrics.get(\"test_f1\", []).mean(),\n",
    "                    \"fit_time\": metrics.get(\"fit_time\", []).mean(),\n",
    "                }\n",
    "            )\n",
    "\n",
    "        mlflow.sklearn.log_model(\n",
    "            model,\n",
    "            \"model\",\n",
    "            signature=signature,\n",
    "            input_example=X_train,\n",
    "            registered_model_name=f\"{model_name}_reg\",\n",
    "        )"
   ]
  },
  {
   "cell_type": "code",
   "execution_count": null,
   "metadata": {},
   "outputs": [],
   "source": [
    "# mlflow.end_run()"
   ]
  },
  {
   "cell_type": "code",
   "execution_count": null,
   "metadata": {},
   "outputs": [],
   "source": [
    "# Initialize MLflow\n",
    "mlflow.set_tracking_uri(\"http://localhost:5002\")\n",
    "mlflow.set_experiment(\"MLflow try3\")\n",
    "# might need to run 'mlflow server --host 127.0.0.1 --port 5002' in the terminal if issues\n",
    "# if using pixi: run 'pixi shell' before the mlflow line at the root directory of the project. Needed because mlflow is installed in the project env and not in the global env, thus the CLI is not accessible in the regular shell.\n",
    "\n",
    "for model_info in tqdm(models_info, desc=\"Processing models\"):\n",
    "    model_name = model_info['name']\n",
    "    params = model_info['params']\n",
    "    estimator = model_info['estimator']\n",
    "    best_model = model_info['best_model']\n",
    "    results = model_info['results']\n",
    "    X_test = model_info['X_test']\n",
    "    y_train = model_info['y_train']\n",
    "\n",
    "    # Create a sample for signature inference\n",
    "    if X_test is not None:\n",
    "        X_sample = X_test[:5]  # Take first 5 samples from X_test\n",
    "        \n",
    "        # Only fit if we have training data and it's not already the best model\n",
    "        if y_train is not None and best_model is None:\n",
    "            y_sample = y_train[:5]\n",
    "            best_model.fit(X_sample, y_sample)\n",
    "            \n",
    "        signature = infer_signature(X_sample, best_model.predict(X_sample), params=params)\n",
    "        input_example = X_sample\n",
    "    else:\n",
    "        signature = None\n",
    "        input_example = None\n",
    "    \n",
    "    with mlflow.start_run(run_name=model_name):\n",
    "        # Log parameters\n",
    "        mlflow.log_params(params)\n",
    "        \n",
    "        # Log metrics from the results if available\n",
    "        if results is not None:\n",
    "            metrics_to_log = {}\n",
    "            \n",
    "            for metric_name, metric_value in results.items():\n",
    "                metrics_to_log[metric_name] = metric_value\n",
    "            \n",
    "            # Log the metrics\n",
    "            if metrics_to_log:\n",
    "                mlflow.log_metrics(metrics_to_log)\n",
    "        \n",
    "        # Log the model\n",
    "        mlflow.sklearn.log_model(\n",
    "            best_model,\n",
    "            \"model\",\n",
    "            signature=signature,\n",
    "            input_example=input_example,\n",
    "            registered_model_name=f\"{model_name}_reg\",\n",
    "        )"
   ]
  },
  {
   "cell_type": "code",
   "execution_count": 18,
   "metadata": {},
   "outputs": [
    {
     "data": {
      "text/plain": [
       "\n",
       "\u001b[1m[\u001b[0m\n",
       "    \u001b[1m{\u001b[0m\n",
       "        \u001b[32m'name'\u001b[0m: \u001b[32m'Dummy Classifier'\u001b[0m,\n",
       "        \u001b[32m'estimator'\u001b[0m: \u001b[1;35mDummyClassifier\u001b[0m\u001b[1m(\u001b[0m\u001b[33mrandom_state\u001b[0m=\u001b[1;36m42\u001b[0m\u001b[1m)\u001b[0m,\n",
       "        \u001b[32m'params'\u001b[0m: \u001b[1m{\u001b[0m\n",
       "            \u001b[32m'strategy'\u001b[0m: \u001b[1m{\u001b[0m\n",
       "                \u001b[32m'type'\u001b[0m: \u001b[32m'str'\u001b[0m,\n",
       "                \u001b[32m'values'\u001b[0m: \u001b[1m[\u001b[0m\n",
       "                    \u001b[32m'most_frequent'\u001b[0m,\n",
       "                    \u001b[32m'stratified'\u001b[0m,\n",
       "                    \u001b[32m'uniform'\u001b[0m\n",
       "                \u001b[1m]\u001b[0m\n",
       "            \u001b[1m}\u001b[0m\n",
       "        \u001b[1m}\u001b[0m,\n",
       "        \u001b[32m'best_model'\u001b[0m: \u001b[1;35mDummyClassifier\u001b[0m\u001b[1m(\u001b[0m\u001b[33mrandom_state\u001b[0m=\u001b[1;36m42\u001b[0m, \u001b[33mstrategy\u001b[0m=\u001b[32m'uniform'\u001b[0m\u001b[1m)\u001b[0m,\n",
       "        \u001b[32m'X_train'\u001b[0m: \u001b[1;35marray\u001b[0m\u001b[1m(\u001b[0m\u001b[1m[\u001b[0m\u001b[1m[\u001b[0m\u001b[1;36m0.00000000e+00\u001b[0m, \u001b[1;36m1.24258010e-03\u001b[0m, \u001b[1;36m1.27408989e-01\u001b[0m, \u001b[33m...\u001b[0m,\n",
       "        \u001b[1;36m0.00000000e+00\u001b[0m, \u001b[1;36m0.00000000e+00\u001b[0m, \u001b[1;36m0.00000000e+00\u001b[0m\u001b[1m]\u001b[0m,\n",
       "       \u001b[1m[\u001b[0m\u001b[1;36m5.26315789e-02\u001b[0m, \u001b[1;36m1.12717019e-03\u001b[0m, \u001b[1;36m3.82235955e-02\u001b[0m, \u001b[33m...\u001b[0m,\n",
       "        \u001b[1;36m0.00000000e+00\u001b[0m, \u001b[1;36m1.00000000e+00\u001b[0m, \u001b[1;36m0.00000000e+00\u001b[0m\u001b[1m]\u001b[0m,\n",
       "       \u001b[1m[\u001b[0m\u001b[1;36m0.00000000e+00\u001b[0m, \u001b[1;36m9.34820326e-04\u001b[0m, \u001b[1;36m1.82597753e-01\u001b[0m, \u001b[33m...\u001b[0m,\n",
       "        \u001b[1;36m0.00000000e+00\u001b[0m, \u001b[1;36m0.00000000e+00\u001b[0m, \u001b[1;36m0.00000000e+00\u001b[0m\u001b[1m]\u001b[0m,\n",
       "       \u001b[33m...\u001b[0m,\n",
       "       \u001b[1m[\u001b[0m\u001b[1;36m0.00000000e+00\u001b[0m, \u001b[1;36m3.62771838e-03\u001b[0m, \u001b[1;36m2.69662921e-01\u001b[0m, \u001b[33m...\u001b[0m,\n",
       "        \u001b[1;36m0.00000000e+00\u001b[0m, \u001b[1;36m1.00000000e+00\u001b[0m, \u001b[1;36m0.00000000e+00\u001b[0m\u001b[1m]\u001b[0m,\n",
       "       \u001b[1m[\u001b[0m\u001b[1;36m5.26315789e-02\u001b[0m, \u001b[1;36m1.31952005e-03\u001b[0m, \u001b[1;36m5.61797753e-02\u001b[0m, \u001b[33m...\u001b[0m,\n",
       "        \u001b[1;36m0.00000000e+00\u001b[0m, \u001b[1;36m1.00000000e+00\u001b[0m, \u001b[1;36m0.00000000e+00\u001b[0m\u001b[1m]\u001b[0m,\n",
       "       \u001b[1m[\u001b[0m\u001b[1;36m0.00000000e+00\u001b[0m, \u001b[1;36m1.12717019e-03\u001b[0m, \u001b[1;36m1.70984270e-01\u001b[0m, \u001b[33m...\u001b[0m,\n",
       "        \u001b[1;36m0.00000000e+00\u001b[0m, \u001b[1;36m0.00000000e+00\u001b[0m, \u001b[1;36m0.00000000e+00\u001b[0m\u001b[1m]\u001b[0m\u001b[1m]\u001b[0m,\n",
       "      \u001b[33mshape\u001b[0m=\u001b[1m(\u001b[0m\u001b[1;36m246008\u001b[0m, \u001b[1;36m246\u001b[0m\u001b[1m)\u001b[0m\u001b[1m)\u001b[0m,\n",
       "        \u001b[32m'X_test'\u001b[0m: \u001b[1;35marray\u001b[0m\u001b[1m(\u001b[0m\u001b[1m[\u001b[0m\u001b[1m[\u001b[0m\u001b[1;36m1.05263158e-01\u001b[0m, \u001b[1;36m1.55033988e-03\u001b[0m, \u001b[1;36m1.04983146e-01\u001b[0m, \u001b[33m...\u001b[0m,\n",
       "        \u001b[1;36m0.00000000e+00\u001b[0m, \u001b[1;36m0.00000000e+00\u001b[0m, \u001b[1;36m0.00000000e+00\u001b[0m\u001b[1m]\u001b[0m,\n",
       "       \u001b[1m[\u001b[0m\u001b[1;36m0.00000000e+00\u001b[0m, \u001b[1;36m1.89656963e-03\u001b[0m, \u001b[1;36m3.08792135e-01\u001b[0m, \u001b[33m...\u001b[0m,\n",
       "        \u001b[1;36m0.00000000e+00\u001b[0m, \u001b[1;36m1.00000000e+00\u001b[0m, \u001b[1;36m0.00000000e+00\u001b[0m\u001b[1m]\u001b[0m,\n",
       "       \u001b[1m[\u001b[0m\u001b[1;36m0.00000000e+00\u001b[0m, \u001b[1;36m1.51186991e-03\u001b[0m, \u001b[1;36m1.12359551e-01\u001b[0m, \u001b[33m...\u001b[0m,\n",
       "        \u001b[1;36m0.00000000e+00\u001b[0m, \u001b[1;36m0.00000000e+00\u001b[0m, \u001b[1;36m0.00000000e+00\u001b[0m\u001b[1m]\u001b[0m,\n",
       "       \u001b[33m...\u001b[0m,\n",
       "       \u001b[1m[\u001b[0m\u001b[1;36m0.00000000e+00\u001b[0m, \u001b[1;36m8.19410409e-04\u001b[0m, \u001b[1;36m5.23595506e-02\u001b[0m, \u001b[33m...\u001b[0m,\n",
       "        \u001b[1;36m0.00000000e+00\u001b[0m, \u001b[1;36m1.00000000e+00\u001b[0m, \u001b[1;36m0.00000000e+00\u001b[0m\u001b[1m]\u001b[0m,\n",
       "       \u001b[1m[\u001b[0m\u001b[1;36m5.26315789e-02\u001b[0m, \u001b[1;36m7.42470465e-04\u001b[0m, \u001b[1;36m3.16883146e-01\u001b[0m, \u001b[33m...\u001b[0m,\n",
       "        \u001b[1;36m0.00000000e+00\u001b[0m, \u001b[1;36m0.00000000e+00\u001b[0m, \u001b[1;36m0.00000000e+00\u001b[0m\u001b[1m]\u001b[0m,\n",
       "       \u001b[1m[\u001b[0m\u001b[1;36m0.00000000e+00\u001b[0m, \u001b[1;36m1.12717019e-03\u001b[0m, \u001b[1;36m1.18921348e-01\u001b[0m, \u001b[33m...\u001b[0m,\n",
       "        \u001b[1;36m0.00000000e+00\u001b[0m, \u001b[1;36m0.00000000e+00\u001b[0m, \u001b[1;36m0.00000000e+00\u001b[0m\u001b[1m]\u001b[0m\u001b[1m]\u001b[0m,\n",
       "      \u001b[33mshape\u001b[0m=\u001b[1m(\u001b[0m\u001b[1;36m61503\u001b[0m, \u001b[1;36m246\u001b[0m\u001b[1m)\u001b[0m\u001b[1m)\u001b[0m,\n",
       "        \u001b[32m'y_train'\u001b[0m: \u001b[1;36m123473\u001b[0m    \u001b[1;36m0\u001b[0m\n",
       "\u001b[1;36m10118\u001b[0m     \u001b[1;36m0\u001b[0m\n",
       "\u001b[1;36m64716\u001b[0m     \u001b[1;36m1\u001b[0m\n",
       "\u001b[1;36m234940\u001b[0m    \u001b[1;36m0\u001b[0m\n",
       "\u001b[1;36m236051\u001b[0m    \u001b[1;36m0\u001b[0m\n",
       "         ..\n",
       "\u001b[1;36m119879\u001b[0m    \u001b[1;36m0\u001b[0m\n",
       "\u001b[1;36m259178\u001b[0m    \u001b[1;36m0\u001b[0m\n",
       "\u001b[1;36m131932\u001b[0m    \u001b[1;36m0\u001b[0m\n",
       "\u001b[1;36m146867\u001b[0m    \u001b[1;36m0\u001b[0m\n",
       "\u001b[1;36m121958\u001b[0m    \u001b[1;36m1\u001b[0m\n",
       "Name: TARGET, Length: \u001b[1;36m246008\u001b[0m, dtype: int64,\n",
       "        \u001b[32m'results'\u001b[0m: \u001b[1m{\u001b[0m\u001b[1;36m0.5005446888769653\u001b[0m\u001b[1m}\u001b[0m\n",
       "    \u001b[1m}\u001b[0m,\n",
       "    \u001b[1m{\u001b[0m\n",
       "        \u001b[32m'name'\u001b[0m: \u001b[32m'Logistic Regression'\u001b[0m,\n",
       "        \u001b[32m'estimator'\u001b[0m: \u001b[1;35mLogisticRegression\u001b[0m\u001b[1m(\u001b[0m\u001b[33mn_jobs\u001b[0m=\u001b[1;36m1\u001b[0m, \u001b[33mrandom_state\u001b[0m=\u001b[1;36m42\u001b[0m, \u001b[33mverbose\u001b[0m=\u001b[1;36m1\u001b[0m\u001b[1m)\u001b[0m,\n",
       "        \u001b[32m'params'\u001b[0m: \u001b[1m{\u001b[0m\n",
       "            \u001b[32m'C'\u001b[0m: \u001b[1m{\u001b[0m\n",
       "                \u001b[32m'type'\u001b[0m: \u001b[32m'float'\u001b[0m,\n",
       "                \u001b[32m'values'\u001b[0m: \u001b[1m[\u001b[0m\n",
       "                    \u001b[1;36m1.0\u001b[0m,\n",
       "                    \u001b[1;36m1.2915496650148839\u001b[0m,\n",
       "                    \u001b[1;36m1.6681005372000588\u001b[0m,\n",
       "                    \u001b[1;36m2.154434690031884\u001b[0m,\n",
       "                    \u001b[1;36m2.7825594022071245\u001b[0m,\n",
       "                    \u001b[1;36m3.5938136638046276\u001b[0m,\n",
       "                    \u001b[1;36m4.641588833612778\u001b[0m,\n",
       "                    \u001b[1;36m5.994842503189409\u001b[0m,\n",
       "                    \u001b[1;36m7.742636826811269\u001b[0m,\n",
       "                    \u001b[1;36m10.0\u001b[0m\n",
       "                \u001b[1m]\u001b[0m\n",
       "            \u001b[1m}\u001b[0m,\n",
       "            \u001b[32m'tol'\u001b[0m: \u001b[1m{\u001b[0m\u001b[32m'type'\u001b[0m: \u001b[32m'int'\u001b[0m, \u001b[32m'values'\u001b[0m: \u001b[1m[\u001b[0m\u001b[1;36m0.001\u001b[0m, \u001b[1;36m0.01\u001b[0m\u001b[1m]\u001b[0m\u001b[1m}\u001b[0m\n",
       "        \u001b[1m}\u001b[0m,\n",
       "        \u001b[32m'best_model'\u001b[0m: \u001b[1;35mLogisticRegression\u001b[0m\u001b[1m(\u001b[0m\u001b[33mC\u001b[0m=\u001b[1;36m4\u001b[0m\u001b[1;36m.641588833612778\u001b[0m, \u001b[33mn_jobs\u001b[0m=\u001b[1;36m1\u001b[0m, \u001b[33mrandom_state\u001b[0m=\u001b[1;36m42\u001b[0m, \u001b[33mtol\u001b[0m=\u001b[1;36m0\u001b[0m\u001b[1;36m.001\u001b[0m,\n",
       "                   \u001b[33mverbose\u001b[0m=\u001b[1;36m1\u001b[0m\u001b[1m)\u001b[0m,\n",
       "        \u001b[32m'X_train'\u001b[0m: \u001b[1;35marray\u001b[0m\u001b[1m(\u001b[0m\u001b[1m[\u001b[0m\u001b[1m[\u001b[0m\u001b[1;36m0.00000000e+00\u001b[0m, \u001b[1;36m1.24258010e-03\u001b[0m, \u001b[1;36m1.27408989e-01\u001b[0m, \u001b[33m...\u001b[0m,\n",
       "        \u001b[1;36m0.00000000e+00\u001b[0m, \u001b[1;36m0.00000000e+00\u001b[0m, \u001b[1;36m0.00000000e+00\u001b[0m\u001b[1m]\u001b[0m,\n",
       "       \u001b[1m[\u001b[0m\u001b[1;36m5.26315789e-02\u001b[0m, \u001b[1;36m1.12717019e-03\u001b[0m, \u001b[1;36m3.82235955e-02\u001b[0m, \u001b[33m...\u001b[0m,\n",
       "        \u001b[1;36m0.00000000e+00\u001b[0m, \u001b[1;36m1.00000000e+00\u001b[0m, \u001b[1;36m0.00000000e+00\u001b[0m\u001b[1m]\u001b[0m,\n",
       "       \u001b[1m[\u001b[0m\u001b[1;36m0.00000000e+00\u001b[0m, \u001b[1;36m9.34820326e-04\u001b[0m, \u001b[1;36m1.82597753e-01\u001b[0m, \u001b[33m...\u001b[0m,\n",
       "        \u001b[1;36m0.00000000e+00\u001b[0m, \u001b[1;36m0.00000000e+00\u001b[0m, \u001b[1;36m0.00000000e+00\u001b[0m\u001b[1m]\u001b[0m,\n",
       "       \u001b[33m...\u001b[0m,\n",
       "       \u001b[1m[\u001b[0m\u001b[1;36m0.00000000e+00\u001b[0m, \u001b[1;36m3.62771838e-03\u001b[0m, \u001b[1;36m2.69662921e-01\u001b[0m, \u001b[33m...\u001b[0m,\n",
       "        \u001b[1;36m0.00000000e+00\u001b[0m, \u001b[1;36m1.00000000e+00\u001b[0m, \u001b[1;36m0.00000000e+00\u001b[0m\u001b[1m]\u001b[0m,\n",
       "       \u001b[1m[\u001b[0m\u001b[1;36m5.26315789e-02\u001b[0m, \u001b[1;36m1.31952005e-03\u001b[0m, \u001b[1;36m5.61797753e-02\u001b[0m, \u001b[33m...\u001b[0m,\n",
       "        \u001b[1;36m0.00000000e+00\u001b[0m, \u001b[1;36m1.00000000e+00\u001b[0m, \u001b[1;36m0.00000000e+00\u001b[0m\u001b[1m]\u001b[0m,\n",
       "       \u001b[1m[\u001b[0m\u001b[1;36m0.00000000e+00\u001b[0m, \u001b[1;36m1.12717019e-03\u001b[0m, \u001b[1;36m1.70984270e-01\u001b[0m, \u001b[33m...\u001b[0m,\n",
       "        \u001b[1;36m0.00000000e+00\u001b[0m, \u001b[1;36m0.00000000e+00\u001b[0m, \u001b[1;36m0.00000000e+00\u001b[0m\u001b[1m]\u001b[0m\u001b[1m]\u001b[0m,\n",
       "      \u001b[33mshape\u001b[0m=\u001b[1m(\u001b[0m\u001b[1;36m246008\u001b[0m, \u001b[1;36m246\u001b[0m\u001b[1m)\u001b[0m\u001b[1m)\u001b[0m,\n",
       "        \u001b[32m'X_test'\u001b[0m: \u001b[1;35marray\u001b[0m\u001b[1m(\u001b[0m\u001b[1m[\u001b[0m\u001b[1m[\u001b[0m\u001b[1;36m1.05263158e-01\u001b[0m, \u001b[1;36m1.55033988e-03\u001b[0m, \u001b[1;36m1.04983146e-01\u001b[0m, \u001b[33m...\u001b[0m,\n",
       "        \u001b[1;36m0.00000000e+00\u001b[0m, \u001b[1;36m0.00000000e+00\u001b[0m, \u001b[1;36m0.00000000e+00\u001b[0m\u001b[1m]\u001b[0m,\n",
       "       \u001b[1m[\u001b[0m\u001b[1;36m0.00000000e+00\u001b[0m, \u001b[1;36m1.89656963e-03\u001b[0m, \u001b[1;36m3.08792135e-01\u001b[0m, \u001b[33m...\u001b[0m,\n",
       "        \u001b[1;36m0.00000000e+00\u001b[0m, \u001b[1;36m1.00000000e+00\u001b[0m, \u001b[1;36m0.00000000e+00\u001b[0m\u001b[1m]\u001b[0m,\n",
       "       \u001b[1m[\u001b[0m\u001b[1;36m0.00000000e+00\u001b[0m, \u001b[1;36m1.51186991e-03\u001b[0m, \u001b[1;36m1.12359551e-01\u001b[0m, \u001b[33m...\u001b[0m,\n",
       "        \u001b[1;36m0.00000000e+00\u001b[0m, \u001b[1;36m0.00000000e+00\u001b[0m, \u001b[1;36m0.00000000e+00\u001b[0m\u001b[1m]\u001b[0m,\n",
       "       \u001b[33m...\u001b[0m,\n",
       "       \u001b[1m[\u001b[0m\u001b[1;36m0.00000000e+00\u001b[0m, \u001b[1;36m8.19410409e-04\u001b[0m, \u001b[1;36m5.23595506e-02\u001b[0m, \u001b[33m...\u001b[0m,\n",
       "        \u001b[1;36m0.00000000e+00\u001b[0m, \u001b[1;36m1.00000000e+00\u001b[0m, \u001b[1;36m0.00000000e+00\u001b[0m\u001b[1m]\u001b[0m,\n",
       "       \u001b[1m[\u001b[0m\u001b[1;36m5.26315789e-02\u001b[0m, \u001b[1;36m7.42470465e-04\u001b[0m, \u001b[1;36m3.16883146e-01\u001b[0m, \u001b[33m...\u001b[0m,\n",
       "        \u001b[1;36m0.00000000e+00\u001b[0m, \u001b[1;36m0.00000000e+00\u001b[0m, \u001b[1;36m0.00000000e+00\u001b[0m\u001b[1m]\u001b[0m,\n",
       "       \u001b[1m[\u001b[0m\u001b[1;36m0.00000000e+00\u001b[0m, \u001b[1;36m1.12717019e-03\u001b[0m, \u001b[1;36m1.18921348e-01\u001b[0m, \u001b[33m...\u001b[0m,\n",
       "        \u001b[1;36m0.00000000e+00\u001b[0m, \u001b[1;36m0.00000000e+00\u001b[0m, \u001b[1;36m0.00000000e+00\u001b[0m\u001b[1m]\u001b[0m\u001b[1m]\u001b[0m,\n",
       "      \u001b[33mshape\u001b[0m=\u001b[1m(\u001b[0m\u001b[1;36m61503\u001b[0m, \u001b[1;36m246\u001b[0m\u001b[1m)\u001b[0m\u001b[1m)\u001b[0m,\n",
       "        \u001b[32m'y_train'\u001b[0m: \u001b[1;36m123473\u001b[0m    \u001b[1;36m0\u001b[0m\n",
       "\u001b[1;36m10118\u001b[0m     \u001b[1;36m0\u001b[0m\n",
       "\u001b[1;36m64716\u001b[0m     \u001b[1;36m1\u001b[0m\n",
       "\u001b[1;36m234940\u001b[0m    \u001b[1;36m0\u001b[0m\n",
       "\u001b[1;36m236051\u001b[0m    \u001b[1;36m0\u001b[0m\n",
       "         ..\n",
       "\u001b[1;36m119879\u001b[0m    \u001b[1;36m0\u001b[0m\n",
       "\u001b[1;36m259178\u001b[0m    \u001b[1;36m0\u001b[0m\n",
       "\u001b[1;36m131932\u001b[0m    \u001b[1;36m0\u001b[0m\n",
       "\u001b[1;36m146867\u001b[0m    \u001b[1;36m0\u001b[0m\n",
       "\u001b[1;36m121958\u001b[0m    \u001b[1;36m1\u001b[0m\n",
       "Name: TARGET, Length: \u001b[1;36m246008\u001b[0m, dtype: int64,\n",
       "        \u001b[32m'results'\u001b[0m: \u001b[1m{\u001b[0m\u001b[1;36m0.9192071931450498\u001b[0m\u001b[1m}\u001b[0m\n",
       "    \u001b[1m}\u001b[0m\n",
       "\u001b[1m]\u001b[0m"
      ]
     },
     "execution_count": null,
     "metadata": {},
     "output_type": "execute_result"
    }
   ],
   "source": [
    "models_info"
   ]
  },
  {
   "cell_type": "code",
   "execution_count": 23,
   "metadata": {},
   "outputs": [
    {
     "data": {
      "text/plain": [
       "\u001b[1m{\u001b[0m\u001b[1;36m0.5005446888769653\u001b[0m\u001b[1m}\u001b[0m"
      ]
     },
     "execution_count": null,
     "metadata": {},
     "output_type": "execute_result"
    }
   ],
   "source": [
    "models_info[0]['results']"
   ]
  },
  {
   "cell_type": "markdown",
   "metadata": {},
   "source": [
    "---"
   ]
  },
  {
   "cell_type": "markdown",
   "metadata": {},
   "source": [
    "# Scoring Model"
   ]
  },
  {
   "cell_type": "markdown",
   "metadata": {},
   "source": [
    "We sell credits to customers, each assigned a credit score reflecting their repayment probability. Our model calculates this probability, and we must decide the acceptable risk level for non-repayment.\n",
    "\n",
    "In the credit sector, failed contracts are costlier than successful ones, so we aim to minimize failures. The simplest solution—not selling any contracts—guarantees no failures but isn't plausible.\n",
    "\n",
    "We must balance risk to sustain activity, setting thresholds to reject high-risk contracts while not rejecting too many good ones. This can be modeled as an optimization problem for activity costs.\n",
    "\n",
    "There are four possible outcomes:\n",
    "- True positives/negatives: Correct predictions.\n",
    "- False positives: Customers repay, but the model predicts failure.\n",
    "- False negatives: Customers fail to repay, but the model predicts success.\n",
    "\n",
    "**Steps:**\n",
    "\n",
    "1. Set the ratio between **CFP** (Cost of False Positives) and **CFN** (Cost of False Negatives) based on business knowledge.\n",
    "2. Compute the total cost and select the smallest one.\n",
    "\n",
    "**Total Cost = (FP × CFP) + (FN × CFN)**\n",
    "\n",
    "Since false positives are costlier, **CFP > CFN**. To find the best model, compute the total cost for each and choose the one with the lowest cost. This approach works for any **CFP** to **CFN** ratio."
   ]
  },
  {
   "cell_type": "code",
   "execution_count": null,
   "metadata": {},
   "outputs": [],
   "source": [
    "# Arbitrary ratio: 1 FP to 10 FN\n",
    "# Convert probabilities to class labels\n",
    "y_pred_classes = (y_pred >= 0.5).astype(int)\n",
    "# For testing: the RandomForestClassifier is the best model\n"
   ]
  },
  {
   "cell_type": "code",
   "execution_count": null,
   "metadata": {},
   "outputs": [],
   "source": [
    "1 FN = 10 FP"
   ]
  }
 ],
 "metadata": {
  "language_info": {
   "name": "python"
  }
 },
 "nbformat": 4,
 "nbformat_minor": 2
}
